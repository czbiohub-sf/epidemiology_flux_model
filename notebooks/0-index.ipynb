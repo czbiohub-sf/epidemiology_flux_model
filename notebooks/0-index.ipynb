{
 "cells": [
  {
   "cell_type": "markdown",
   "id": "44c25299-0f92-4664-a3b0-9eca15872d1c",
   "metadata": {},
   "source": [
    "# INDEX\n",
    "<span style=\"color:gray;\">A model based on a high-resolution flux matrix explains the spread of diseases in a spatial network and the effect of mitigation strategies</span>"
   ]
  },
  {
   "cell_type": "markdown",
   "id": "48d2a42f-431a-4432-903c-9190ca17d6f2",
   "metadata": {},
   "source": [
    "In this folder, we use mobility data from [SafeGraph](https://www.safegraph.com/) to model the spreading of the COVID-19.\n",
    "\n",
    "* [1-clustering](1-clustering.ipynb). In this notebook, we perform the initial clustering of the SafeGraph Census Block Groups into communities. The hierarchical clustering is time consuming so do not re-run this unless necessary. The SafeGraph open census dataset can be found [here](https://www.safegraph.com/free-data/open-census-data).\n",
    "* [2-fluxes](2-fluxes.ipynb). In this notebook, we analyze the clustering obtained in the previous step, and the flux matrices obtained with the script [compute_flux_matrices.py](../code/compute_flux_matrices.py). We also show that the cell phone coverage from SafeGraph is a good proxy for actual population by comparing them with the Census Bureau reported populations.\n",
    "* [03-import_cssegi](03-import_cssegi.ipynb). In this notebook, we assign CSSEGI data to the communities constructed in [01-clustering](01-clustering.ipynb). Data reported in the CSSEGI dataset is assigned to a community based on the latitude and longitude. The data produced in this notebook is used to calibrate the model to real data on COVID-19 spreading.\n",
    "* [04-nearest_neighbors](04-nearest_neighbors.ipynb). In this notebook, we study the spatial structure of the communities. In particular, we compute the matrix of distances between communities.\n",
    "* [05-SIR_dynamics_fit](05-SIR_dynamics_fit.ipynb). In this notebook, we fit the model to the real data from CSSEGI produced in [03-import_cssegi](03-import_cssegi.ipynb). We adjust a single-parameter at each time-step so as to reproduce the reported total number of COVID-19 infections in the US. We then compare the spatial spreading predicted by the model and the spatial spreading reported by CSSEGI data.\n",
    "* 06-simulations:\n",
    "  * [01-piecewise](06-simulations/01-piecewise.ipynb). We check whether a model with piecewise scales fits the spreading of the epidemics.\n",
    "  * [02-nearest_neighbors](06-simulations/02-nearest_neighbors.ipynb). We check the effect of truncating interactions to nearest neighbors. We try different values for the cutoff.\n",
    "  * [03-rosenzweig-porter](06-simulations/03-rosenzweig-porter.ipynb). Study of the spreading of epidemics with random matrices taken from the Rosensweig-Porter ensemble.\n",
    "  * [04-noisy_dynamics](06-simulations/04-noisy_dynamics.ipynb). Study the effect of having one new random infectivity matrix every day instead of a constant one for the whole dynamics. Check the effect of noise.\n",
    "  * [05-geometries](06-simulations/05-geometries.ipynb). Investigate the effect of having lattices of different aspect ratio in the case of a nearest neighbors dynamics.\n",
    "  * [06-dynamics_nearest_neighbors](06-simulations/06-dynamics_nearest_neighbors.ipynb). Efficient simulations of the nearest neighbors dynamics."
   ]
  },
  {
   "cell_type": "code",
   "execution_count": null,
   "id": "586e7c67-c0f1-4c59-868f-6d92ad9ea65d",
   "metadata": {},
   "outputs": [],
   "source": []
  }
 ],
 "metadata": {
  "kernelspec": {
   "display_name": "Python 3",
   "language": "python",
   "name": "python3"
  },
  "language_info": {
   "codemirror_mode": {
    "name": "ipython",
    "version": 3
   },
   "file_extension": ".py",
   "mimetype": "text/x-python",
   "name": "python",
   "nbconvert_exporter": "python",
   "pygments_lexer": "ipython3",
   "version": "3.8.5"
  }
 },
 "nbformat": 4,
 "nbformat_minor": 5
}
