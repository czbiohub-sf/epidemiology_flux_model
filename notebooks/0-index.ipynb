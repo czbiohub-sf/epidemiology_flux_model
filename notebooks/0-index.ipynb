{
 "cells": [
  {
   "cell_type": "markdown",
   "id": "44c25299-0f92-4664-a3b0-9eca15872d1c",
   "metadata": {},
   "source": [
    "# INDEX\n",
    "<span style=\"color:gray;\">A model based on a high-resolution flux matrix explains the spread of diseases in a spatial network and the effect of mitigation strategies</span>"
   ]
  },
  {
   "cell_type": "markdown",
   "id": "48d2a42f-431a-4432-903c-9190ca17d6f2",
   "metadata": {},
   "source": [
    "In this folder, we use mobility data from [SafeGraph](https://www.safegraph.com/) to model the spreading of the COVID-19.\n",
    "\n",
    "* [1-clustering](1-clustering.ipynb). In this notebook, we perform the initial clustering of the SafeGraph Census Block Groups into communities. The hierarchical clustering is time consuming so do not re-run this unless necessary. The SafeGraph open census dataset can be found [here](https://www.safegraph.com/free-data/open-census-data).\n",
    "* [2-fluxes](2-fluxes.ipynb). In this notebook, we analyze the clustering obtained in the previous step, and the flux matrices obtained with the script [compute_flux_matrices.py](../code/compute_flux_matrices.py). We also show that the cell phone coverage from SafeGraph is a good proxy for actual population by comparing them with the Census Bureau reported populations.\n",
    "* [3-import_cssegi](3-import_cssegi.ipynb). In this notebook, we assign CSSEGI data to the communities constructed in [1-clustering](1-clustering.ipynb). Data reported in the CSSEGI dataset is assigned to a community based on the latitude and longitude. The data produced in this notebook is used to calibrate the model to real data for COVID-19 spreading.\n",
    "* [4-distances](4-distances.ipynb). In this notebook, we study the spatial structure of the communities. In particular, we compute the matrix of distances between communities.\n",
    "* [5-SIR_dynamics_fit](5-SIR_dynamics_fit.ipynb). In this notebook, we fit the model to the real data from CSSEGI produced in [3-import_cssegi](3-import_cssegi.ipynb). We adjust a single-parameter at each time-step so as to reproduce the reported total number of COVID-19 infections in the US. We then compare the spatial spreading predicted by the model and the spatial spreading reported by CSSEGI data.\n",
    "* 6-simulations:\n",
    "  * [61-simplified_model](6-simulations/61-simplified_model.ipynb). We check whether a model with a sigmoid time evolution for the scale fits the spreading of the epidemics.\n",
    "  * [62-distance_cutoff](6-simulations/62-distance_cutoff.ipynb). We check the effect of truncating interactions to nearest neighbors, based on a distance cutoff. We try different values for the cutoff.\n",
    "  * [63-lattice_2d_nneighbors_loop_beta](6-simulations/63-lattice_2d_nneighbors_loop_beta.ipynb). We perform SIR simulations of a spatial model on a lattice with nearest-neighbors interactions only. We vary the infectivity rate $\\beta$.\n",
    "  * [64-lattice_2d_nneighbors_loop_n2](6-simulations/64-lattice_2d_nneighbors_loop_n2.ipynb). We perform SIR simulations of a spatial model on a lattice with nearest-neighbors interactions only. We vary the aspect ratio of the rectangular lattice.\n",
    "* 7-wave_analysis:\n",
    "  * [71-ode_gamma_eq0](7-wave_analysis/71-ode_gamma_eq0.ipynb). We solve the wave profile when the recovery rate $\\gamma = 0$.\n",
    "  * [72-ode_gamma_neq0](7-wave_analysis/72-ode_gamma_neq0.ipynb). We solve the wave profile when the recovery rate $\\gamma > 0$.\n",
    "* [8-infectivity_matrix_properties](8-infectivity_matrix_properties.ipynb). We show the random matrix properties of the infectivity matrices."
   ]
  }
 ],
 "metadata": {
  "kernelspec": {
   "display_name": "Python 3",
   "language": "python",
   "name": "python3"
  },
  "language_info": {
   "codemirror_mode": {
    "name": "ipython",
    "version": 3
   },
   "file_extension": ".py",
   "mimetype": "text/x-python",
   "name": "python",
   "nbconvert_exporter": "python",
   "pygments_lexer": "ipython3",
   "version": "3.8.5"
  }
 },
 "nbformat": 4,
 "nbformat_minor": 5
}
