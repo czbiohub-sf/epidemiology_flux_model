{
 "cells": [
  {
   "cell_type": "markdown",
   "id": "44c25299-0f92-4664-a3b0-9eca15872d1c",
   "metadata": {},
   "source": [
    "# INDEX\n",
    "<span style=\"color:gray;\">A high-resolution flux-matrix model describes the spread of diseases in a spatial network and the effect of mitigation strategies</span>"
   ]
  },
  {
   "cell_type": "markdown",
   "id": "48d2a42f-431a-4432-903c-9190ca17d6f2",
   "metadata": {},
   "source": [
    "We list here from which notebooks the figures and movies presented in the manuscript were generated.\n",
    "\n",
    "| Figure or movie | Notebook |\n",
    "| --- | --- |\n",
    "| Figure 1 | [1-clustering](1-clustering.ipynb)\n",
    "| Figure 2 | [6-LSQ_fit_scales_simplified](6-LSQ_fit_scales_simplified.ipynb) |\n",
    "| Figure 3 | [8-distance_cutoff_policy](8-distance_cutoff_policy.ipynb) |\n",
    "| Figure 4 | [9-lattice_2d_nneighbors](9-lattice_2d_nneighbors.ipynb)|\n",
    "| Figure 5 | [12-infectivity_matrix_properties](12-infectivity_matrix_properties.ipynb), Matlab script |\n",
    "| Figure S1 | [6-LSQ_fit_scales_simplified](6-LSQ_fit_scales_simplified.ipynb) |\n",
    "| Figure S2 | [9-lattice_2d_nneighbors](9-lattice_2d_nneighbors.ipynb) |\n",
    "| Figure S3 | [12-infectivity_matrix_properties](12-infectivity_matrix_properties.ipynb) |\n",
    "| Figure S4 | [6-LSQ_fit_scales_simplified](6-LSQ_fit_scales_simplified.ipynb), [7-LSQ_fit_optimal_betamat](7-LSQ_fit_optimal_betamat.ipynb)|\n",
    "| Figure S5 | [10-lattice_2d_pulled_wave](10-lattice_2d_pulled_wave.ipynb) |\n",
    "| Figure S6 | [11-ode_traveling_front](11-ode_traveling_front.ipynb) |\n",
    "| Figure S7 | Matlab script |\n",
    "| Figure S8 | Matlab script |\n",
    "| Movie S1 | [6-LSQ_fit_scales_simplified](6-LSQ_fit_scales_simplified.ipynb) |\n",
    "| Movie S2 | [6-LSQ_fit_scales_simplified](6-LSQ_fit_scales_simplified.ipynb) |\n",
    "| Movie S3 | [8-distance_cutoff_policy](8-distance_cutoff_policy.ipynb) |\n",
    "| Movie S4 | [9-lattice_2d_nneighbors](9-lattice_2d_nneighbors.ipynb) |\n",
    "| Movie S5 | Matlab script |\n",
    "| Movie S6 | Matlab script |\n",
    "| Movie S7 | Matlab script |\n",
    "\n",
    "\n",
    "Here is a summary of what is performed in each notebook.\n",
    "* [1-clustering](1-clustering.ipynb). In this notebook, we perform the initial clustering of the SafeGraph Census Block Groups into communities. The hierarchical clustering is time consuming so do not re-run this unless necessary. The SafeGraph open census dataset can be found [here](https://www.safegraph.com/free-data/open-census-data).\n",
    "* [2-fluxes](2-fluxes.ipynb). In this notebook, we analyze the clustering obtained in the previous step, and the flux matrices obtained with the script [compute_flux_matrices.py](../code/compute_flux_matrices.py). We also show that the cell phone coverage from SafeGraph is a good proxy for actual population by comparing them with the Census Bureau reported populations.\n",
    "* [3-import_cssegi](3-import_cssegi.ipynb). In this notebook, we assign CSSEGI data to the communities constructed in [1-clustering](1-clustering.ipynb). Data reported in the CSSEGI dataset is assigned to a community based on the latitude and longitude. The data produced in this notebook is used to calibrate the model to real data for COVID-19 spreading.\n",
    "* [4-distances](4-distances.ipynb). In this notebook, we study the spatial structure of the communities. In particular, we compute the matrix of distances between communities.\n",
    "* [5-LSQ_fit_scales](5-LSQ_fit_scales.ipynb). In this notebook, we fit the model to the real data from CSSEGI produced in [3-import_cssegi](3-import_cssegi.ipynb). We adjust a single-parameter at each time-step so as to minimize the errors with reported cases of COVID-19 infections in the US. We perform the fit with different types of infectivity matrices.\n",
    "* [6-LSQ_fit_scales_simplified](6-LSQ_fit_scales_simplified.ipynb). Similar to [5-LSQ_fit_scales](5-LSQ_fit_scales.ipynb), but the scale parameter is constrained to a functional shape which resembles a ramp function.\n",
    "* [7-LSQ_fit_optimal_betamat](7-LSQ_fit_optimal_betamat.ipynb). In this notebook, we find the optimal infectivity matrices by fitting every day $N^2$ transmission rates so as to minimize the errors with reported cases of COVID-19 infections in the US.\n",
    "* [8-distance_cutoff_policy](8-distance_cutoff_policy.ipynb). We check the effect of truncating interactions to nearest neighbors, based on a distance cutoff. We try different values for the cutoff.\n",
    "* [9-lattice_2d_nneighbors](9-lattice_2d_nneighbors.ipynb). We perform SIR simulations on a 2d lattice with nearest-neighbors interactions only. We vary the rescaled recovery rate $\\tilde{\\gamma}$.\n",
    "* [10-lattice_2d_pulled_wave](10-lattice_2d_pulled_wave.ipynb). We show that the simulations of the SIR dynamics on a 2d lattice produce a pulled moving front, and show the agreement of the velocity with theoretical predictions.\n",
    "* [11-ode_traveling_front](11-ode_traveling_front.ipynb). We compute the shape of the traveling front solution to the SIR dynamics with nearest-neighbors interactions on a 2d lattice.\n",
    "* [12-infectivity_matrix_properties](12-infectivity_matrix_properties.ipynb). We show the random matrix properties of the SafeGraph derived infectivity matrices.\n",
    "\n",
    "In this study, we use mobility data from [SafeGraph](https://www.safegraph.com/) to model the spreading of the COVID-19."
   ]
  }
 ],
 "metadata": {
  "kernelspec": {
   "display_name": "Python 3",
   "language": "python",
   "name": "python3"
  },
  "language_info": {
   "codemirror_mode": {
    "name": "ipython",
    "version": 3
   },
   "file_extension": ".py",
   "mimetype": "text/x-python",
   "name": "python",
   "nbconvert_exporter": "python",
   "pygments_lexer": "ipython3",
   "version": "3.8.5"
  }
 },
 "nbformat": 4,
 "nbformat_minor": 5
}
