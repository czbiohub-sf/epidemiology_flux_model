{
 "cells": [
  {
   "cell_type": "markdown",
   "id": "accessible-champion",
   "metadata": {},
   "source": [
    "# Nearest neighbors\n",
    "[Index](0-index.ipynb)\n",
    "\n",
    "Here we compute matrices the matrix of distances between communities, $[d_{ab}]$."
   ]
  },
  {
   "cell_type": "markdown",
   "id": "hazardous-quebec",
   "metadata": {},
   "source": [
    "## Imports and global variables"
   ]
  },
  {
   "cell_type": "code",
   "execution_count": 1,
   "id": "industrial-iceland",
   "metadata": {
    "execution": {
     "iopub.execute_input": "2022-08-16T01:34:02.097840Z",
     "iopub.status.busy": "2022-08-16T01:34:02.096589Z",
     "iopub.status.idle": "2022-08-16T01:34:02.472303Z",
     "shell.execute_reply": "2022-08-16T01:34:02.470950Z"
    },
    "tags": []
   },
   "outputs": [],
   "source": [
    "%load_ext autoreload\n",
    "%autoreload 2\n",
    "%matplotlib inline"
   ]
  },
  {
   "cell_type": "code",
   "execution_count": 2,
   "id": "substantial-vaccine",
   "metadata": {
    "execution": {
     "iopub.execute_input": "2022-08-16T01:34:02.478997Z",
     "iopub.status.busy": "2022-08-16T01:34:02.477782Z",
     "iopub.status.idle": "2022-08-16T01:34:02.852404Z",
     "shell.execute_reply": "2022-08-16T01:34:02.851354Z"
    },
    "tags": []
   },
   "outputs": [],
   "source": [
    "from pathlib import Path\n",
    "import sys\n",
    "import numpy as np\n",
    "import pandas as pd\n",
    "import geopandas as gpd\n",
    "import datetime\n",
    "\n",
    "import matplotlib.pyplot as plt\n",
    "import matplotlib.colors as mco\n",
    "import matplotlib.gridspec as mgs\n",
    "import matplotlib.ticker as ticker\n",
    "import matplotlib.cm as cm\n",
    "from matplotlib import animation\n",
    "plt.rcParams['svg.fonttype'] = 'none'\n",
    "\n",
    "from IPython.display import HTML\n",
    "from IPython.display import Image"
   ]
  },
  {
   "cell_type": "code",
   "execution_count": 3,
   "id": "received-cowboy",
   "metadata": {
    "execution": {
     "iopub.execute_input": "2022-08-16T01:34:02.858800Z",
     "iopub.status.busy": "2022-08-16T01:34:02.857597Z",
     "iopub.status.idle": "2022-08-16T01:34:03.869017Z",
     "shell.execute_reply": "2022-08-16T01:34:03.868038Z"
    },
    "tags": []
   },
   "outputs": [],
   "source": [
    "sys.path.append('../code')\n",
    "from functions import show_image, geo_dist"
   ]
  },
  {
   "cell_type": "code",
   "execution_count": 4,
   "id": "artistic-judge",
   "metadata": {
    "execution": {
     "iopub.execute_input": "2022-08-16T01:34:03.875311Z",
     "iopub.status.busy": "2022-08-16T01:34:03.874207Z",
     "iopub.status.idle": "2022-08-16T01:34:03.913891Z",
     "shell.execute_reply": "2022-08-16T01:34:03.912903Z"
    },
    "tags": []
   },
   "outputs": [],
   "source": [
    "resdir = Path('../results/')\n",
    "if not resdir.is_dir():\n",
    "    raise ValueError('No results directory!')"
   ]
  },
  {
   "cell_type": "code",
   "execution_count": 5,
   "id": "resistant-response",
   "metadata": {
    "execution": {
     "iopub.execute_input": "2022-08-16T01:34:03.920408Z",
     "iopub.status.busy": "2022-08-16T01:34:03.919210Z",
     "iopub.status.idle": "2022-08-16T01:34:05.415143Z",
     "shell.execute_reply": "2022-08-16T01:34:05.416100Z"
    },
    "tags": []
   },
   "outputs": [
    {
     "name": "stdout",
     "output_type": "stream",
     "text": [
      "File safegraph_analysis has 2188 entries.\n"
     ]
    }
   ],
   "source": [
    "resfile = resdir / 'safegraph_analysis.hdf5'\n",
    "complevel=7\n",
    "complib='zlib'\n",
    "with pd.HDFStore(resfile, complevel=complevel, complib=complib) as store:\n",
    "    print(f\"File {resfile.stem} has {len(store.keys())} entries.\")"
   ]
  },
  {
   "cell_type": "code",
   "execution_count": 6,
   "id": "negative-horse",
   "metadata": {
    "execution": {
     "iopub.execute_input": "2022-08-16T01:34:05.423338Z",
     "iopub.status.busy": "2022-08-16T01:34:05.422124Z",
     "iopub.status.idle": "2022-08-16T01:34:05.446510Z",
     "shell.execute_reply": "2022-08-16T01:34:05.445702Z"
    },
    "tags": []
   },
   "outputs": [],
   "source": [
    "tfmt = '%Y-%m-%d'"
   ]
  },
  {
   "cell_type": "code",
   "execution_count": 7,
   "id": "3a0d97e5-2986-49c3-8399-ce6a671c682f",
   "metadata": {
    "execution": {
     "iopub.execute_input": "2022-08-16T01:34:05.451148Z",
     "iopub.status.busy": "2022-08-16T01:34:05.450218Z",
     "iopub.status.idle": "2022-08-16T01:34:05.551684Z",
     "shell.execute_reply": "2022-08-16T01:34:05.552625Z"
    },
    "tags": []
   },
   "outputs": [],
   "source": [
    "figdir = Path('../figures') / '4-distances'\n",
    "if not figdir.is_dir():\n",
    "    figdir.mkdir(parents=True, exist_ok=True)\n",
    "exts = ['.png', '.svg']"
   ]
  },
  {
   "cell_type": "markdown",
   "id": "wired-dressing",
   "metadata": {},
   "source": [
    "## Functions\n",
    "We use the [formula](https://en.wikipedia.org/wiki/Geographical_distance) of the Spherical Earth projected to a plane. for the 'Spherical Earth projected to a plane':\n",
    "\\begin{equation}\n",
    "d(M_1,M_2) = R \\sqrt{\\Delta \\phi^2 + \\cos{\\bar{\\phi}} \\Delta \\lambda^2},\n",
    "\\end{equation}\n",
    "where $\\phi$ is the latitude, $\\lambda$ is the longitude, and $\\bar{\\phi} = (\\phi_1 + \\phi_2)/2$. $R = 6, 371.009 \\, \\mathrm{km}$ is the radius of the Earth.\n",
    "\n",
    "Here `X` is the longitude and `Y` is the latitude (see this [notebook](06-cross_compare_cssegi.ipynb))."
   ]
  },
  {
   "cell_type": "code",
   "execution_count": 8,
   "id": "personalized-joshua",
   "metadata": {
    "execution": {
     "iopub.execute_input": "2022-08-16T01:34:05.558955Z",
     "iopub.status.busy": "2022-08-16T01:34:05.557753Z",
     "iopub.status.idle": "2022-08-16T01:34:05.601025Z",
     "shell.execute_reply": "2022-08-16T01:34:05.600258Z"
    },
    "tags": []
   },
   "outputs": [],
   "source": [
    "R_earth = 6.371009e6"
   ]
  },
  {
   "cell_type": "markdown",
   "id": "renewable-sphere",
   "metadata": {},
   "source": [
    "## Clusters"
   ]
  },
  {
   "cell_type": "markdown",
   "id": "enhanced-fitting",
   "metadata": {},
   "source": [
    "### Load clusters"
   ]
  },
  {
   "cell_type": "code",
   "execution_count": 9,
   "id": "corresponding-overhead",
   "metadata": {
    "execution": {
     "iopub.execute_input": "2022-08-16T01:34:05.607042Z",
     "iopub.status.busy": "2022-08-16T01:34:05.606237Z",
     "iopub.status.idle": "2022-08-16T01:34:06.054954Z",
     "shell.execute_reply": "2022-08-16T01:34:06.055920Z"
    },
    "tags": []
   },
   "outputs": [
    {
     "name": "stdout",
     "output_type": "stream",
     "text": [
      "N = 1024\n"
     ]
    },
    {
     "data": {
      "text/html": [
       "<div>\n",
       "<style scoped>\n",
       "    .dataframe tbody tr th:only-of-type {\n",
       "        vertical-align: middle;\n",
       "    }\n",
       "\n",
       "    .dataframe tbody tr th {\n",
       "        vertical-align: top;\n",
       "    }\n",
       "\n",
       "    .dataframe thead th {\n",
       "        text-align: right;\n",
       "    }\n",
       "</style>\n",
       "<table border=\"1\" class=\"dataframe\">\n",
       "  <thead>\n",
       "    <tr style=\"text-align: right;\">\n",
       "      <th></th>\n",
       "      <th>leaves</th>\n",
       "      <th>X</th>\n",
       "      <th>Y</th>\n",
       "      <th>cbg_clusters</th>\n",
       "      <th>population</th>\n",
       "      <th>mobile_count</th>\n",
       "    </tr>\n",
       "    <tr>\n",
       "      <th>index</th>\n",
       "      <th></th>\n",
       "      <th></th>\n",
       "      <th></th>\n",
       "      <th></th>\n",
       "      <th></th>\n",
       "      <th></th>\n",
       "    </tr>\n",
       "  </thead>\n",
       "  <tbody>\n",
       "    <tr>\n",
       "      <th>0</th>\n",
       "      <td>746</td>\n",
       "      <td>-65.794825</td>\n",
       "      <td>18.277415</td>\n",
       "      <td>[720531504003, 720531501044, 720531505001, 720...</td>\n",
       "      <td>390728</td>\n",
       "      <td>8705.198547</td>\n",
       "    </tr>\n",
       "    <tr>\n",
       "      <th>1</th>\n",
       "      <td>458</td>\n",
       "      <td>-66.083320</td>\n",
       "      <td>18.131576</td>\n",
       "      <td>[720572702011, 720572703004, 720572705001, 720...</td>\n",
       "      <td>488287</td>\n",
       "      <td>10942.351090</td>\n",
       "    </tr>\n",
       "    <tr>\n",
       "      <th>2</th>\n",
       "      <td>873</td>\n",
       "      <td>-66.079340</td>\n",
       "      <td>18.396328</td>\n",
       "      <td>[720210307001, 720210310113, 720210316223, 720...</td>\n",
       "      <td>1011530</td>\n",
       "      <td>28389.915254</td>\n",
       "    </tr>\n",
       "    <tr>\n",
       "      <th>3</th>\n",
       "      <td>8</td>\n",
       "      <td>-66.344566</td>\n",
       "      <td>18.363775</td>\n",
       "      <td>[720399559001, 720399556001, 720399557001, 720...</td>\n",
       "      <td>425126</td>\n",
       "      <td>9988.154964</td>\n",
       "    </tr>\n",
       "    <tr>\n",
       "      <th>4</th>\n",
       "      <td>641</td>\n",
       "      <td>-66.582628</td>\n",
       "      <td>18.044742</td>\n",
       "      <td>[721130724005, 721130727011, 721130727012, 721...</td>\n",
       "      <td>354598</td>\n",
       "      <td>12057.116223</td>\n",
       "    </tr>\n",
       "    <tr>\n",
       "      <th>...</th>\n",
       "      <td>...</td>\n",
       "      <td>...</td>\n",
       "      <td>...</td>\n",
       "      <td>...</td>\n",
       "      <td>...</td>\n",
       "      <td>...</td>\n",
       "    </tr>\n",
       "    <tr>\n",
       "      <th>1019</th>\n",
       "      <td>911</td>\n",
       "      <td>-158.026269</td>\n",
       "      <td>21.423245</td>\n",
       "      <td>[150030078092, 150030078102, 150030099044, 150...</td>\n",
       "      <td>459209</td>\n",
       "      <td>22780.496368</td>\n",
       "    </tr>\n",
       "    <tr>\n",
       "      <th>1020</th>\n",
       "      <td>7</td>\n",
       "      <td>-157.813184</td>\n",
       "      <td>21.329035</td>\n",
       "      <td>[150090318011, 150099900000, 150030047001, 150...</td>\n",
       "      <td>529047</td>\n",
       "      <td>21868.060533</td>\n",
       "    </tr>\n",
       "    <tr>\n",
       "      <th>1021</th>\n",
       "      <td>392</td>\n",
       "      <td>-156.517054</td>\n",
       "      <td>20.867763</td>\n",
       "      <td>[150090311032, 150090304042, 150090309034, 150...</td>\n",
       "      <td>161290</td>\n",
       "      <td>7878.004843</td>\n",
       "    </tr>\n",
       "    <tr>\n",
       "      <th>1022</th>\n",
       "      <td>808</td>\n",
       "      <td>-155.865732</td>\n",
       "      <td>19.692965</td>\n",
       "      <td>[150010216012, 150010214023, 150010216041, 150...</td>\n",
       "      <td>88670</td>\n",
       "      <td>3758.949153</td>\n",
       "    </tr>\n",
       "    <tr>\n",
       "      <th>1023</th>\n",
       "      <td>134</td>\n",
       "      <td>-155.089968</td>\n",
       "      <td>19.680449</td>\n",
       "      <td>[150010210053, 150010210052, 150019904000, 150...</td>\n",
       "      <td>105010</td>\n",
       "      <td>4298.900726</td>\n",
       "    </tr>\n",
       "  </tbody>\n",
       "</table>\n",
       "<p>1024 rows × 6 columns</p>\n",
       "</div>"
      ],
      "text/plain": [
       "       leaves           X          Y  \\\n",
       "index                                  \n",
       "0         746  -65.794825  18.277415   \n",
       "1         458  -66.083320  18.131576   \n",
       "2         873  -66.079340  18.396328   \n",
       "3           8  -66.344566  18.363775   \n",
       "4         641  -66.582628  18.044742   \n",
       "...       ...         ...        ...   \n",
       "1019      911 -158.026269  21.423245   \n",
       "1020        7 -157.813184  21.329035   \n",
       "1021      392 -156.517054  20.867763   \n",
       "1022      808 -155.865732  19.692965   \n",
       "1023      134 -155.089968  19.680449   \n",
       "\n",
       "                                            cbg_clusters  population  \\\n",
       "index                                                                  \n",
       "0      [720531504003, 720531501044, 720531505001, 720...      390728   \n",
       "1      [720572702011, 720572703004, 720572705001, 720...      488287   \n",
       "2      [720210307001, 720210310113, 720210316223, 720...     1011530   \n",
       "3      [720399559001, 720399556001, 720399557001, 720...      425126   \n",
       "4      [721130724005, 721130727011, 721130727012, 721...      354598   \n",
       "...                                                  ...         ...   \n",
       "1019   [150030078092, 150030078102, 150030099044, 150...      459209   \n",
       "1020   [150090318011, 150099900000, 150030047001, 150...      529047   \n",
       "1021   [150090311032, 150090304042, 150090309034, 150...      161290   \n",
       "1022   [150010216012, 150010214023, 150010216041, 150...       88670   \n",
       "1023   [150010210053, 150010210052, 150019904000, 150...      105010   \n",
       "\n",
       "       mobile_count  \n",
       "index                \n",
       "0       8705.198547  \n",
       "1      10942.351090  \n",
       "2      28389.915254  \n",
       "3       9988.154964  \n",
       "4      12057.116223  \n",
       "...             ...  \n",
       "1019   22780.496368  \n",
       "1020   21868.060533  \n",
       "1021    7878.004843  \n",
       "1022    3758.949153  \n",
       "1023    4298.900726  \n",
       "\n",
       "[1024 rows x 6 columns]"
      ]
     },
     "execution_count": 1,
     "metadata": {},
     "output_type": "execute_result"
    }
   ],
   "source": [
    "key = \"/clustering/clusters\"\n",
    "with pd.HDFStore(resfile, complevel=complevel, complib=complib) as store:\n",
    "    clusters = store[key]\n",
    "# clusters = pd.read_hdf(resfile, key)\n",
    "N = len(clusters)\n",
    "print(f\"N = {N}\")\n",
    "clusters"
   ]
  },
  {
   "cell_type": "markdown",
   "id": "spanish-opinion",
   "metadata": {},
   "source": [
    "## Compute distance matrix using Spherical Earth projected to a plane formula"
   ]
  },
  {
   "cell_type": "code",
   "execution_count": 10,
   "id": "short-congress",
   "metadata": {
    "execution": {
     "iopub.execute_input": "2022-08-16T01:34:06.063156Z",
     "iopub.status.busy": "2022-08-16T01:34:06.061681Z",
     "iopub.status.idle": "2022-08-16T01:34:06.143300Z",
     "shell.execute_reply": "2022-08-16T01:34:06.142242Z"
    },
    "tags": []
   },
   "outputs": [],
   "source": [
    "XY = clusters.loc[:, ['X','Y']].astype('float64').to_numpy()\n",
    "\n",
    "Long, Lat = XY.T * np.pi/180.\n",
    "\n",
    "LLat1, LLat2 = np.meshgrid(Lat, Lat, indexing='ij')\n",
    "dLLat = LLat1 - LLat2\n",
    "LLat_bar = 0.5*(LLat1 + LLat2)\n",
    "\n",
    "LLong1, LLong2 = np.meshgrid(Long, Long, indexing='ij')\n",
    "dLLong = LLong1 - LLong2\n",
    "\n",
    "D = R_earth * np.sqrt(dLLat**2 + np.cos(LLat_bar)*dLLong**2)"
   ]
  },
  {
   "cell_type": "code",
   "execution_count": 11,
   "id": "white-merchant",
   "metadata": {
    "execution": {
     "iopub.execute_input": "2022-08-16T01:34:06.149637Z",
     "iopub.status.busy": "2022-08-16T01:34:06.148440Z",
     "iopub.status.idle": "2022-08-16T01:34:06.526072Z",
     "shell.execute_reply": "2022-08-16T01:34:06.524981Z"
    },
    "tags": []
   },
   "outputs": [],
   "source": [
    "df_dist = pd.DataFrame(data=D, index=clusters.index, columns=clusters.index)\n",
    "\n",
    "key = \"/clustering/distances\"\n",
    "with pd.HDFStore(resfile, complevel=complevel, complib=complib) as store:\n",
    "    store[key] = df_dist"
   ]
  },
  {
   "cell_type": "markdown",
   "id": "1a02bd57-4eef-41fc-bc9f-e66564864116",
   "metadata": {},
   "source": [
    "Compare with [equirectangular projection](https://en.wikipedia.org/wiki/Equirectangular_projection) distances"
   ]
  },
  {
   "cell_type": "code",
   "execution_count": 12,
   "id": "e52f2153-08f8-49f0-8536-72c6d95a0757",
   "metadata": {
    "execution": {
     "iopub.execute_input": "2022-08-16T01:34:06.533097Z",
     "iopub.status.busy": "2022-08-16T01:34:06.531894Z",
     "iopub.status.idle": "2022-08-16T01:34:06.578840Z",
     "shell.execute_reply": "2022-08-16T01:34:06.577744Z"
    },
    "tags": []
   },
   "outputs": [],
   "source": [
    "P = clusters.loc[:, ['Y', 'X']].to_numpy()\n",
    "PP = np.einsum('ik,jk->ij',P,P)\n",
    "U = np.ones((N,1))\n",
    "Delta = PP.diagonal().reshape(-1,1)\n",
    "Dequi = (U*Delta.T) + (Delta*U.T) - 2*PP\n",
    "Dequi = R_earth * np.pi/180.* np.sqrt(Dequi)"
   ]
  },
  {
   "cell_type": "code",
   "execution_count": 13,
   "id": "57adfc86-bf48-44bb-a0d3-f0f3e64d1efb",
   "metadata": {
    "execution": {
     "iopub.execute_input": "2022-08-16T01:34:06.584952Z",
     "iopub.status.busy": "2022-08-16T01:34:06.583751Z",
     "iopub.status.idle": "2022-08-16T01:34:06.627115Z",
     "shell.execute_reply": "2022-08-16T01:34:06.628844Z"
    },
    "tags": []
   },
   "outputs": [
    {
     "name": "stdout",
     "output_type": "stream",
     "text": [
      "Equirectangular projection error = 15.1 %\n"
     ]
    }
   ],
   "source": [
    "err = np.linalg.norm(D-Dequi)/np.linalg.norm(D)\n",
    "print(\"Equirectangular projection error = {:.1f} %\".format(err*100))"
   ]
  },
  {
   "cell_type": "markdown",
   "id": "preceding-logging",
   "metadata": {},
   "source": [
    "## Some statistics on the actual separation"
   ]
  },
  {
   "cell_type": "code",
   "execution_count": 14,
   "id": "willing-poland",
   "metadata": {
    "execution": {
     "iopub.execute_input": "2022-08-16T01:34:06.638213Z",
     "iopub.status.busy": "2022-08-16T01:34:06.636292Z",
     "iopub.status.idle": "2022-08-16T01:34:06.753593Z",
     "shell.execute_reply": "2022-08-16T01:34:06.754569Z"
    },
    "tags": []
   },
   "outputs": [
    {
     "data": {
      "text/html": [
       "<div>\n",
       "<style scoped>\n",
       "    .dataframe tbody tr th:only-of-type {\n",
       "        vertical-align: middle;\n",
       "    }\n",
       "\n",
       "    .dataframe tbody tr th {\n",
       "        vertical-align: top;\n",
       "    }\n",
       "\n",
       "    .dataframe thead th {\n",
       "        text-align: right;\n",
       "    }\n",
       "</style>\n",
       "<table border=\"1\" class=\"dataframe\">\n",
       "  <thead>\n",
       "    <tr style=\"text-align: right;\">\n",
       "      <th>index</th>\n",
       "      <th>0</th>\n",
       "      <th>1</th>\n",
       "      <th>2</th>\n",
       "      <th>3</th>\n",
       "      <th>4</th>\n",
       "      <th>5</th>\n",
       "      <th>6</th>\n",
       "      <th>7</th>\n",
       "      <th>8</th>\n",
       "      <th>9</th>\n",
       "      <th>...</th>\n",
       "      <th>1014</th>\n",
       "      <th>1015</th>\n",
       "      <th>1016</th>\n",
       "      <th>1017</th>\n",
       "      <th>1018</th>\n",
       "      <th>1019</th>\n",
       "      <th>1020</th>\n",
       "      <th>1021</th>\n",
       "      <th>1022</th>\n",
       "      <th>1023</th>\n",
       "    </tr>\n",
       "    <tr>\n",
       "      <th>index</th>\n",
       "      <th></th>\n",
       "      <th></th>\n",
       "      <th></th>\n",
       "      <th></th>\n",
       "      <th></th>\n",
       "      <th></th>\n",
       "      <th></th>\n",
       "      <th></th>\n",
       "      <th></th>\n",
       "      <th></th>\n",
       "      <th></th>\n",
       "      <th></th>\n",
       "      <th></th>\n",
       "      <th></th>\n",
       "      <th></th>\n",
       "      <th></th>\n",
       "      <th></th>\n",
       "      <th></th>\n",
       "      <th></th>\n",
       "      <th></th>\n",
       "      <th></th>\n",
       "    </tr>\n",
       "  </thead>\n",
       "  <tbody>\n",
       "    <tr>\n",
       "      <th>0</th>\n",
       "      <td>0.000000e+00</td>\n",
       "      <td>3.522132e+04</td>\n",
       "      <td>3.353937e+04</td>\n",
       "      <td>6.032823e+04</td>\n",
       "      <td>8.922338e+04</td>\n",
       "      <td>1.020716e+05</td>\n",
       "      <td>1.423116e+05</td>\n",
       "      <td>1.367488e+05</td>\n",
       "      <td>3.191928e+06</td>\n",
       "      <td>3.076757e+06</td>\n",
       "      <td>...</td>\n",
       "      <td>1.056508e+07</td>\n",
       "      <td>1.084609e+07</td>\n",
       "      <td>1.163205e+07</td>\n",
       "      <td>1.178416e+07</td>\n",
       "      <td>1.010751e+07</td>\n",
       "      <td>9.952485e+06</td>\n",
       "      <td>9.930626e+06</td>\n",
       "      <td>9.796315e+06</td>\n",
       "      <td>9.740499e+06</td>\n",
       "      <td>9.656786e+06</td>\n",
       "    </tr>\n",
       "    <tr>\n",
       "      <th>1</th>\n",
       "      <td>3.522132e+04</td>\n",
       "      <td>0.000000e+00</td>\n",
       "      <td>2.944231e+04</td>\n",
       "      <td>3.831536e+04</td>\n",
       "      <td>5.498573e+04</td>\n",
       "      <td>7.612572e+04</td>\n",
       "      <td>1.141486e+05</td>\n",
       "      <td>1.041719e+05</td>\n",
       "      <td>3.206031e+06</td>\n",
       "      <td>3.090694e+06</td>\n",
       "      <td>...</td>\n",
       "      <td>1.054908e+07</td>\n",
       "      <td>1.082948e+07</td>\n",
       "      <td>1.161449e+07</td>\n",
       "      <td>1.175815e+07</td>\n",
       "      <td>1.007947e+07</td>\n",
       "      <td>9.924250e+06</td>\n",
       "      <td>9.902359e+06</td>\n",
       "      <td>9.767885e+06</td>\n",
       "      <td>9.711705e+06</td>\n",
       "      <td>9.627974e+06</td>\n",
       "    </tr>\n",
       "    <tr>\n",
       "      <th>2</th>\n",
       "      <td>3.353937e+04</td>\n",
       "      <td>2.944231e+04</td>\n",
       "      <td>0.000000e+00</td>\n",
       "      <td>2.895685e+04</td>\n",
       "      <td>6.710617e+04</td>\n",
       "      <td>7.027471e+04</td>\n",
       "      <td>1.109507e+05</td>\n",
       "      <td>1.094806e+05</td>\n",
       "      <td>3.176673e+06</td>\n",
       "      <td>3.061348e+06</td>\n",
       "      <td>...</td>\n",
       "      <td>1.053037e+07</td>\n",
       "      <td>1.081124e+07</td>\n",
       "      <td>1.159690e+07</td>\n",
       "      <td>1.175017e+07</td>\n",
       "      <td>1.007443e+07</td>\n",
       "      <td>9.919505e+06</td>\n",
       "      <td>9.897663e+06</td>\n",
       "      <td>9.763436e+06</td>\n",
       "      <td>9.707797e+06</td>\n",
       "      <td>9.624100e+06</td>\n",
       "    </tr>\n",
       "    <tr>\n",
       "      <th>3</th>\n",
       "      <td>6.032823e+04</td>\n",
       "      <td>3.831536e+04</td>\n",
       "      <td>2.895685e+04</td>\n",
       "      <td>0.000000e+00</td>\n",
       "      <td>4.386493e+04</td>\n",
       "      <td>4.177766e+04</td>\n",
       "      <td>8.226182e+04</td>\n",
       "      <td>8.112963e+04</td>\n",
       "      <td>3.178601e+06</td>\n",
       "      <td>3.063137e+06</td>\n",
       "      <td>...</td>\n",
       "      <td>1.050835e+07</td>\n",
       "      <td>1.078883e+07</td>\n",
       "      <td>1.157388e+07</td>\n",
       "      <td>1.172304e+07</td>\n",
       "      <td>1.004655e+07</td>\n",
       "      <td>9.891557e+06</td>\n",
       "      <td>9.869703e+06</td>\n",
       "      <td>9.735421e+06</td>\n",
       "      <td>9.679656e+06</td>\n",
       "      <td>9.595954e+06</td>\n",
       "    </tr>\n",
       "    <tr>\n",
       "      <th>4</th>\n",
       "      <td>8.922338e+04</td>\n",
       "      <td>5.498573e+04</td>\n",
       "      <td>6.710617e+04</td>\n",
       "      <td>4.386493e+04</td>\n",
       "      <td>0.000000e+00</td>\n",
       "      <td>4.288828e+04</td>\n",
       "      <td>6.809197e+04</td>\n",
       "      <td>5.042405e+04</td>\n",
       "      <td>3.212721e+06</td>\n",
       "      <td>3.097135e+06</td>\n",
       "      <td>...</td>\n",
       "      <td>1.050948e+07</td>\n",
       "      <td>1.078911e+07</td>\n",
       "      <td>1.157288e+07</td>\n",
       "      <td>1.170787e+07</td>\n",
       "      <td>1.002752e+07</td>\n",
       "      <td>9.872132e+06</td>\n",
       "      <td>9.850216e+06</td>\n",
       "      <td>9.715614e+06</td>\n",
       "      <td>9.659143e+06</td>\n",
       "      <td>9.575399e+06</td>\n",
       "    </tr>\n",
       "    <tr>\n",
       "      <th>...</th>\n",
       "      <td>...</td>\n",
       "      <td>...</td>\n",
       "      <td>...</td>\n",
       "      <td>...</td>\n",
       "      <td>...</td>\n",
       "      <td>...</td>\n",
       "      <td>...</td>\n",
       "      <td>...</td>\n",
       "      <td>...</td>\n",
       "      <td>...</td>\n",
       "      <td>...</td>\n",
       "      <td>...</td>\n",
       "      <td>...</td>\n",
       "      <td>...</td>\n",
       "      <td>...</td>\n",
       "      <td>...</td>\n",
       "      <td>...</td>\n",
       "      <td>...</td>\n",
       "      <td>...</td>\n",
       "      <td>...</td>\n",
       "      <td>...</td>\n",
       "    </tr>\n",
       "    <tr>\n",
       "      <th>1019</th>\n",
       "      <td>9.952485e+06</td>\n",
       "      <td>9.924250e+06</td>\n",
       "      <td>9.919505e+06</td>\n",
       "      <td>9.891557e+06</td>\n",
       "      <td>9.872132e+06</td>\n",
       "      <td>9.849459e+06</td>\n",
       "      <td>9.809312e+06</td>\n",
       "      <td>9.821268e+06</td>\n",
       "      <td>9.521824e+06</td>\n",
       "      <td>9.507770e+06</td>\n",
       "      <td>...</td>\n",
       "      <td>3.765796e+06</td>\n",
       "      <td>3.699263e+06</td>\n",
       "      <td>3.810609e+06</td>\n",
       "      <td>2.018228e+06</td>\n",
       "      <td>1.732468e+05</td>\n",
       "      <td>0.000000e+00</td>\n",
       "      <td>2.514994e+04</td>\n",
       "      <td>1.734402e+05</td>\n",
       "      <td>3.017573e+05</td>\n",
       "      <td>3.706394e+05</td>\n",
       "    </tr>\n",
       "    <tr>\n",
       "      <th>1020</th>\n",
       "      <td>9.930626e+06</td>\n",
       "      <td>9.902359e+06</td>\n",
       "      <td>9.897663e+06</td>\n",
       "      <td>9.869703e+06</td>\n",
       "      <td>9.850216e+06</td>\n",
       "      <td>9.827605e+06</td>\n",
       "      <td>9.787448e+06</td>\n",
       "      <td>9.799353e+06</td>\n",
       "      <td>9.506791e+06</td>\n",
       "      <td>9.492439e+06</td>\n",
       "      <td>...</td>\n",
       "      <td>3.779319e+06</td>\n",
       "      <td>3.714520e+06</td>\n",
       "      <td>3.829800e+06</td>\n",
       "      <td>2.043401e+06</td>\n",
       "      <td>1.983721e+05</td>\n",
       "      <td>2.514994e+04</td>\n",
       "      <td>0.000000e+00</td>\n",
       "      <td>1.483572e+05</td>\n",
       "      <td>2.775173e+05</td>\n",
       "      <td>3.456700e+05</td>\n",
       "    </tr>\n",
       "    <tr>\n",
       "      <th>1021</th>\n",
       "      <td>9.796315e+06</td>\n",
       "      <td>9.767885e+06</td>\n",
       "      <td>9.763436e+06</td>\n",
       "      <td>9.735421e+06</td>\n",
       "      <td>9.715614e+06</td>\n",
       "      <td>9.693324e+06</td>\n",
       "      <td>9.653116e+06</td>\n",
       "      <td>9.664762e+06</td>\n",
       "      <td>9.408967e+06</td>\n",
       "      <td>9.392986e+06</td>\n",
       "      <td>...</td>\n",
       "      <td>3.851454e+06</td>\n",
       "      <td>3.797212e+06</td>\n",
       "      <td>3.936568e+06</td>\n",
       "      <td>2.191844e+06</td>\n",
       "      <td>3.466731e+05</td>\n",
       "      <td>1.734402e+05</td>\n",
       "      <td>1.483572e+05</td>\n",
       "      <td>0.000000e+00</td>\n",
       "      <td>1.482724e+05</td>\n",
       "      <td>2.026106e+05</td>\n",
       "    </tr>\n",
       "    <tr>\n",
       "      <th>1022</th>\n",
       "      <td>9.740499e+06</td>\n",
       "      <td>9.711705e+06</td>\n",
       "      <td>9.707797e+06</td>\n",
       "      <td>9.679656e+06</td>\n",
       "      <td>9.659143e+06</td>\n",
       "      <td>9.637554e+06</td>\n",
       "      <td>9.597227e+06</td>\n",
       "      <td>9.608305e+06</td>\n",
       "      <td>9.416180e+06</td>\n",
       "      <td>9.397826e+06</td>\n",
       "      <td>...</td>\n",
       "      <td>3.992413e+06</td>\n",
       "      <td>3.941662e+06</td>\n",
       "      <td>4.085833e+06</td>\n",
       "      <td>2.309319e+06</td>\n",
       "      <td>4.698623e+05</td>\n",
       "      <td>3.017573e+05</td>\n",
       "      <td>2.775173e+05</td>\n",
       "      <td>1.482724e+05</td>\n",
       "      <td>0.000000e+00</td>\n",
       "      <td>8.371375e+04</td>\n",
       "    </tr>\n",
       "    <tr>\n",
       "      <th>1023</th>\n",
       "      <td>9.656786e+06</td>\n",
       "      <td>9.627974e+06</td>\n",
       "      <td>9.624100e+06</td>\n",
       "      <td>9.595954e+06</td>\n",
       "      <td>9.575399e+06</td>\n",
       "      <td>9.553856e+06</td>\n",
       "      <td>9.513527e+06</td>\n",
       "      <td>9.524567e+06</td>\n",
       "      <td>9.342283e+06</td>\n",
       "      <td>9.323377e+06</td>\n",
       "      <td>...</td>\n",
       "      <td>4.009333e+06</td>\n",
       "      <td>3.965071e+06</td>\n",
       "      <td>4.124629e+06</td>\n",
       "      <td>2.385999e+06</td>\n",
       "      <td>5.423150e+05</td>\n",
       "      <td>3.706394e+05</td>\n",
       "      <td>3.456700e+05</td>\n",
       "      <td>2.026106e+05</td>\n",
       "      <td>8.371375e+04</td>\n",
       "      <td>0.000000e+00</td>\n",
       "    </tr>\n",
       "  </tbody>\n",
       "</table>\n",
       "<p>1024 rows × 1024 columns</p>\n",
       "</div>"
      ],
      "text/plain": [
       "index          0             1             2             3             4     \\\n",
       "index                                                                         \n",
       "0      0.000000e+00  3.522132e+04  3.353937e+04  6.032823e+04  8.922338e+04   \n",
       "1      3.522132e+04  0.000000e+00  2.944231e+04  3.831536e+04  5.498573e+04   \n",
       "2      3.353937e+04  2.944231e+04  0.000000e+00  2.895685e+04  6.710617e+04   \n",
       "3      6.032823e+04  3.831536e+04  2.895685e+04  0.000000e+00  4.386493e+04   \n",
       "4      8.922338e+04  5.498573e+04  6.710617e+04  4.386493e+04  0.000000e+00   \n",
       "...             ...           ...           ...           ...           ...   \n",
       "1019   9.952485e+06  9.924250e+06  9.919505e+06  9.891557e+06  9.872132e+06   \n",
       "1020   9.930626e+06  9.902359e+06  9.897663e+06  9.869703e+06  9.850216e+06   \n",
       "1021   9.796315e+06  9.767885e+06  9.763436e+06  9.735421e+06  9.715614e+06   \n",
       "1022   9.740499e+06  9.711705e+06  9.707797e+06  9.679656e+06  9.659143e+06   \n",
       "1023   9.656786e+06  9.627974e+06  9.624100e+06  9.595954e+06  9.575399e+06   \n",
       "\n",
       "index          5             6             7             8             9     \\\n",
       "index                                                                         \n",
       "0      1.020716e+05  1.423116e+05  1.367488e+05  3.191928e+06  3.076757e+06   \n",
       "1      7.612572e+04  1.141486e+05  1.041719e+05  3.206031e+06  3.090694e+06   \n",
       "2      7.027471e+04  1.109507e+05  1.094806e+05  3.176673e+06  3.061348e+06   \n",
       "3      4.177766e+04  8.226182e+04  8.112963e+04  3.178601e+06  3.063137e+06   \n",
       "4      4.288828e+04  6.809197e+04  5.042405e+04  3.212721e+06  3.097135e+06   \n",
       "...             ...           ...           ...           ...           ...   \n",
       "1019   9.849459e+06  9.809312e+06  9.821268e+06  9.521824e+06  9.507770e+06   \n",
       "1020   9.827605e+06  9.787448e+06  9.799353e+06  9.506791e+06  9.492439e+06   \n",
       "1021   9.693324e+06  9.653116e+06  9.664762e+06  9.408967e+06  9.392986e+06   \n",
       "1022   9.637554e+06  9.597227e+06  9.608305e+06  9.416180e+06  9.397826e+06   \n",
       "1023   9.553856e+06  9.513527e+06  9.524567e+06  9.342283e+06  9.323377e+06   \n",
       "\n",
       "index  ...          1014          1015          1016          1017  \\\n",
       "index  ...                                                           \n",
       "0      ...  1.056508e+07  1.084609e+07  1.163205e+07  1.178416e+07   \n",
       "1      ...  1.054908e+07  1.082948e+07  1.161449e+07  1.175815e+07   \n",
       "2      ...  1.053037e+07  1.081124e+07  1.159690e+07  1.175017e+07   \n",
       "3      ...  1.050835e+07  1.078883e+07  1.157388e+07  1.172304e+07   \n",
       "4      ...  1.050948e+07  1.078911e+07  1.157288e+07  1.170787e+07   \n",
       "...    ...           ...           ...           ...           ...   \n",
       "1019   ...  3.765796e+06  3.699263e+06  3.810609e+06  2.018228e+06   \n",
       "1020   ...  3.779319e+06  3.714520e+06  3.829800e+06  2.043401e+06   \n",
       "1021   ...  3.851454e+06  3.797212e+06  3.936568e+06  2.191844e+06   \n",
       "1022   ...  3.992413e+06  3.941662e+06  4.085833e+06  2.309319e+06   \n",
       "1023   ...  4.009333e+06  3.965071e+06  4.124629e+06  2.385999e+06   \n",
       "\n",
       "index          1018          1019          1020          1021          1022  \\\n",
       "index                                                                         \n",
       "0      1.010751e+07  9.952485e+06  9.930626e+06  9.796315e+06  9.740499e+06   \n",
       "1      1.007947e+07  9.924250e+06  9.902359e+06  9.767885e+06  9.711705e+06   \n",
       "2      1.007443e+07  9.919505e+06  9.897663e+06  9.763436e+06  9.707797e+06   \n",
       "3      1.004655e+07  9.891557e+06  9.869703e+06  9.735421e+06  9.679656e+06   \n",
       "4      1.002752e+07  9.872132e+06  9.850216e+06  9.715614e+06  9.659143e+06   \n",
       "...             ...           ...           ...           ...           ...   \n",
       "1019   1.732468e+05  0.000000e+00  2.514994e+04  1.734402e+05  3.017573e+05   \n",
       "1020   1.983721e+05  2.514994e+04  0.000000e+00  1.483572e+05  2.775173e+05   \n",
       "1021   3.466731e+05  1.734402e+05  1.483572e+05  0.000000e+00  1.482724e+05   \n",
       "1022   4.698623e+05  3.017573e+05  2.775173e+05  1.482724e+05  0.000000e+00   \n",
       "1023   5.423150e+05  3.706394e+05  3.456700e+05  2.026106e+05  8.371375e+04   \n",
       "\n",
       "index          1023  \n",
       "index                \n",
       "0      9.656786e+06  \n",
       "1      9.627974e+06  \n",
       "2      9.624100e+06  \n",
       "3      9.595954e+06  \n",
       "4      9.575399e+06  \n",
       "...             ...  \n",
       "1019   3.706394e+05  \n",
       "1020   3.456700e+05  \n",
       "1021   2.026106e+05  \n",
       "1022   8.371375e+04  \n",
       "1023   0.000000e+00  \n",
       "\n",
       "[1024 rows x 1024 columns]"
      ]
     },
     "execution_count": 1,
     "metadata": {},
     "output_type": "execute_result"
    }
   ],
   "source": [
    "key = \"/clustering/distances\"\n",
    "with pd.HDFStore(resfile, complevel=complevel, complib=complib) as store:\n",
    "    df_dist = store[key]\n",
    "\n",
    "df_dist"
   ]
  },
  {
   "cell_type": "code",
   "execution_count": 15,
   "id": "efc6d4e3-8def-43ea-9899-407826427c3e",
   "metadata": {
    "execution": {
     "iopub.execute_input": "2022-08-16T01:34:06.760525Z",
     "iopub.status.busy": "2022-08-16T01:34:06.759339Z",
     "iopub.status.idle": "2022-08-16T01:34:06.861455Z",
     "shell.execute_reply": "2022-08-16T01:34:06.860407Z"
    },
    "tags": []
   },
   "outputs": [],
   "source": [
    "Ns = df_dist.index.to_numpy()\n",
    "dists = df_dist.to_numpy()\n",
    "dists_sorted = np.sort(dists, axis=-1)\n",
    "\n",
    "# median distance of 1st, 2nd, 3rd...etc neighbor\n",
    "dist_med = np.array([np.median(dists_sorted[:,n]) for n in Ns[1:]])"
   ]
  },
  {
   "cell_type": "code",
   "execution_count": 16,
   "id": "4d704379-f590-4a97-9b30-19183e104250",
   "metadata": {
    "execution": {
     "iopub.execute_input": "2022-08-16T01:34:06.868989Z",
     "iopub.status.busy": "2022-08-16T01:34:06.867768Z",
     "iopub.status.idle": "2022-08-16T01:34:07.319996Z",
     "shell.execute_reply": "2022-08-16T01:34:07.318948Z"
    },
    "tags": []
   },
   "outputs": [
    {
     "name": "stdout",
     "output_type": "stream",
     "text": [
      "Written file: ../figures/4-distances/median_distance_nearest_neighbors.png\n",
      "Written file: ../figures/4-distances/median_distance_nearest_neighbors.svg\n"
     ]
    }
   ],
   "source": [
    "# parameters\n",
    "figsize = (6,4.5)\n",
    "dpi = 300\n",
    "ms=2\n",
    "lw=1\n",
    "\n",
    "fig = plt.figure(facecolor='w', figsize=figsize)\n",
    "ax = fig.gca()\n",
    "\n",
    "ax.plot(Ns[1:], dist_med/1.0e3, '-', ms=ms, color='darkblue')\n",
    "\n",
    "# ax.set_xscale('log')\n",
    "# ax.set_yscale('log')\n",
    "ax.set_xlim(Ns[1],None)\n",
    "ax.set_xlabel(\"kth nearest neighbor\", fontsize=\"medium\")\n",
    "ax.set_ylabel(\"median distance (km)\", fontsize=\"medium\")\n",
    "ax.spines['right'].set_visible(False)\n",
    "ax.spines['top'].set_visible(False)\n",
    "ax.tick_params(left=True, labelleft=True, bottom=True, labelbottom=True)\n",
    "ax.tick_params(axis='both', length=4)\n",
    "fig.tight_layout()\n",
    "\n",
    "fname = 'median_distance_nearest_neighbors'\n",
    "for ext in exts:\n",
    "    filepath = figdir / (fname + ext)\n",
    "    fig.savefig(filepath, bbox_inches='tight', pad_inches=0, dpi=dpi)\n",
    "    print(\"Written file: {:s}\".format(str(filepath)))\n",
    "fig.clf()\n",
    "plt.close('all')"
   ]
  },
  {
   "cell_type": "code",
   "execution_count": 17,
   "id": "f15e6d5e-d469-4b9e-a2f3-fcb7a1d0977a",
   "metadata": {
    "execution": {
     "iopub.execute_input": "2022-08-16T01:34:07.325902Z",
     "iopub.status.busy": "2022-08-16T01:34:07.324661Z",
     "iopub.status.idle": "2022-08-16T01:34:07.359897Z",
     "shell.execute_reply": "2022-08-16T01:34:07.360972Z"
    },
    "tags": []
   },
   "outputs": [
    {
     "data": {
      "image/png": "[encoded data removed]",
      "text/plain": [
       "<IPython.core.display.Image object>"
      ]
     },
     "execution_count": 1,
     "metadata": {
      "image/png": {
       "width": 480.0
      }
     },
     "output_type": "execute_result"
    }
   ],
   "source": [
    "filepath = figdir / (fname + '.png')\n",
    "Image(filename=filepath, width=4./3*360)"
   ]
  }
 ],
 "metadata": {
  "kernelspec": {
   "display_name": "Python 3",
   "language": "python",
   "name": "python3"
  },
  "language_info": {
   "codemirror_mode": {
    "name": "ipython",
    "version": 3
   },
   "file_extension": ".py",
   "mimetype": "text/x-python",
   "name": "python",
   "nbconvert_exporter": "python",
   "pygments_lexer": "ipython3",
   "version": "3.8.5"
  }
 },
 "nbformat": 4,
 "nbformat_minor": 5
}
