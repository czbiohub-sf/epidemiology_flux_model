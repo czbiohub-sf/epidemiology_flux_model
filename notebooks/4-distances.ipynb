{
 "cells": [
  {
   "cell_type": "markdown",
   "id": "accessible-champion",
   "metadata": {},
   "source": [
    "# Nearest neighbors\n",
    "[Index](0-index.ipynb)\n",
    "\n",
    "Here we compute matrices the matrix of distances between communities, $[d_{ab}]$."
   ]
  },
  {
   "cell_type": "markdown",
   "id": "hazardous-quebec",
   "metadata": {},
   "source": [
    "## Imports and global variables"
   ]
  },
  {
   "cell_type": "code",
   "execution_count": null,
   "id": "industrial-iceland",
   "metadata": {},
   "outputs": [],
   "source": [
    "%load_ext autoreload\n",
    "%autoreload 2\n",
    "%matplotlib inline"
   ]
  },
  {
   "cell_type": "code",
   "execution_count": null,
   "id": "substantial-vaccine",
   "metadata": {},
   "outputs": [],
   "source": [
    "from pathlib import Path\n",
    "import sys\n",
    "import numpy as np\n",
    "import pandas as pd\n",
    "import geopandas as gpd\n",
    "import datetime\n",
    "\n",
    "import matplotlib.pyplot as plt\n",
    "import matplotlib.colors as mco\n",
    "import matplotlib.gridspec as mgs\n",
    "import matplotlib.ticker as ticker\n",
    "import matplotlib.cm as cm\n",
    "from matplotlib import animation\n",
    "plt.rcParams['svg.fonttype'] = 'none'\n",
    "\n",
    "from IPython.display import HTML\n",
    "from IPython.display import Image"
   ]
  },
  {
   "cell_type": "code",
   "execution_count": null,
   "id": "received-cowboy",
   "metadata": {},
   "outputs": [],
   "source": [
    "sys.path.append('../code')\n",
    "from functions import show_image, geo_dist"
   ]
  },
  {
   "cell_type": "code",
   "execution_count": null,
   "id": "artistic-judge",
   "metadata": {},
   "outputs": [],
   "source": [
    "resdir = Path('../results/')\n",
    "if not resdir.is_dir():\n",
    "    raise ValueError('No results directory!')"
   ]
  },
  {
   "cell_type": "code",
   "execution_count": null,
   "id": "resistant-response",
   "metadata": {},
   "outputs": [],
   "source": [
    "resfile = resdir / 'safegraph_analysis.hdf5'\n",
    "complevel=7\n",
    "complib='zlib'\n",
    "with pd.HDFStore(resfile, complevel=complevel, complib=complib) as store:\n",
    "    print(f\"File {resfile.stem} has {len(store.keys())} entries.\")"
   ]
  },
  {
   "cell_type": "code",
   "execution_count": null,
   "id": "negative-horse",
   "metadata": {},
   "outputs": [],
   "source": [
    "tfmt = '%Y-%m-%d'"
   ]
  },
  {
   "cell_type": "code",
   "execution_count": null,
   "id": "3a0d97e5-2986-49c3-8399-ce6a671c682f",
   "metadata": {},
   "outputs": [],
   "source": [
    "figdir = Path('../figures') / '4-distances'\n",
    "if not figdir.is_dir():\n",
    "    figdir.mkdir(parents=True, exist_ok=True)\n",
    "exts = ['.png', '.svg']"
   ]
  },
  {
   "cell_type": "markdown",
   "id": "wired-dressing",
   "metadata": {},
   "source": [
    "## Functions\n",
    "We use the [formula](https://en.wikipedia.org/wiki/Geographical_distance) of the Spherical Earth projected to a plane. for the 'Spherical Earth projected to a plane':\n",
    "\\begin{equation}\n",
    "d(M_1,M_2) = R \\sqrt{\\Delta \\phi^2 + \\cos{\\bar{\\phi}} \\Delta \\lambda^2},\n",
    "\\end{equation}\n",
    "where $\\phi$ is the latitude, $\\lambda$ is the longitude, and $\\bar{\\phi} = (\\phi_1 + \\phi_2)/2$. $R = 6, 371.009 \\, \\mathrm{km}$ is the radius of the Earth.\n",
    "\n",
    "Here `X` is the longitude and `Y` is the latitude (see this [notebook](06-cross_compare_cssegi.ipynb))."
   ]
  },
  {
   "cell_type": "code",
   "execution_count": null,
   "id": "personalized-joshua",
   "metadata": {},
   "outputs": [],
   "source": [
    "R_earth = 6.371009e6"
   ]
  },
  {
   "cell_type": "markdown",
   "id": "renewable-sphere",
   "metadata": {},
   "source": [
    "## Clusters"
   ]
  },
  {
   "cell_type": "markdown",
   "id": "enhanced-fitting",
   "metadata": {},
   "source": [
    "### Load clusters"
   ]
  },
  {
   "cell_type": "code",
   "execution_count": null,
   "id": "corresponding-overhead",
   "metadata": {},
   "outputs": [],
   "source": [
    "key = \"/clustering/clusters\"\n",
    "with pd.HDFStore(resfile, complevel=complevel, complib=complib) as store:\n",
    "    clusters = store[key]\n",
    "# clusters = pd.read_hdf(resfile, key)\n",
    "N = len(clusters)\n",
    "print(f\"N = {N}\")\n",
    "clusters"
   ]
  },
  {
   "cell_type": "markdown",
   "id": "spanish-opinion",
   "metadata": {},
   "source": [
    "## Compute distance matrix using Spherical Earth projected to a plane formula"
   ]
  },
  {
   "cell_type": "code",
   "execution_count": null,
   "id": "short-congress",
   "metadata": {},
   "outputs": [],
   "source": [
    "XY = clusters.loc[:, ['X','Y']].astype('float64').to_numpy()\n",
    "\n",
    "Long, Lat = XY.T * np.pi/180.\n",
    "\n",
    "LLat1, LLat2 = np.meshgrid(Lat, Lat, indexing='ij')\n",
    "dLLat = LLat1 - LLat2\n",
    "LLat_bar = 0.5*(LLat1 + LLat2)\n",
    "\n",
    "LLong1, LLong2 = np.meshgrid(Long, Long, indexing='ij')\n",
    "dLLong = LLong1 - LLong2\n",
    "\n",
    "D = R_earth * np.sqrt(dLLat**2 + np.cos(LLat_bar)*dLLong**2)"
   ]
  },
  {
   "cell_type": "code",
   "execution_count": null,
   "id": "white-merchant",
   "metadata": {},
   "outputs": [],
   "source": [
    "df_dist = pd.DataFrame(data=D, index=clusters.index, columns=clusters.index)\n",
    "\n",
    "key = \"/clustering/distances\"\n",
    "with pd.HDFStore(resfile, complevel=complevel, complib=complib) as store:\n",
    "    store[key] = df_dist"
   ]
  },
  {
   "cell_type": "markdown",
   "id": "1a02bd57-4eef-41fc-bc9f-e66564864116",
   "metadata": {},
   "source": [
    "Compare with [equirectangular projection](https://en.wikipedia.org/wiki/Equirectangular_projection) distances"
   ]
  },
  {
   "cell_type": "code",
   "execution_count": null,
   "id": "e52f2153-08f8-49f0-8536-72c6d95a0757",
   "metadata": {},
   "outputs": [],
   "source": [
    "P = clusters.loc[:, ['Y', 'X']].to_numpy()\n",
    "PP = np.einsum('ik,jk->ij',P,P)\n",
    "U = np.ones((N,1))\n",
    "Delta = PP.diagonal().reshape(-1,1)\n",
    "Dequi = (U*Delta.T) + (Delta*U.T) - 2*PP\n",
    "Dequi = R_earth * np.pi/180.* np.sqrt(Dequi)"
   ]
  },
  {
   "cell_type": "code",
   "execution_count": null,
   "id": "57adfc86-bf48-44bb-a0d3-f0f3e64d1efb",
   "metadata": {},
   "outputs": [],
   "source": [
    "err = np.linalg.norm(D-Dequi)/np.linalg.norm(D)\n",
    "print(\"Equirectangular projection error = {:.1f} %\".format(err*100))"
   ]
  },
  {
   "cell_type": "markdown",
   "id": "preceding-logging",
   "metadata": {},
   "source": [
    "## Some statistics on the actual separation"
   ]
  },
  {
   "cell_type": "code",
   "execution_count": null,
   "id": "willing-poland",
   "metadata": {},
   "outputs": [],
   "source": [
    "key = \"/clustering/distances\"\n",
    "with pd.HDFStore(resfile, complevel=complevel, complib=complib) as store:\n",
    "    df_dist = store[key]\n",
    "\n",
    "df_dist"
   ]
  },
  {
   "cell_type": "code",
   "execution_count": null,
   "id": "efc6d4e3-8def-43ea-9899-407826427c3e",
   "metadata": {},
   "outputs": [],
   "source": [
    "Ns = df_dist.index.to_numpy()\n",
    "dists = df_dist.to_numpy()\n",
    "dists_sorted = np.sort(dists, axis=-1)\n",
    "\n",
    "# median distance of 1st, 2nd, 3rd...etc neighbor\n",
    "dist_med = np.array([np.median(dists_sorted[:,n]) for n in Ns[1:]])"
   ]
  },
  {
   "cell_type": "code",
   "execution_count": null,
   "id": "4d704379-f590-4a97-9b30-19183e104250",
   "metadata": {},
   "outputs": [],
   "source": [
    "# parameters\n",
    "figsize = (6,4.5)\n",
    "dpi = 300\n",
    "ms=2\n",
    "lw=1\n",
    "\n",
    "fig = plt.figure(facecolor='w', figsize=figsize)\n",
    "ax = fig.gca()\n",
    "\n",
    "ax.plot(Ns[1:], dist_med/1.0e3, '-', ms=ms, color='darkblue')\n",
    "\n",
    "# ax.set_xscale('log')\n",
    "# ax.set_yscale('log')\n",
    "ax.set_xlim(Ns[1],None)\n",
    "ax.set_xlabel(\"kth nearest neighbor\", fontsize=\"medium\")\n",
    "ax.set_ylabel(\"median distance (km)\", fontsize=\"medium\")\n",
    "ax.spines['right'].set_visible(False)\n",
    "ax.spines['top'].set_visible(False)\n",
    "ax.tick_params(left=True, labelleft=True, bottom=True, labelbottom=True)\n",
    "ax.tick_params(axis='both', length=4)\n",
    "fig.tight_layout()\n",
    "\n",
    "fname = 'median_distance_nearest_neighbors'\n",
    "for ext in exts:\n",
    "    filepath = figdir / (fname + ext)\n",
    "    fig.savefig(filepath, bbox_inches='tight', pad_inches=0, dpi=dpi)\n",
    "    print(\"Written file: {:s}\".format(str(filepath)))\n",
    "fig.clf()\n",
    "plt.close('all')"
   ]
  },
  {
   "cell_type": "code",
   "execution_count": null,
   "id": "f15e6d5e-d469-4b9e-a2f3-fcb7a1d0977a",
   "metadata": {},
   "outputs": [],
   "source": [
    "filepath = figdir / (fname + '.png')\n",
    "Image(filename=filepath, width=4./3*360)"
   ]
  }
 ],
 "metadata": {
  "kernelspec": {
   "display_name": "Python 3",
   "language": "python",
   "name": "python3"
  },
  "language_info": {
   "codemirror_mode": {
    "name": "ipython",
    "version": 3
   },
   "file_extension": ".py",
   "mimetype": "text/x-python",
   "name": "python",
   "nbconvert_exporter": "python",
   "pygments_lexer": "ipython3",
   "version": "3.8.5"
  }
 },
 "nbformat": 4,
 "nbformat_minor": 5
}
