{
 "cells": [
  {
   "cell_type": "markdown",
   "id": "expanded-jones",
   "metadata": {},
   "source": [
    "# Importing CSSEGI data into communities\n",
    "[Index](0-index.ipynb)\n",
    "\n",
    "In this notebook, we assign CSSEGI data to the communities constructed in [1-clustering](1-clustering.ipynb). Data reported in the CSSEGI dataset is assigned to a community based on the latitude and longitude. Data can be accessed [here](https://github.com/CSSEGISandData/COVID-19)."
   ]
  },
  {
   "cell_type": "markdown",
   "id": "useful-xerox",
   "metadata": {},
   "source": [
    "## Imports and global variables"
   ]
  },
  {
   "cell_type": "code",
   "execution_count": null,
   "id": "naughty-studio",
   "metadata": {},
   "outputs": [],
   "source": [
    "%load_ext autoreload\n",
    "%autoreload 2\n",
    "%matplotlib inline"
   ]
  },
  {
   "cell_type": "code",
   "execution_count": null,
   "id": "fitted-belle",
   "metadata": {},
   "outputs": [],
   "source": [
    "from pathlib import Path\n",
    "import sys\n",
    "import numpy as np\n",
    "import pandas as pd\n",
    "import geopandas as gpd\n",
    "import datetime\n",
    "import json\n",
    "\n",
    "import matplotlib.pyplot as plt\n",
    "import matplotlib.colors as mco\n",
    "import matplotlib.gridspec as mgs\n",
    "import matplotlib.ticker as ticker\n",
    "import matplotlib.cm as cm\n",
    "from matplotlib import animation\n",
    "plt.rcParams['svg.fonttype'] = 'none'\n",
    "\n",
    "from IPython.display import HTML\n",
    "from IPython.display import Image"
   ]
  },
  {
   "cell_type": "code",
   "execution_count": null,
   "id": "imposed-durham",
   "metadata": {},
   "outputs": [],
   "source": [
    "sys.path.append('../code')\n",
    "from functions import plot_omega_profile, plot_omega_map"
   ]
  },
  {
   "cell_type": "code",
   "execution_count": null,
   "id": "certain-floating",
   "metadata": {},
   "outputs": [],
   "source": [
    "datadir = Path('../data')\n",
    "if not datadir.is_dir():\n",
    "    raise ValueError(\"Data dir doesn'nt exist!\")"
   ]
  },
  {
   "cell_type": "code",
   "execution_count": null,
   "id": "fluid-assurance",
   "metadata": {},
   "outputs": [],
   "source": [
    "resdir = Path('../results/')\n",
    "if not resdir.is_dir():\n",
    "    raise ValueError('No results directory!')"
   ]
  },
  {
   "cell_type": "code",
   "execution_count": null,
   "id": "knowing-secretariat",
   "metadata": {},
   "outputs": [],
   "source": [
    "complevel=7\n",
    "complib='zlib'\n",
    "\n",
    "resfile = resdir / 'safegraph_analysis.hdf5'\n",
    "# resfile = resdir / 'safegraph_analysis_monthly.hdf5'\n",
    "with pd.HDFStore(resfile, complevel=complevel, complib=complib) as store:\n",
    "    print(f\"File {resfile.stem} has {len(store.keys())} entries.\")\n",
    "\n",
    "cssefile = resdir / 'cssegi_sanddata_analysis.hdf5'\n",
    "with pd.HDFStore(cssefile, complevel=complevel, complib=complib) as store:\n",
    "    print(f\"File {cssefile.stem} has {len(store.keys())} entries.\")\n"
   ]
  },
  {
   "cell_type": "code",
   "execution_count": null,
   "id": "applicable-deputy",
   "metadata": {},
   "outputs": [],
   "source": [
    "tfmt = '%Y-%m-%d'\n",
    "exts = ['.png', '.svg']"
   ]
  },
  {
   "cell_type": "markdown",
   "id": "negative-acoustic",
   "metadata": {},
   "source": [
    "## Load clustered CBGs"
   ]
  },
  {
   "cell_type": "code",
   "execution_count": null,
   "id": "educated-jungle",
   "metadata": {},
   "outputs": [],
   "source": [
    "key = \"/clustering/clusters\"\n",
    "with pd.HDFStore(resfile, complevel=complevel, complib=complib) as store:\n",
    "    clusters = store[key]\n",
    "clusters"
   ]
  },
  {
   "cell_type": "code",
   "execution_count": null,
   "id": "distributed-straight",
   "metadata": {},
   "outputs": [],
   "source": [
    "clusters_pos = clusters.loc[:, ['X','Y']].rename(columns={'X': 'longitude', 'Y': 'latitude'})\n",
    "clusters_pos"
   ]
  },
  {
   "cell_type": "markdown",
   "id": "opened-morning",
   "metadata": {},
   "source": [
    "## Load data from geometry"
   ]
  },
  {
   "cell_type": "code",
   "execution_count": null,
   "id": "mathematical-attitude",
   "metadata": {},
   "outputs": [],
   "source": [
    "geofile = datadir / 'safegraph_open_census_data'  / 'geometry' / 'cbg.geojson'\n",
    "if not geofile.is_file():\n",
    "    raise ValueError(\"Geo file doesn't exist!\")"
   ]
  },
  {
   "cell_type": "code",
   "execution_count": null,
   "id": "chemical-brave",
   "metadata": {},
   "outputs": [],
   "source": [
    "geo = gpd.read_file(geofile).astype({'CensusBlockGroup': 'int64'})\n",
    "geo.set_index('CensusBlockGroup', inplace=True)\n",
    "XY = geo.representative_point().apply(lambda X: [X.x, X.y]).tolist()\n",
    "df_xy = pd.DataFrame(data=np.array(XY), index=geo.index, columns=['longitude','latitude'])\n",
    "df_xy"
   ]
  },
  {
   "cell_type": "markdown",
   "id": "round-israel",
   "metadata": {},
   "source": [
    "## Load the confirmed cases from CSSEGI data"
   ]
  },
  {
   "cell_type": "code",
   "execution_count": null,
   "id": "suffering-belarus",
   "metadata": {},
   "outputs": [],
   "source": [
    "dfile = datadir / 'time_series_covid19_confirmed_US.csv'\n",
    "df_confirmed_us = pd.read_csv(dfile)\n",
    "df_confirmed_us = df_confirmed_us.loc[df_confirmed_us['iso2'] == 'US'] # only keep the US\n",
    "#.astype({'FIPS': 'int64'})\n",
    "df_confirmed_us"
   ]
  },
  {
   "cell_type": "markdown",
   "id": "specialized-exclusive",
   "metadata": {},
   "source": [
    "Drop the locations with no latitude or longitude information"
   ]
  },
  {
   "cell_type": "code",
   "execution_count": null,
   "id": "pressed-pierre",
   "metadata": {},
   "outputs": [],
   "source": [
    "idx = ( (df_confirmed_us['Lat'] == 0.) | (df_confirmed_us['Long_'] == 0.) )\n",
    "df_confirmed_us.drop(index=df_confirmed_us.index[idx], inplace=True)\n",
    "df_confirmed_us"
   ]
  },
  {
   "cell_type": "markdown",
   "id": "double-responsibility",
   "metadata": {},
   "source": [
    "## Mapping clusters to CSSEGI FIPS based on (Longitude, Latitude)"
   ]
  },
  {
   "cell_type": "code",
   "execution_count": null,
   "id": "weird-parker",
   "metadata": {},
   "outputs": [],
   "source": [
    "clusters_pos.sort_index(inplace=True)\n",
    "XY_clusters = clusters_pos.loc[:, ['longitude', 'latitude']].to_numpy()"
   ]
  },
  {
   "cell_type": "code",
   "execution_count": null,
   "id": "employed-signal",
   "metadata": {},
   "outputs": [],
   "source": [
    "XY_csse = df_confirmed_us.loc[:, ['Long_', 'Lat']].to_numpy()"
   ]
  },
  {
   "cell_type": "code",
   "execution_count": null,
   "id": "descending-angola",
   "metadata": {},
   "outputs": [],
   "source": [
    "# iterate over CSSEGI data\n",
    "cluster_ids = []\n",
    "for i in range(len(df_confirmed_us.index)):\n",
    "    xy = XY_csse[i]\n",
    "    imin = np.argmin(np.linalg.norm(XY_clusters - xy, axis=1))\n",
    "    cluster_ids.append(clusters_pos.index[imin])"
   ]
  },
  {
   "cell_type": "code",
   "execution_count": null,
   "id": "disabled-missouri",
   "metadata": {},
   "outputs": [],
   "source": [
    "col = 'cluster_id'\n",
    "if col in df_confirmed_us.columns:\n",
    "    del df_confirmed_us[col]\n",
    "\n",
    "df_confirmed_us.insert(1, col, cluster_ids)\n",
    "df_confirmed_us"
   ]
  },
  {
   "cell_type": "markdown",
   "id": "bright-difficulty",
   "metadata": {},
   "source": [
    "### Retain only the dates and cluster_ID"
   ]
  },
  {
   "cell_type": "code",
   "execution_count": null,
   "id": "unsigned-citation",
   "metadata": {},
   "outputs": [],
   "source": [
    "dates = []\n",
    "for c in df_confirmed_us.columns:\n",
    "    try:\n",
    "        t = datetime.datetime.strptime(c, '%m/%d/%y')\n",
    "        dates.append(c)\n",
    "    except ValueError:\n",
    "        continue"
   ]
  },
  {
   "cell_type": "code",
   "execution_count": null,
   "id": "ruled-canal",
   "metadata": {},
   "outputs": [],
   "source": [
    "columns = ['cluster_id'] + dates\n",
    "\n",
    "df_clusters = df_confirmed_us.loc[:, columns].groupby('cluster_id').apply(sum)\n",
    "del df_clusters['cluster_id']\n",
    "df_clusters"
   ]
  },
  {
   "cell_type": "code",
   "execution_count": null,
   "id": "functional-kernel",
   "metadata": {},
   "outputs": [],
   "source": [
    "clusters_csse = pd.DataFrame(data=np.zeros((len(clusters.index),len(df_clusters.columns)), np.uint), index=clusters.index, columns=df_clusters.columns)\n",
    "clusters_csse.loc[df_clusters.index] = df_clusters\n",
    "clusters_csse = clusters_csse.T\n",
    "clusters_csse.index = [datetime.datetime.strptime(s, '%m/%d/%y') for s in clusters_csse.index]\n",
    "clusters_csse"
   ]
  },
  {
   "cell_type": "markdown",
   "id": "typical-sociology",
   "metadata": {},
   "source": [
    "I currently have one empty community."
   ]
  },
  {
   "cell_type": "code",
   "execution_count": null,
   "id": "white-speaker",
   "metadata": {},
   "outputs": [],
   "source": [
    "clusters.loc[1017].to_frame().T"
   ]
  },
  {
   "cell_type": "markdown",
   "id": "bulgarian-representation",
   "metadata": {},
   "source": [
    "But the reported number of cases there is zero."
   ]
  },
  {
   "cell_type": "code",
   "execution_count": null,
   "id": "declared-richards",
   "metadata": {},
   "outputs": [],
   "source": [
    "clusters_csse.loc[clusters_csse.index[-1], 1017]"
   ]
  },
  {
   "cell_type": "markdown",
   "id": "protective-jaguar",
   "metadata": {},
   "source": [
    "There is one community where the reported number of cases is larger than the population..."
   ]
  },
  {
   "cell_type": "code",
   "execution_count": null,
   "id": "reasonable-president",
   "metadata": {},
   "outputs": [],
   "source": [
    "idx = (clusters_csse.loc[clusters_csse.index[-1]] > clusters['population']).to_numpy()\n",
    "np.sum(idx)"
   ]
  },
  {
   "cell_type": "code",
   "execution_count": null,
   "id": "false-calculator",
   "metadata": {},
   "outputs": [],
   "source": [
    "clusters.loc[clusters.index[idx]]"
   ]
  },
  {
   "cell_type": "code",
   "execution_count": null,
   "id": "boring-yacht",
   "metadata": {},
   "outputs": [],
   "source": [
    "clusters_csse.loc[clusters_csse.index[-1], clusters.index[idx]].to_frame().T"
   ]
  },
  {
   "cell_type": "markdown",
   "id": "fundamental-cherry",
   "metadata": {},
   "source": [
    "So I correct this:"
   ]
  },
  {
   "cell_type": "code",
   "execution_count": null,
   "id": "aging-computer",
   "metadata": {},
   "outputs": [],
   "source": [
    "for t in clusters_csse.index:\n",
    "    x = np.min(np.array([clusters_csse.loc[t].to_numpy(), clusters['population'].to_numpy()], dtype=np.int_), axis=0)\n",
    "    clusters_csse.loc[t] = x\n",
    "\n",
    "clusters_csse"
   ]
  },
  {
   "cell_type": "code",
   "execution_count": null,
   "id": "advised-schedule",
   "metadata": {},
   "outputs": [],
   "source": [
    "idx = (clusters_csse.loc[clusters_csse.index[-1]] > clusters['population']).to_numpy()\n",
    "np.sum(idx)"
   ]
  },
  {
   "cell_type": "code",
   "execution_count": null,
   "id": "modular-introduction",
   "metadata": {},
   "outputs": [],
   "source": [
    "total_csse = clusters_csse.sum(axis=1).to_frame()\n",
    "total_csse.rename(columns={0: 'omega'}, inplace=True)\n",
    "total_csse"
   ]
  },
  {
   "cell_type": "markdown",
   "id": "narrative-headline",
   "metadata": {},
   "source": [
    "### Write"
   ]
  },
  {
   "cell_type": "code",
   "execution_count": null,
   "id": "higher-stake",
   "metadata": {},
   "outputs": [],
   "source": [
    "key = '/clustering/cssegi'\n",
    "with pd.HDFStore(resfile, complevel=complevel, complib=complib) as store:\n",
    "    store[str(key)] = clusters_csse"
   ]
  },
  {
   "cell_type": "markdown",
   "id": "linear-assurance",
   "metadata": {},
   "source": [
    "## Plots"
   ]
  },
  {
   "cell_type": "code",
   "execution_count": null,
   "id": "bf153e7a-138f-44c0-8aed-03913d046e2f",
   "metadata": {},
   "outputs": [],
   "source": [
    "figdir = Path('../figures') / '3-import_cssegi'\n",
    "if not figdir.is_dir():\n",
    "    figdir.mkdir(parents=True, exist_ok=True)"
   ]
  },
  {
   "cell_type": "markdown",
   "id": "earlier-tuition",
   "metadata": {},
   "source": [
    "### Plot the total evolution"
   ]
  },
  {
   "cell_type": "code",
   "execution_count": null,
   "id": "86780d52-0a1e-42b8-a371-dce8ab8b080f",
   "metadata": {},
   "outputs": [],
   "source": [
    "# parameters\n",
    "figsize = (6,4.5)\n",
    "dpi = 300\n",
    "ms=2\n",
    "lw=1\n",
    "\n",
    "\n",
    "fig = plt.figure(facecolor='w', figsize=figsize)\n",
    "ax = fig.gca()\n",
    "\n",
    "ax.plot(total_csse.index.to_numpy(), total_csse.sum(axis=1).to_numpy(), '-', ms=ms, color='darkblue')\n",
    "\n",
    "ax.set_yscale('log')\n",
    "ax.set_xlim(total_csse.index[0],None)\n",
    "ax.set_ylabel(\"$T$\", fontsize=\"medium\")\n",
    "plt.xticks(rotation=45)\n",
    "ax.spines['right'].set_visible(False)\n",
    "ax.spines['top'].set_visible(False)\n",
    "ax.tick_params(left=True, labelleft=True, bottom=True, labelbottom=True)\n",
    "ax.tick_params(axis='both', length=4)\n",
    "fig.tight_layout()\n",
    "\n",
    "fname = 'omega_tot_cssegi'\n",
    "for ext in exts:\n",
    "    filepath = figdir / (fname + ext)\n",
    "    fig.savefig(filepath, bbox_inches='tight', pad_inches=0, dpi=dpi)\n",
    "    print(\"Written file: {:s}\".format(str(filepath)))\n",
    "fig.clf()\n",
    "plt.close('all')"
   ]
  },
  {
   "cell_type": "code",
   "execution_count": null,
   "id": "cfec5376-a43a-446f-97a4-1bb191aa8beb",
   "metadata": {},
   "outputs": [],
   "source": [
    "filepath = figdir / (fname + '.png')\n",
    "Image(filename=filepath, width=4./3*360)"
   ]
  },
  {
   "cell_type": "markdown",
   "id": "solid-equation",
   "metadata": {},
   "source": [
    "### Plot the spatial evolution as a profile"
   ]
  },
  {
   "cell_type": "code",
   "execution_count": null,
   "id": "desperate-housing",
   "metadata": {},
   "outputs": [],
   "source": [
    "clusters_csse.iloc[-1].max()/1.0e6"
   ]
  },
  {
   "cell_type": "code",
   "execution_count": null,
   "id": "5b9c461f-d091-4069-ab65-565dbd928313",
   "metadata": {},
   "outputs": [],
   "source": [
    "# parameters\n",
    "dpi=150\n",
    "fps=10\n",
    "figsize=(6, 4.5)\n",
    "lw=0.5\n",
    "ms=4\n",
    "ylabel=\"$T_a$\"\n",
    "\n",
    "fileout = figdir / 'dynamic_profile.mp4'\n",
    "mydir = figdir / 'profiles'\n",
    "if not mydir.is_dir():\n",
    "    mydir.mkdir(parents=True, exist_ok=True)"
   ]
  },
  {
   "cell_type": "code",
   "execution_count": null,
   "id": "7ce2e28b-c451-4914-a157-11408ae68613",
   "metadata": {},
   "outputs": [],
   "source": [
    "plot_omega_profile(np.array([clusters_csse.to_numpy()]), clusters_csse.index.to_list(), colors=['red'], \\\n",
    "                   fileout=fileout, tpdir=mydir, dpi=dpi, fps=fps, figsize=figsize, ylabel=ylabel, \\\n",
    "                   lw=lw, ms=ms, styles=['o'], deletetp=False, exts=['.png','.svg'], ymin=1., ymax=1.3e6)"
   ]
  },
  {
   "cell_type": "code",
   "execution_count": null,
   "id": "adequate-timing",
   "metadata": {},
   "outputs": [],
   "source": [
    "HTML(\"\"\"\n",
    "<video height=\"480\" controls>\n",
    "  <source src=\"{:s}\" type=\"video/mp4\">\n",
    "</video>\n",
    "\"\"\".format(str(fileout)))"
   ]
  },
  {
   "cell_type": "markdown",
   "id": "fantastic-subsection",
   "metadata": {},
   "source": [
    "### Plot the spatial evolution on a map"
   ]
  },
  {
   "cell_type": "code",
   "execution_count": null,
   "id": "centered-comfort",
   "metadata": {},
   "outputs": [],
   "source": [
    "clusters_csse.iloc[-1].max()/1.0e6"
   ]
  },
  {
   "cell_type": "code",
   "execution_count": null,
   "id": "adjustable-potential",
   "metadata": {},
   "outputs": [],
   "source": [
    "fileout = figdir / 'dynamic_profile.mp4'\n",
    "mydir = figdir / 'maps'\n",
    "if not mydir.is_dir():\n",
    "    mydir.mkdir(parents=True, exist_ok=True)\n",
    "fileout = figdir / 'dynamic_map.mp4'"
   ]
  },
  {
   "cell_type": "code",
   "execution_count": null,
   "id": "7a54f790-086b-41f5-a11c-d19fd5295f18",
   "metadata": {},
   "outputs": [],
   "source": [
    "# parameters\n",
    "dpi=150\n",
    "fps=10\n",
    "figsize=(6, 4.5)\n",
    "lw=0.5\n",
    "ms=4\n",
    "idump=1\n",
    "\n",
    "\n",
    "fileout = mydir / 'map_T.mp4'\n",
    "plot_omega_map(clusters_csse.to_numpy(), clusters_csse.index.to_list(), XY=clusters.loc[:, ['X', 'Y']].to_numpy().T, \\\n",
    "fileout=fileout, tpdir=mydir, dpi=dpi, fps=fps, figsize=figsize, idump=idump, \\\n",
    "               clabel=\"$T$\", vmin=1., vmax=1.3e6, deletetp=False, exts=['.png','.svg'])"
   ]
  },
  {
   "cell_type": "code",
   "execution_count": null,
   "id": "bridal-milwaukee",
   "metadata": {},
   "outputs": [],
   "source": [
    "HTML(\"\"\"\n",
    "<video height=\"480\" controls>\n",
    "  <source src=\"{:s}\" type=\"video/mp4\">\n",
    "</video>\n",
    "\"\"\".format(str(fileout)))"
   ]
  },
  {
   "cell_type": "code",
   "execution_count": null,
   "id": "744efdf4-84d6-4a74-9f21-6b29ebd9bfe3",
   "metadata": {},
   "outputs": [],
   "source": []
  }
 ],
 "metadata": {
  "kernelspec": {
   "display_name": "Python 3",
   "language": "python",
   "name": "python3"
  },
  "language_info": {
   "codemirror_mode": {
    "name": "ipython",
    "version": 3
   },
   "file_extension": ".py",
   "mimetype": "text/x-python",
   "name": "python",
   "nbconvert_exporter": "python",
   "pygments_lexer": "ipython3",
   "version": "3.8.5"
  }
 },
 "nbformat": 4,
 "nbformat_minor": 5
}
