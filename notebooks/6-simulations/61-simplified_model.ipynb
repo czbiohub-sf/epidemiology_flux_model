{
 "cells": [
  {
   "cell_type": "markdown",
   "id": "alleged-glenn",
   "metadata": {},
   "source": [
    "# Model with a simplified sigmoid scale\n",
    "\n",
    "[Index](../0-index.ipynb)\n",
    "\n",
    "Here we investigate whether a model with a sigmoid scale $p \\beta$ is a good approximation of the pandemics spreading."
   ]
  },
  {
   "cell_type": "code",
   "execution_count": null,
   "id": "2d29beb1-5d56-42c6-b6a2-811ce5e328b0",
   "metadata": {},
   "outputs": [],
   "source": [
    "%load_ext autoreload\n",
    "%autoreload 2\n",
    "%matplotlib inline"
   ]
  },
  {
   "cell_type": "code",
   "execution_count": null,
   "id": "7ef0da77-0cea-40bb-893f-745eab19dd17",
   "metadata": {},
   "outputs": [],
   "source": [
    "from pathlib import Path\n",
    "import os,sys\n",
    "import numpy as np\n",
    "import pandas as pd\n",
    "import datetime\n",
    "\n",
    "import warnings\n",
    "warnings.filterwarnings('ignore')\n",
    "\n",
    "import matplotlib.pyplot as plt\n",
    "import matplotlib.colors as mco\n",
    "import matplotlib.gridspec as mgs\n",
    "import matplotlib.cm as cm\n",
    "from matplotlib import animation\n",
    "plt.rcParams['svg.fonttype'] = 'none'\n",
    "\n",
    "from IPython.display import HTML\n",
    "from IPython.display import Image"
   ]
  },
  {
   "cell_type": "code",
   "execution_count": null,
   "id": "0df99fb8-b2f5-4eb4-9100-26a9f68d030e",
   "metadata": {},
   "outputs": [],
   "source": [
    "sys.path.append(str(Path('../..') / 'code'))"
   ]
  },
  {
   "cell_type": "code",
   "execution_count": null,
   "id": "1bb593da-1393-439e-97cc-7eeccd6e3a71",
   "metadata": {},
   "outputs": [],
   "source": [
    "resdir = Path('../../results/')\n",
    "if not resdir.is_dir():\n",
    "    raise ValueError('No results directory!')"
   ]
  },
  {
   "cell_type": "code",
   "execution_count": null,
   "id": "63b064a7-6bf0-4028-94fe-574542726f4c",
   "metadata": {},
   "outputs": [],
   "source": [
    "resfile = resdir / 'safegraph_analysis.hdf5'\n",
    "complevel=7\n",
    "complib='zlib'\n",
    "with pd.HDFStore(resfile, complevel=complevel, complib=complib) as store:\n",
    "    print(f\"File {resfile.stem} has {len(store.keys())} entries.\")"
   ]
  },
  {
   "cell_type": "markdown",
   "id": "44228c87-91ba-4e67-9395-2a65eac30e3c",
   "metadata": {},
   "source": [
    "## Global variables and other quantities"
   ]
  },
  {
   "cell_type": "markdown",
   "id": "ba1c0a39-4045-4617-bb63-70c1201ce399",
   "metadata": {},
   "source": [
    "### Global variables"
   ]
  },
  {
   "cell_type": "code",
   "execution_count": null,
   "id": "084dda19-055b-4d83-bcdf-bc858c58494f",
   "metadata": {},
   "outputs": [],
   "source": [
    "gamma = 1/10.\n",
    "ti = '2020-03-01'\n",
    "tf = '2021-02-16'\n",
    "\n",
    "tfmt = '%Y-%m-%d'\n",
    "ti = datetime.datetime.strptime(ti, tfmt)\n",
    "tf = datetime.datetime.strptime(tf, tfmt)\n",
    "\n",
    "pathtofit = Path('/fit')\n",
    "pathtosimu = Path('/simulations/simplified')\n",
    "\n",
    "exts = ['.png', '.svg']"
   ]
  },
  {
   "cell_type": "markdown",
   "id": "003488c5-7c41-4d8b-944a-daebac5804d0",
   "metadata": {},
   "source": [
    "### Load clusters to get population"
   ]
  },
  {
   "cell_type": "code",
   "execution_count": null,
   "id": "368b2b21-9331-4bbd-9391-620753b10367",
   "metadata": {},
   "outputs": [],
   "source": [
    "key = \"/clustering/clusters\"\n",
    "with pd.HDFStore(resfile, complevel=complevel, complib=complib) as store:\n",
    "    clusters = store[key]\n",
    "# clusters = pd.read_hdf(resfile, key)\n",
    "N = len(clusters)\n",
    "print(f\"N = {N}\")\n",
    "clusters"
   ]
  },
  {
   "cell_type": "code",
   "execution_count": null,
   "id": "0ae9a3dc-dff6-44f0-b28c-d982bf9f6914",
   "metadata": {},
   "outputs": [],
   "source": [
    "population = clusters['population'].to_numpy()\n",
    "population_inv = np.zeros(population.shape, dtype=np.float_)\n",
    "idx = population > 0.\n",
    "population_inv[idx] = 1./population[idx]"
   ]
  },
  {
   "cell_type": "markdown",
   "id": "72a702f3-fbc9-4c39-ad91-707d4ade3bd5",
   "metadata": {},
   "source": [
    "### Load CSSEGI data"
   ]
  },
  {
   "cell_type": "code",
   "execution_count": null,
   "id": "69247626-2e10-4093-982e-51785ebf2f0d",
   "metadata": {},
   "outputs": [],
   "source": [
    "path = '/clustering/cssegi'\n",
    "with pd.HDFStore(resfile, complevel=complevel, complib=complib) as store:\n",
    "    df_cssegi = store[path]\n",
    "\n",
    "times = df_cssegi.index\n",
    "idx = (times >= ti) & (times <= tf)\n",
    "df_cssegi.drop(index=times[~idx], inplace=True)\n",
    "times = df_cssegi.index.to_pydatetime().tolist()\n",
    "df_cssegi"
   ]
  },
  {
   "cell_type": "code",
   "execution_count": null,
   "id": "0fb85cb2-6f7d-46c0-926e-4d16f10a422c",
   "metadata": {},
   "outputs": [],
   "source": [
    "omega_real = df_cssegi.to_numpy().astype('float64')\n",
    "domega_real = np.diff(omega_real, axis=0)\n",
    "domega_real = np.concatenate([omega_real[0].reshape(1,-1), domega_real], axis=0)"
   ]
  },
  {
   "cell_type": "code",
   "execution_count": null,
   "id": "04273d87-cc67-49da-b867-1fc2b99265a7",
   "metadata": {},
   "outputs": [],
   "source": [
    "# compute the real epidemic sizes per community through time\n",
    "T_real = np.einsum('ta,a->ta', omega_real, population_inv)\n",
    "dT_real = np.einsum('ta,a->ta', domega_real, population_inv)\n",
    "T_tot_real = np.einsum('ta,a->t', T_real, population) / np.sum(population)\n",
    "dT_tot_real = np.einsum('ta,a->t', dT_real, population) / np.sum(population)"
   ]
  },
  {
   "cell_type": "markdown",
   "id": "2b797cf9-de42-4474-a2c0-cbdc4cea474f",
   "metadata": {},
   "source": [
    "### Read fit"
   ]
  },
  {
   "cell_type": "code",
   "execution_count": null,
   "id": "f93ac323-4145-4588-af40-2817a06793eb",
   "metadata": {},
   "outputs": [],
   "source": [
    "with pd.HDFStore(resfile, complevel=complevel, complib=complib) as store:\n",
    "    mykey = str(pathtofit / 'result' / 'fit')\n",
    "    df_fit = store[mykey]\n",
    "\n",
    "times = df_fit.index\n",
    "idx = (times >= ti) & (times <= tf)\n",
    "df_fit.drop(index=times[~idx], inplace=True)\n",
    "times = df_fit.index.to_pydatetime().tolist()\n",
    "df_fit"
   ]
  },
  {
   "cell_type": "markdown",
   "id": "007ceb29-dbef-4a07-9970-0ad11c75262f",
   "metadata": {},
   "source": [
    "### Determine lockdown time"
   ]
  },
  {
   "cell_type": "code",
   "execution_count": null,
   "id": "610a5560-db05-49c5-88df-22443a6438bd",
   "metadata": {},
   "outputs": [],
   "source": [
    "b_scales = df_fit['scale_step'].fillna(value=np.nan).to_numpy()\n",
    "ic = np.nanargmax(np.abs(np.diff(b_scales))) + 1\n",
    "tc = df_fit.index[ic]\n",
    "print(f\"lockdown at t = {tc}\")"
   ]
  },
  {
   "cell_type": "code",
   "execution_count": null,
   "id": "26b4bc02-f651-4480-8a06-4395b5c2a6ca",
   "metadata": {},
   "outputs": [],
   "source": [
    "df_fit.iloc[ic-1:ic+2]"
   ]
  },
  {
   "cell_type": "markdown",
   "id": "3a801a4e-d084-4a54-815f-36c65588a8a3",
   "metadata": {},
   "source": [
    "## Perform simulation"
   ]
  },
  {
   "cell_type": "markdown",
   "id": "a6d94b96-e9dd-4bb4-b719-7fbf1cfba865",
   "metadata": {},
   "source": [
    "### Construct the localization matrices"
   ]
  },
  {
   "cell_type": "code",
   "execution_count": null,
   "id": "7000d5c5-f2f8-413d-9742-09ff4e33fc4c",
   "metadata": {},
   "outputs": [],
   "source": [
    "pathtoloc = pathtosimu / 'infectivity_matrices'"
   ]
  },
  {
   "cell_type": "code",
   "execution_count": null,
   "id": "48d8e6fa-cf39-462b-97bd-8f247f0c1540",
   "metadata": {},
   "outputs": [],
   "source": [
    "times = df_fit.index"
   ]
  },
  {
   "cell_type": "code",
   "execution_count": null,
   "id": "95fc11ff-740a-405a-9b52-e75c5bf0b2f3",
   "metadata": {},
   "outputs": [],
   "source": [
    "with pd.HDFStore(resfile, complevel=complevel, complib=complib) as store:\n",
    "    key = pathtofit / 'infectivity_matrices' / times[0].strftime(tfmt)\n",
    "    key = str(key)\n",
    "    df_loc = store[key]\n",
    "\n",
    "with pd.HDFStore(resfile, complevel=complevel, complib=complib) as store:\n",
    "    t = times[0]\n",
    "    pref = t.strftime(tfmt)\n",
    "\n",
    "    key = pathtoloc / pref\n",
    "    key = str(key)\n",
    "    store[key] = df_loc"
   ]
  },
  {
   "cell_type": "markdown",
   "id": "9af30e52-d315-4b4a-b3ae-809f4343f713",
   "metadata": {},
   "source": [
    "### Set initial condition"
   ]
  },
  {
   "cell_type": "code",
   "execution_count": null,
   "id": "203bf327-5575-4aed-9cbe-0753f212ca57",
   "metadata": {},
   "outputs": [],
   "source": [
    "from functions import sir_SI_to_X"
   ]
  },
  {
   "cell_type": "code",
   "execution_count": null,
   "id": "c02d42f2-24cf-4646-abb0-51278be10771",
   "metadata": {},
   "outputs": [],
   "source": [
    "with pd.HDFStore(resfile, complevel=complevel, complib=complib) as store:\n",
    "    mykey = str(pathtofit / 'result' / 'susceptible')\n",
    "    df_S_fit = store[mykey]\n",
    "    \n",
    "    mykey = str(pathtofit / 'result' / 'infected')\n",
    "    df_I_fit = store[mykey]"
   ]
  },
  {
   "cell_type": "code",
   "execution_count": null,
   "id": "f881c8e7-24d8-4bd8-891a-4412ad3d0db5",
   "metadata": {},
   "outputs": [],
   "source": [
    "Si = df_S_fit.iloc[0]\n",
    "Ii = df_I_fit.iloc[0]\n",
    "Xi = sir_SI_to_X(Si, Ii)"
   ]
  },
  {
   "cell_type": "code",
   "execution_count": null,
   "id": "4ab22d3d-2200-45ef-860e-4ce651aa296f",
   "metadata": {},
   "outputs": [],
   "source": [
    "T_fit = 1. - df_S_fit.to_numpy().astype('float64')\n",
    "dT_fit = np.diff(T_fit, axis=0)\n",
    "dT_fit = np.concatenate([T_fit[0].reshape(1,-1), dT_fit], axis=0)\n",
    "\n",
    "df_T_fit = pd.DataFrame(data=T_fit, index=df_S_fit.index, columns=df_S_fit.columns)\n",
    "df_dT_fit = pd.DataFrame(data=dT_fit, index=df_S_fit.index, columns=df_S_fit.columns)"
   ]
  },
  {
   "cell_type": "code",
   "execution_count": null,
   "id": "18f0093a-7b79-4e17-9cb7-8b09812edec6",
   "metadata": {},
   "outputs": [],
   "source": [
    "T_tot_fit = np.einsum('ta,a', T_fit, population) / np.sum(population)\n",
    "dT_tot_fit = np.einsum('ta,a', dT_fit, population) / np.sum(population)"
   ]
  },
  {
   "cell_type": "markdown",
   "id": "44d7d0cd-b72a-460c-87cc-768fab91105b",
   "metadata": {},
   "source": [
    "### Simulation"
   ]
  },
  {
   "cell_type": "code",
   "execution_count": null,
   "id": "7a22257f-19eb-4a11-8b9a-e9f407ef3d25",
   "metadata": {},
   "outputs": [],
   "source": [
    "from functions import integrate_sir, get_sir_omega_SI"
   ]
  },
  {
   "cell_type": "code",
   "execution_count": null,
   "id": "2f1e2b8c-71db-42f8-a437-4b97850557e3",
   "metadata": {},
   "outputs": [],
   "source": [
    "scales = df_fit.loc[:times[-1]-datetime.timedelta(days=1), 'scale_sigmoid'].to_numpy()\n",
    "with pd.HDFStore(resfile, complevel=complevel, complib=complib) as store:\n",
    "    ts, Ss, Is  = integrate_sir(Xi, times, scales, gamma, store, pathtoloc)\n",
    "\n",
    "df_S = pd.DataFrame(data=Ss, index=ts, columns=clusters.index)\n",
    "df_I = pd.DataFrame(data=Is, index=ts, columns=clusters.index)\n",
    "\n",
    "path = pathtosimu / 'result'\n",
    "with pd.HDFStore(resfile, complevel=complevel, complib=complib) as store:\n",
    "    key = path / 'susceptible'\n",
    "    store[str(key)] = df_S\n",
    "    \n",
    "    key = path / 'infected'\n",
    "    store[str(key)] = df_I"
   ]
  },
  {
   "cell_type": "code",
   "execution_count": null,
   "id": "5fabdf23-86f8-4dca-a39a-2bfdc2b00fd7",
   "metadata": {},
   "outputs": [],
   "source": [
    "path = pathtosimu / 'result'\n",
    "with pd.HDFStore(resfile, complevel=complevel, complib=complib) as store:\n",
    "    key = path / 'susceptible'\n",
    "    df_S = store[str(key)]\n",
    "    \n",
    "    key = path / 'infected'\n",
    "    df_I = store[str(key)]\n",
    "    \n",
    "    ts = df_S.index"
   ]
  },
  {
   "cell_type": "code",
   "execution_count": null,
   "id": "bbca1fd5-9b79-4dce-b7a9-4f3e0c11519e",
   "metadata": {},
   "outputs": [],
   "source": [
    "S = df_S.to_numpy().astype('float64')\n",
    "T = (1. - S)\n",
    "dT = np.diff(T, axis=0)\n",
    "dT = np.concatenate([T[0].reshape(1,-1), dT], axis=0)\n",
    "\n",
    "df_T = pd.DataFrame(data=T, index=df_S.index, columns=df_S.columns)\n",
    "df_dT = pd.DataFrame(data=dT, index=df_S.index, columns=df_S.columns)"
   ]
  },
  {
   "cell_type": "code",
   "execution_count": null,
   "id": "758bd324-c386-4102-8ee1-767aab568ced",
   "metadata": {},
   "outputs": [],
   "source": [
    "T_tot = np.einsum('ta,a', T, population) / np.sum(population)\n",
    "dT_tot = np.einsum('ta,a', dT, population) / np.sum(population)"
   ]
  },
  {
   "cell_type": "markdown",
   "id": "e858e51f-9165-409a-885b-5540a4ca17e8",
   "metadata": {},
   "source": [
    "### Plot epidemic size evolution"
   ]
  },
  {
   "cell_type": "code",
   "execution_count": null,
   "id": "95bb6c09-e40b-4af5-907c-cc875db2fde3",
   "metadata": {},
   "outputs": [],
   "source": [
    "figdir = Path('..') / '..' / 'figures' / '6-simulations' / '61-simplified_model'\n",
    "if not figdir.is_dir():\n",
    "    figdir.mkdir(parents=True, exist_ok=True)"
   ]
  },
  {
   "cell_type": "code",
   "execution_count": null,
   "id": "f8315570-3064-4d8f-91b3-d44a06053a71",
   "metadata": {},
   "outputs": [],
   "source": [
    "# parameters\n",
    "figsize = (6,4.5)\n",
    "dpi = 300\n",
    "ms=2\n",
    "lw=1\n",
    "show_dT=True\n",
    "Z = np.sum(population) / 1000\n",
    "\n",
    "\n",
    "fig = plt.figure(facecolor='w', figsize=figsize)\n",
    "ax = fig.gca()\n",
    "\n",
    "if show_dT:\n",
    "    ax.plot(times,dT_tot_fit*Z, '-', ms=ms, color='darkblue')\n",
    "    ax.plot(times,dT_tot*Z, '-', ms=ms, color='darkgreen')\n",
    "    ax.plot(times,dT_tot_real*Z, 'o', lw=lw, color='red')\n",
    "    ax.set_ylabel(\"$d T$\", fontsize=\"medium\")\n",
    "    fname = 'domega_tot_fit'\n",
    "else:\n",
    "    ax.plot(times,T_tot_fit*Z, '-', ms=ms, color='darkblue')\n",
    "    ax.plot(times,T_tot*Z, '-', ms=ms, color='darkgreen')\n",
    "    ax.plot(times,T_tot_real*Z, 'o', lw=lw, color='red')\n",
    "    ax.set_ylabel(\"$T$\", fontsize=\"medium\")\n",
    "    ax.set_yscale('log')\n",
    "    fname = 'omega_tot_fit'\n",
    "\n",
    "ax.set_xlim(times[0],None)\n",
    "plt.xticks(rotation=45)\n",
    "ax.spines['right'].set_visible(False)\n",
    "ax.spines['top'].set_visible(False)\n",
    "ax.tick_params(left=True, labelleft=True, bottom=True, labelbottom=True)\n",
    "ax.tick_params(axis='both', length=4)\n",
    "fig.tight_layout()\n",
    "\n",
    "for ext in exts:\n",
    "    filepath = figdir / (fname + ext)\n",
    "    fig.savefig(filepath, bbox_inches='tight', pad_inches=0, dpi=dpi)\n",
    "    print(\"Written file: {:s}\".format(str(filepath)))\n",
    "fig.clf()\n",
    "plt.close('all')"
   ]
  },
  {
   "cell_type": "code",
   "execution_count": null,
   "id": "c32ddfa3-5a60-458e-b768-23cafb73e3b4",
   "metadata": {},
   "outputs": [],
   "source": [
    "filepath = figdir / (fname + '.png')\n",
    "Image(filename=filepath, width=4./3*360)"
   ]
  },
  {
   "cell_type": "markdown",
   "id": "71808c81-c0f2-49fd-906e-b8e96edfb68c",
   "metadata": {},
   "source": [
    "## Show spatial $T$ agreement"
   ]
  },
  {
   "cell_type": "markdown",
   "id": "b27f5eda-083c-4cf6-88a6-2ffd26a694cb",
   "metadata": {},
   "source": [
    "Show $T_a$"
   ]
  },
  {
   "cell_type": "code",
   "execution_count": null,
   "id": "b107a6a5-0c53-4529-b0bf-5ed5da88d120",
   "metadata": {},
   "outputs": [],
   "source": [
    "# parameters\n",
    "vmin = 1.0e0\n",
    "vmax = 1.0e6\n",
    "cmap = cm.rainbow\n",
    "figsize=(4,3)\n",
    "dpi=300\n",
    "\n",
    "## color mapping with date value\n",
    "indices = np.arange(len(ts))\n",
    "norm = mco.Normalize(vmin=np.min(indices), vmax=np.max(indices))\n",
    "colors = cmap(norm(indices))\n",
    "\n",
    "## make figure\n",
    "fig = plt.figure(facecolor='w', figsize=figsize, dpi=dpi)\n",
    "ax = fig.gca()\n",
    "\n",
    "for i in range(len(ts)):\n",
    "    t = ts[i]\n",
    "    X = T_fit[i]*population\n",
    "    Y = T[i]*population\n",
    "    \n",
    "    ax.plot(X, Y, 'o', color=colors[i], lw=0, mew=0, ms=2, alpha=0.1)    \n",
    "ax.plot([vmin, vmax], [vmin, vmax], 'k-', lw=0.5)\n",
    "\n",
    "# plot formatting\n",
    "ax.set_xlabel(\"$T_a^\\mathrm{fit}$\", fontsize='medium')\n",
    "ax.set_ylabel(\"$T_a$\", fontsize='medium')\n",
    "ax.spines['right'].set_visible(False)\n",
    "ax.spines['top'].set_visible(False)\n",
    "ax.tick_params(bottom=True, left=True, labelbottom=True, labelleft=True)\n",
    "ax.tick_params(length=4)\n",
    "ax.set_xlim(vmin, vmax)\n",
    "ax.set_ylim(vmin, vmax)\n",
    "ax.set_xscale('log')\n",
    "ax.set_yscale('log')\n",
    "ax.set_aspect('equal')\n",
    "    \n",
    "fig.tight_layout(rect=[0.,0.,0.95,1.])\n",
    "cax = fig.add_axes(rect=[0.99,0.2,0.01,0.7])\n",
    "cbar = plt.colorbar(cm.ScalarMappable(norm=norm, cmap=cmap),cax=cax, extendfrac='auto')\n",
    "ticks = cbar.get_ticks()\n",
    "labels = [ts[int(i)].strftime('%Y-%m-%d') for i in ticks]\n",
    "cbar.set_ticks(ticks)\n",
    "cbar.set_ticklabels(labels)\n",
    "\n",
    "fname = 'T_model_vs_simplified'\n",
    "for ext in exts:\n",
    "    filepath = figdir / (fname + ext)\n",
    "    fig.savefig(filepath, bbox_inches='tight', pad_inches=0, dpi=dpi)\n",
    "    print(\"Written file: {:s}\".format(str(filepath)))\n",
    "fig.clf()\n",
    "plt.close('all')"
   ]
  },
  {
   "cell_type": "code",
   "execution_count": null,
   "id": "0adc67eb-81e3-4ead-b610-a6b544722839",
   "metadata": {},
   "outputs": [],
   "source": [
    "filepath = figdir / (fname + '.png')\n",
    "Image(filename=filepath, width=4./3*360)"
   ]
  },
  {
   "cell_type": "markdown",
   "id": "659c76ec-7bad-4ed0-8807-70c4abd6fb81",
   "metadata": {},
   "source": [
    "Show $dT_a$"
   ]
  },
  {
   "cell_type": "code",
   "execution_count": null,
   "id": "d95ca7fe-3064-45de-a9d4-fc34eeb6bc2a",
   "metadata": {},
   "outputs": [],
   "source": [
    "# parameters\n",
    "vmin = 1.0e0\n",
    "vmax = 1.0e4\n",
    "cmap = cm.rainbow\n",
    "figsize=(4,3)\n",
    "dpi=300\n",
    "\n",
    "## color mapping with date value\n",
    "indices = np.arange(len(ts))\n",
    "norm = mco.Normalize(vmin=np.min(indices), vmax=np.max(indices))\n",
    "colors = cmap(norm(indices))\n",
    "\n",
    "## make figure\n",
    "fig = plt.figure(facecolor='w', figsize=figsize, dpi=dpi)\n",
    "ax = fig.gca()\n",
    "\n",
    "for i in range(len(ts)):\n",
    "    t = ts[i]\n",
    "    X = dT_fit[i]*population\n",
    "    Y = dT[i]*population\n",
    "    \n",
    "    ax.plot(X, Y, 'o', color=colors[i], lw=0, mew=0, ms=2, alpha=0.1)    \n",
    "\n",
    "ax.plot([vmin, vmax], [vmin, vmax], 'k-', lw=0.5)\n",
    "# plot formatting\n",
    "ax.set_xlabel(\"$dT_a^\\mathrm{fit}$\", fontsize='medium')\n",
    "ax.set_ylabel(\"$dT_a$\", fontsize='medium')\n",
    "ax.spines['right'].set_visible(False)\n",
    "ax.spines['top'].set_visible(False)\n",
    "ax.tick_params(bottom=True, left=True, labelbottom=True, labelleft=True)\n",
    "ax.tick_params(length=4)\n",
    "ax.set_xlim(vmin, vmax)\n",
    "ax.set_ylim(vmin, vmax)\n",
    "ax.set_xscale('log')\n",
    "ax.set_yscale('log')\n",
    "ax.set_aspect('equal')\n",
    "    \n",
    "fig.tight_layout(rect=[0.,0.,0.95,1.])\n",
    "cax = fig.add_axes(rect=[0.99,0.2,0.01,0.7])\n",
    "cbar = plt.colorbar(cm.ScalarMappable(norm=norm, cmap=cmap),cax=cax, extendfrac='auto')\n",
    "ticks = cbar.get_ticks()\n",
    "labels = [ts[int(i)].strftime('%Y-%m-%d') for i in ticks]\n",
    "cbar.set_ticks(ticks)\n",
    "cbar.set_ticklabels(labels)\n",
    "\n",
    "\n",
    "fname = 'dT_model_vs_simplified'\n",
    "for ext in exts:\n",
    "    filepath = figdir / (fname + ext)\n",
    "    fig.savefig(filepath, bbox_inches='tight', pad_inches=0, dpi=dpi)\n",
    "    print(\"Written file: {:s}\".format(str(filepath)))\n",
    "fig.clf()\n",
    "plt.close('all')"
   ]
  },
  {
   "cell_type": "code",
   "execution_count": null,
   "id": "19527b3c-bace-46f2-928d-53c04b87d706",
   "metadata": {},
   "outputs": [],
   "source": [
    "filepath = figdir / (fname + '.png')\n",
    "Image(filename=filepath, width=4./3*360)"
   ]
  },
  {
   "cell_type": "markdown",
   "id": "136afd08-648d-4441-8314-5d34d9de2d6f",
   "metadata": {},
   "source": [
    "## Show time-dependent profile"
   ]
  },
  {
   "cell_type": "code",
   "execution_count": null,
   "id": "5564b7cd-78e9-4a4b-9075-b692d29f38c7",
   "metadata": {},
   "outputs": [],
   "source": [
    "from functions import plot_omega_profile"
   ]
  },
  {
   "cell_type": "code",
   "execution_count": null,
   "id": "4fff5524-4bf5-4d6f-917f-e1d4202eb97b",
   "metadata": {},
   "outputs": [],
   "source": [
    "# parameters\n",
    "dpi=150\n",
    "fps=10\n",
    "figsize=(6, 4.5)\n",
    "lw=0.5\n",
    "ms=4\n",
    "\n",
    "\n",
    "mydir = figdir / 'profiles'\n",
    "if not mydir.is_dir():\n",
    "    mydir.mkdir(parents=True, exist_ok=True)\n",
    "\n",
    "fpath = mydir / 'profile_T.mp4'\n",
    "T_list = np.array([np.einsum('ta,a->ta', T_real[:,:],population), np.einsum('ta,a->ta', T_fit[:,:], population),  np.einsum('ta,a->ta', T[:,:], population)])\n",
    "ylabel=\"$T_a$\"\n",
    "plot_omega_profile(T_list, times, labels=['real', 'fit', 'simplified'], colors=['red', 'darkblue', 'darkgreen'], \\\n",
    "                   fileout=fpath, tpdir=mydir / 'snapshots_T', dpi=dpi, fps=fps, figsize=figsize, ylabel=ylabel, \\\n",
    "                   lw=lw, ms=ms, styles=['o', '-', '-'], deletetp=False, exts=['.png','.svg'], ymin=1.)\n",
    "\n",
    "fpath = mydir / 'profile_dT.mp4'\n",
    "T_list = np.array([np.einsum('ta,a->ta', dT_real[:,:],population), np.einsum('ta,a->ta', dT_fit[:,:], population),  np.einsum('ta,a->ta', dT[:,:], population)])\n",
    "ylabel=\"$dT_a$\"\n",
    "plot_omega_profile(T_list, times, labels=['real', 'fit', 'simplified'], colors=['red', 'darkblue', 'darkgreen'], \\\n",
    "                   fileout=fpath, tpdir=mydir / 'snapshots_dT', dpi=dpi, fps=fps, figsize=figsize, ylabel=ylabel, \\\n",
    "                   lw=lw, ms=ms, styles=['o', '-', '-'], deletetp=False, exts=['.png','.svg'], ymin=1.)"
   ]
  },
  {
   "cell_type": "code",
   "execution_count": null,
   "id": "5584e5b9-b20c-413b-89c3-01f9ae055069",
   "metadata": {},
   "outputs": [],
   "source": [
    "fpath = figdir / 'profiles' / 'profile_T.mp4'\n",
    "HTML(\"\"\"\n",
    "<video height=\"360\" controls>\n",
    "  <source src=\"{:s}\" type=\"video/mp4\">\n",
    "</video>\n",
    "\"\"\".format(str(fpath)))"
   ]
  },
  {
   "cell_type": "code",
   "execution_count": null,
   "id": "d7dd5e42-ad86-4156-9d24-ed70407ffba1",
   "metadata": {},
   "outputs": [],
   "source": [
    "fpath = figdir / 'profiles' / 'profile_dT.mp4'\n",
    "HTML(\"\"\"\n",
    "<video height=\"360\" controls>\n",
    "  <source src=\"{:s}\" type=\"video/mp4\">\n",
    "</video>\n",
    "\"\"\".format(str(fpath)))"
   ]
  },
  {
   "cell_type": "markdown",
   "id": "395aba55-e44e-470d-8a52-44425d3caa74",
   "metadata": {},
   "source": [
    "## Show time-dependent map"
   ]
  },
  {
   "cell_type": "code",
   "execution_count": null,
   "id": "27864096-ec18-416d-81c2-14beb623fd3c",
   "metadata": {},
   "outputs": [],
   "source": [
    "from functions import plot_omega_map"
   ]
  },
  {
   "cell_type": "code",
   "execution_count": null,
   "id": "7258db73-fbd3-4726-9e45-17b738a57e4b",
   "metadata": {},
   "outputs": [],
   "source": [
    "# parameters\n",
    "dpi=150\n",
    "fps=10\n",
    "figsize=(6, 4.5)\n",
    "lw=0.5\n",
    "ms=4\n",
    "idump=1\n",
    "\n",
    "mydir = figdir / 'maps'\n",
    "if not mydir.is_dir():\n",
    "    mydir.mkdir(parents=True, exist_ok=True)\n",
    "\n",
    "\n",
    "fpath = mydir / 'map_T.mp4'\n",
    "plot_omega_map(np.einsum('ta,a->ta', T, population), times, XY=clusters.loc[:, ['X', 'Y']].to_numpy().T, \\\n",
    "fileout=fpath, tpdir=mydir / 'snapshots_T', dpi=dpi, fps=fps, figsize=figsize, idump=idump, \\\n",
    "               clabel=\"$T$\", vmin=1., deletetp=False, exts=['.png','.svg'])\n",
    "    \n",
    "fpath = mydir / 'map_dT.mp4'\n",
    "plot_omega_map(np.einsum('ta,a->ta', dT, population), times, XY=clusters.loc[:, ['X', 'Y']].to_numpy().T, \\\n",
    "fileout=fpath, tpdir=mydir / 'snapshots_dT', dpi=dpi, fps=fps, figsize=figsize, idump=idump, \\\n",
    "               clabel=\"$dT$\", vmin=1., deletetp=False, exts=['.png','.svg'])"
   ]
  },
  {
   "cell_type": "code",
   "execution_count": null,
   "id": "d9b9b105-fa14-4496-a63c-7f5df1237cbf",
   "metadata": {},
   "outputs": [],
   "source": [
    "fpath = figdir / 'maps' / 'map_T.mp4'\n",
    "HTML(\"\"\"\n",
    "<video height=\"360\" controls>\n",
    "  <source src=\"{:s}\" type=\"video/mp4\">\n",
    "</video>\n",
    "\"\"\".format(str(fpath)))"
   ]
  },
  {
   "cell_type": "code",
   "execution_count": null,
   "id": "fbbd9daa-b1f8-44f6-bf74-71299e27caf8",
   "metadata": {},
   "outputs": [],
   "source": [
    "fpath = figdir / 'maps' / 'map_dT.mp4'\n",
    "HTML(\"\"\"\n",
    "<video height=\"360\" controls>\n",
    "  <source src=\"{:s}\" type=\"video/mp4\">\n",
    "</video>\n",
    "\"\"\".format(str(fpath)))"
   ]
  },
  {
   "cell_type": "code",
   "execution_count": null,
   "id": "0881e5c1-b425-4666-b743-eaa87c7d3513",
   "metadata": {},
   "outputs": [],
   "source": []
  }
 ],
 "metadata": {
  "kernelspec": {
   "display_name": "Python 3",
   "language": "python",
   "name": "python3"
  },
  "language_info": {
   "codemirror_mode": {
    "name": "ipython",
    "version": 3
   },
   "file_extension": ".py",
   "mimetype": "text/x-python",
   "name": "python",
   "nbconvert_exporter": "python",
   "pygments_lexer": "ipython3",
   "version": "3.8.5"
  }
 },
 "nbformat": 4,
 "nbformat_minor": 5
}
