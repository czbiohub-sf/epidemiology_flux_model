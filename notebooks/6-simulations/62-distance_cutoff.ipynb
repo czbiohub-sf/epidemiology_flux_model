{
 "cells": [
  {
   "cell_type": "markdown",
   "id": "alleged-glenn",
   "metadata": {},
   "source": [
    "# Distance cutoff policy\n",
    "\n",
    "[Index](../0-index.ipynb)\n",
    "\n",
    "Here we investigate how truncating interactions to nearest neighbors (based on a distance cutoff) affect the spreading of the epidemic."
   ]
  },
  {
   "cell_type": "code",
   "execution_count": null,
   "id": "2d29beb1-5d56-42c6-b6a2-811ce5e328b0",
   "metadata": {},
   "outputs": [],
   "source": [
    "%load_ext autoreload\n",
    "%autoreload 2\n",
    "%matplotlib inline"
   ]
  },
  {
   "cell_type": "code",
   "execution_count": null,
   "id": "7ef0da77-0cea-40bb-893f-745eab19dd17",
   "metadata": {},
   "outputs": [],
   "source": [
    "from pathlib import Path\n",
    "import os,sys\n",
    "import numpy as np\n",
    "import pandas as pd\n",
    "import h5py\n",
    "import datetime\n",
    "import networkx as ntx\n",
    "\n",
    "import warnings\n",
    "warnings.filterwarnings('ignore')\n",
    "\n",
    "import matplotlib.pyplot as plt\n",
    "import matplotlib.colors as mco\n",
    "import matplotlib.gridspec as mgs\n",
    "import matplotlib.cm as cm\n",
    "from matplotlib import animation\n",
    "plt.rcParams['svg.fonttype'] = 'none'\n",
    "\n",
    "from IPython.display import HTML\n",
    "from IPython.display import Image"
   ]
  },
  {
   "cell_type": "code",
   "execution_count": null,
   "id": "0df99fb8-b2f5-4eb4-9100-26a9f68d030e",
   "metadata": {},
   "outputs": [],
   "source": [
    "sys.path.append(str(Path('../..') / 'code'))"
   ]
  },
  {
   "cell_type": "code",
   "execution_count": null,
   "id": "1bb593da-1393-439e-97cc-7eeccd6e3a71",
   "metadata": {},
   "outputs": [],
   "source": [
    "resdir = Path('../../results/')\n",
    "if not resdir.is_dir():\n",
    "    raise ValueError('No results directory!')"
   ]
  },
  {
   "cell_type": "code",
   "execution_count": null,
   "id": "63b064a7-6bf0-4028-94fe-574542726f4c",
   "metadata": {},
   "outputs": [],
   "source": [
    "resfile = resdir / 'safegraph_analysis.hdf5'\n",
    "complevel=7\n",
    "complib='zlib'\n",
    "with pd.HDFStore(resfile, complevel=complevel, complib=complib) as store:\n",
    "    print(f\"File {resfile.stem} has {len(store.keys())} entries.\")"
   ]
  },
  {
   "cell_type": "markdown",
   "id": "44228c87-91ba-4e67-9395-2a65eac30e3c",
   "metadata": {},
   "source": [
    "## Global variables and other quantities"
   ]
  },
  {
   "cell_type": "markdown",
   "id": "ba1c0a39-4045-4617-bb63-70c1201ce399",
   "metadata": {},
   "source": [
    "### Global variables"
   ]
  },
  {
   "cell_type": "code",
   "execution_count": null,
   "id": "084dda19-055b-4d83-bcdf-bc858c58494f",
   "metadata": {},
   "outputs": [],
   "source": [
    "gamma = 1/10.\n",
    "ti = '2020-03-01'\n",
    "tf = '2021-02-16'\n",
    "\n",
    "tfmt = '%Y-%m-%d'\n",
    "ti = datetime.datetime.strptime(ti, tfmt)\n",
    "tf = datetime.datetime.strptime(tf, tfmt)\n",
    "\n",
    "pathtofit = Path('/fit')\n",
    "pathtosimu = Path('/simulations/distance_cutoff')\n",
    "\n",
    "exts = ['.png', '.svg']"
   ]
  },
  {
   "cell_type": "markdown",
   "id": "003488c5-7c41-4d8b-944a-daebac5804d0",
   "metadata": {},
   "source": [
    "### Load clusters to get population"
   ]
  },
  {
   "cell_type": "code",
   "execution_count": null,
   "id": "368b2b21-9331-4bbd-9391-620753b10367",
   "metadata": {},
   "outputs": [],
   "source": [
    "key = \"/clustering/clusters\"\n",
    "with pd.HDFStore(resfile, complevel=complevel, complib=complib) as store:\n",
    "    clusters = store[key]\n",
    "# clusters = pd.read_hdf(resfile, key)\n",
    "N = len(clusters)\n",
    "print(f\"N = {N}\")\n",
    "clusters"
   ]
  },
  {
   "cell_type": "code",
   "execution_count": null,
   "id": "0ae9a3dc-dff6-44f0-b28c-d982bf9f6914",
   "metadata": {},
   "outputs": [],
   "source": [
    "population = clusters['population'].to_numpy()\n",
    "population_inv = np.zeros(population.shape, dtype=np.float_)\n",
    "idx = population > 0.\n",
    "population_inv[idx] = 1./population[idx]"
   ]
  },
  {
   "cell_type": "markdown",
   "id": "5dbefd90-2264-4d78-940b-d22ad84710a1",
   "metadata": {},
   "source": [
    "### Load matrix of distances"
   ]
  },
  {
   "cell_type": "code",
   "execution_count": null,
   "id": "7b064126-ec15-49f7-a610-097eb228e028",
   "metadata": {},
   "outputs": [],
   "source": [
    "key = \"/clustering/distances\"\n",
    "with pd.HDFStore(resfile, complevel=complevel, complib=complib) as store:\n",
    "    distances = store[key].to_numpy()"
   ]
  },
  {
   "cell_type": "markdown",
   "id": "2b797cf9-de42-4474-a2c0-cbdc4cea474f",
   "metadata": {},
   "source": [
    "### Read fit"
   ]
  },
  {
   "cell_type": "code",
   "execution_count": null,
   "id": "f93ac323-4145-4588-af40-2817a06793eb",
   "metadata": {},
   "outputs": [],
   "source": [
    "with pd.HDFStore(resfile, complevel=complevel, complib=complib) as store:\n",
    "    mykey = str(pathtofit / 'result' / 'fit')\n",
    "    df_fit = store[mykey]\n",
    "\n",
    "times = df_fit.index\n",
    "idx = (times >= ti) & (times <= tf)\n",
    "df_fit.drop(index=times[~idx], inplace=True)\n",
    "times = df_fit.index.to_pydatetime().tolist()\n",
    "df_fit"
   ]
  },
  {
   "cell_type": "markdown",
   "id": "007ceb29-dbef-4a07-9970-0ad11c75262f",
   "metadata": {},
   "source": [
    "### Determine lockdown time"
   ]
  },
  {
   "cell_type": "code",
   "execution_count": null,
   "id": "610a5560-db05-49c5-88df-22443a6438bd",
   "metadata": {},
   "outputs": [],
   "source": [
    "b_scales = df_fit['scale_step'].fillna(value=np.nan).to_numpy()\n",
    "ic = np.nanargmax(np.abs(np.diff(b_scales))) + 1\n",
    "tc = df_fit.index[ic]\n",
    "print(f\"lockdown at t = {tc}\")"
   ]
  },
  {
   "cell_type": "code",
   "execution_count": null,
   "id": "26b4bc02-f651-4480-8a06-4395b5c2a6ca",
   "metadata": {},
   "outputs": [],
   "source": [
    "df_fit.iloc[ic-1:ic+2]"
   ]
  },
  {
   "cell_type": "code",
   "execution_count": null,
   "id": "f7d33b0e-41ec-480c-91c4-172697290144",
   "metadata": {},
   "outputs": [],
   "source": [
    "smax = np.nanmax(b_scales)\n",
    "smin = np.nanmin(b_scales)\n",
    "scale = smin + 1*(smax-smin)\n",
    "print(\"scale = {:.4f}    smin = {:.4f}    smax = {:.4f}\".format(scale, smin, smax))"
   ]
  },
  {
   "cell_type": "markdown",
   "id": "3a801a4e-d084-4a54-815f-36c65588a8a3",
   "metadata": {},
   "source": [
    "## Perform simulation"
   ]
  },
  {
   "cell_type": "code",
   "execution_count": null,
   "id": "b7f8d8fa-6fed-46b0-a999-06c8bb87b318",
   "metadata": {},
   "outputs": [],
   "source": [
    "#### from functions import sir_SI_to_X\n",
    "from functions import integrate_sir, get_sir_omega_SI\n",
    "from scipy.special import xlogy"
   ]
  },
  {
   "cell_type": "markdown",
   "id": "a8b3eae8-264c-429e-b531-05a53746e2ed",
   "metadata": {},
   "source": [
    "### Parameters"
   ]
  },
  {
   "cell_type": "code",
   "execution_count": null,
   "id": "727335ee-54c7-4ed0-a3cd-ccdb65bfd216",
   "metadata": {},
   "outputs": [],
   "source": [
    "dc_list = 2**np.arange(5, dtype=np.float_)*100  # distance cutoffs (km)\n",
    "dcfmt = \"dc_{:.0f}km\"  # format for dc directories"
   ]
  },
  {
   "cell_type": "markdown",
   "id": "dfff286d-b0b6-40eb-9df0-a564a956d56b",
   "metadata": {},
   "source": [
    "### Define initial condition"
   ]
  },
  {
   "cell_type": "code",
   "execution_count": null,
   "id": "9f945265-bcf4-4bfd-a20d-ff0271ad153e",
   "metadata": {},
   "outputs": [],
   "source": [
    "with pd.HDFStore(resfile, complevel=complevel, complib=complib) as store:\n",
    "    mykey = str(pathtofit / 'result' / 'susceptible')\n",
    "    df_S_fit = store[mykey]\n",
    "    \n",
    "    mykey = str(pathtofit / 'result' / 'infected')\n",
    "    df_I_fit = store[mykey]"
   ]
  },
  {
   "cell_type": "code",
   "execution_count": null,
   "id": "b1000e05-9f67-41ae-9c82-8ae281264170",
   "metadata": {},
   "outputs": [],
   "source": [
    "Si = df_S_fit.iloc[0].to_numpy()\n",
    "Ii = df_I_fit.iloc[0].to_numpy()\n",
    "imax = np.argmax(Ii)\n",
    "vmax = Ii[imax]\n",
    "Ii = np.zeros(Ii.shape, dtype=Ii.dtype)\n",
    "Ii[imax]=vmax\n",
    "# Xi = sir_SI_to_X(Si, Ii)"
   ]
  },
  {
   "cell_type": "code",
   "execution_count": null,
   "id": "a33805d9-55a3-49a0-950f-1e6405c3849a",
   "metadata": {},
   "outputs": [],
   "source": [
    "T_fit = 1. - df_S_fit.to_numpy().astype('float64')\n",
    "dT_fit = np.diff(T_fit, axis=0)\n",
    "dT_fit = np.concatenate([T_fit[0].reshape(1,-1), dT_fit], axis=0)\n",
    "\n",
    "df_T_fit = pd.DataFrame(data=T_fit, index=df_S_fit.index, columns=df_S_fit.columns)\n",
    "df_dT_fit = pd.DataFrame(data=dT_fit, index=df_S_fit.index, columns=df_S_fit.columns)"
   ]
  },
  {
   "cell_type": "code",
   "execution_count": null,
   "id": "eaec151d-1d0e-4b9c-997a-6011ffd534ea",
   "metadata": {},
   "outputs": [],
   "source": [
    "T_tot_fit = np.einsum('ta,a', T_fit, population) / np.sum(population)\n",
    "dT_tot_fit = np.einsum('ta,a', dT_fit, population) / np.sum(population)"
   ]
  },
  {
   "cell_type": "markdown",
   "id": "7b984d09-a6ac-45dc-a06f-3d8f750d87a4",
   "metadata": {},
   "source": [
    "### Construct the localization matrices"
   ]
  },
  {
   "cell_type": "code",
   "execution_count": null,
   "id": "6818bc1b-1f6f-4e7f-bea1-9d950d105ff3",
   "metadata": {},
   "outputs": [],
   "source": [
    "from functions import sir_SI_to_X"
   ]
  },
  {
   "cell_type": "code",
   "execution_count": null,
   "id": "73b1bf62-04bc-413f-b53d-27d69cc0426b",
   "metadata": {},
   "outputs": [],
   "source": [
    "print(\"Path to simulations: {:s}\".format(str(pathtosimu)))"
   ]
  },
  {
   "cell_type": "code",
   "execution_count": null,
   "id": "bfca6ae8-97d8-4443-97c8-18384f0cd4ff",
   "metadata": {},
   "outputs": [],
   "source": [
    "with pd.HDFStore(resfile, complevel=complevel, complib=complib) as store:\n",
    "    key = pathtofit / 'infectivity_matrices' / times[0].strftime(tfmt)\n",
    "    key = str(key)\n",
    "    df_loc = store[key]"
   ]
  },
  {
   "cell_type": "code",
   "execution_count": null,
   "id": "0d5c56d0-d05b-492e-83ae-948e86490734",
   "metadata": {},
   "outputs": [],
   "source": [
    "with pd.HDFStore(resfile, complevel=complevel, complib=complib) as store:\n",
    "    if pathtosimu in store.keys():\n",
    "        for rt, dirs, files in store.walk(str(pathtosimu)):\n",
    "            for f in files:\n",
    "                fpath = Path(rt) / f\n",
    "                print(str(fpath))\n",
    "                del store[str(fpath)]"
   ]
  },
  {
   "cell_type": "code",
   "execution_count": null,
   "id": "593d4cab-c7da-4801-ba88-8289c71a86c3",
   "metadata": {},
   "outputs": [],
   "source": [
    "for k in range(len(dc_list)):\n",
    "    dc = dc_list[k]\n",
    "    print(\"dc = {:.0f}km\".format(dc))\n",
    "    dcpath = pathtosimu / dcfmt.format(dc)\n",
    "    \n",
    "    # compute selection matrix\n",
    "    phi = np.int_(distances < dc*1.0e3)\n",
    "    \n",
    "    # localization matrix\n",
    "    pathtoloc = dcpath / 'infectivity_matrices'\n",
    "    print(pathtoloc)\n",
    "    \n",
    "    with pd.HDFStore(resfile, complevel=complevel, complib=complib) as store:\n",
    "        pref = times[0].strftime(tfmt)\n",
    "\n",
    "        # set to zero entries corresponding to a distance > cutoff\n",
    "        key = pathtoloc / pref\n",
    "        key = str(key)\n",
    "        store[key] = phi*df_loc\n",
    "        \n",
    "    # initial condition\n",
    "    pathtoinit = dcpath / 'initial_condition'\n",
    "    print(pathtoinit)\n",
    "    \n",
    "    ## compute connected components\n",
    "    G = ntx.convert_matrix.from_numpy_matrix(phi)\n",
    "    con_comp = sorted(ntx.connected_components(G), key=len, reverse=True)\n",
    "    \n",
    "    ## get closest (in terms of indices) cluster belonging to the largest connected component\n",
    "    c = np.array(list(con_comp[0]))\n",
    "    k0 = np.argmin(distances[imax,c])\n",
    "    i0 = c[k0]\n",
    "    print(\"Initial cluster in community {:d}\".format(i0))\n",
    "    \n",
    "    ## save initial condition\n",
    "    S = Si.copy()\n",
    "    I = np.zeros(Ii.shape, dtype=Ii.dtype)\n",
    "    S = np.ones(Si.shape, dtype=Ii.dtype)\n",
    "    I[i0] = Ii[imax]\n",
    "    S[i0] = 1.-Ii[imax]\n",
    "    X = sir_SI_to_X(S, I)\n",
    "    with pd.HDFStore(resfile, complevel=complevel, complib=complib) as store:\n",
    "        store[str(pathtoinit)] = pd.DataFrame(data=X.reshape(1,-1), index=times[:1])"
   ]
  },
  {
   "cell_type": "markdown",
   "id": "3e268086-ba25-4599-9808-eb6acb448ac1",
   "metadata": {},
   "source": [
    "### Simulation"
   ]
  },
  {
   "cell_type": "code",
   "execution_count": null,
   "id": "2f9d5ba6-faac-4521-b55d-4bb7f00b31cd",
   "metadata": {},
   "outputs": [],
   "source": [
    "for k in range(len(dc_list)):\n",
    "    dc = dc_list[k]\n",
    "    print(\"dc = {:.0f}km\".format(dc))\n",
    "    dcpath = pathtosimu / dcfmt.format(dc)\n",
    "    pathtoloc = dcpath / 'infectivity_matrices'\n",
    "    print(pathtoloc)\n",
    "    \n",
    "    pathtoinit = dcpath / 'initial_condition'\n",
    "\n",
    "    with pd.HDFStore(resfile, complevel=complevel, complib=complib) as store:\n",
    "        Xi = np.ravel(store[str(pathtoinit)].to_numpy())\n",
    "        ts, Ss, Is  = integrate_sir(Xi, [times[0], times[-1]], [scale], gamma, store, pathtoloc)\n",
    "\n",
    "    df_S = pd.DataFrame(data=Ss, index=ts, columns=np.arange(N))\n",
    "    df_I = pd.DataFrame(data=Is, index=ts, columns=np.arange(N))\n",
    "\n",
    "    path = dcpath / 'result'\n",
    "    with pd.HDFStore(resfile, complevel=complevel, complib=complib) as store:\n",
    "        key = path / 'susceptible'\n",
    "        store[str(key)] = df_S\n",
    "\n",
    "        key = path / 'infected'\n",
    "        store[str(key)] = df_I"
   ]
  },
  {
   "cell_type": "markdown",
   "id": "a6462960-61b4-483b-bdcb-1aa9faf9d83f",
   "metadata": {},
   "source": [
    "## Visualize the global epidemic size"
   ]
  },
  {
   "cell_type": "code",
   "execution_count": null,
   "id": "52104d19-1f0f-427a-9649-f57b8495d581",
   "metadata": {},
   "outputs": [],
   "source": [
    "for k in range(len(dc_list)):\n",
    "    dc = dc_list[k]\n",
    "    print(\"dc = {:.0f}km\".format(dc))\n",
    "    dcpath = pathtosimu / dcfmt.format(dc)\n",
    "    pathtoloc = dcpath / 'infectivity_matrices'\n",
    "    print(pathtoloc)\n",
    "\n",
    "    path = dcpath / 'result'\n",
    "    with pd.HDFStore(resfile, complevel=complevel, complib=complib) as store:\n",
    "        key = path / 'susceptible'\n",
    "        df_S = store[str(key)]\n",
    "    break\n",
    "ts = df_S.index"
   ]
  },
  {
   "cell_type": "code",
   "execution_count": null,
   "id": "937545cd-1054-42e8-8ebd-a7fa67625e22",
   "metadata": {},
   "outputs": [],
   "source": [
    "T_tots = []\n",
    "dT_tots = []\n",
    "for k in range(len(dc_list)):\n",
    "    dc = dc_list[k]\n",
    "    print(\"dc = {:.0f}km\".format(dc))\n",
    "    dcpath = pathtosimu / dcfmt.format(dc)\n",
    "\n",
    "    path = dcpath / 'result'\n",
    "    with pd.HDFStore(resfile, complevel=complevel, complib=complib) as store:\n",
    "        key = path / 'susceptible'\n",
    "        df_S = store[str(key)]\n",
    "        key = path / 'infected'\n",
    "        df_I = store[str(key)]\n",
    "        df_T = 1. - df_S\n",
    "        T = df_T.to_numpy().astype('float64')\n",
    "        dT = np.diff(T, axis=0)\n",
    "        dT = np.concatenate([T[0].reshape(1,-1), dT], axis=0)\n",
    "\n",
    "        T_tot = np.einsum('ta,a->t', T, population) / np.sum(population)\n",
    "        dT_tot = np.einsum('ta,a->t', dT, population) / np.sum(population)\n",
    "    T_tots.append(T_tot)\n",
    "    dT_tots.append(dT_tot)\n",
    "    \n",
    "T_tots = np.array(T_tots)\n",
    "dT_tots = np.array(dT_tots)"
   ]
  },
  {
   "cell_type": "code",
   "execution_count": null,
   "id": "87c4078b-ab65-4044-ac64-b99c5312c8f2",
   "metadata": {},
   "outputs": [],
   "source": [
    "figdir = Path('..') / '..' / 'figures' / '6-simulations' / '62-distance_cutoff'\n",
    "if not figdir.is_dir():\n",
    "    figdir.mkdir(parents=True, exist_ok=True)"
   ]
  },
  {
   "cell_type": "code",
   "execution_count": null,
   "id": "9d0090cc-254c-4317-b546-f43a33276e4f",
   "metadata": {},
   "outputs": [],
   "source": [
    "# parameters\n",
    "figsize = (6,4.5)\n",
    "dpi = 300\n",
    "ms=2\n",
    "lw=1\n",
    "show_dT=True\n",
    "Z = np.sum(population) / 1000000\n",
    "\n",
    "ndc = len(dc_list)\n",
    "norm = mco.Normalize(vmin=0, vmax=ndc-1)\n",
    "cmap = cm.rainbow\n",
    "\n",
    "fig = plt.figure(facecolor='w', figsize=figsize)\n",
    "ax = fig.gca()\n",
    "\n",
    "if show_dT:\n",
    "    for n in range(ndc):\n",
    "        color = cmap(norm(n))\n",
    "        label = \"dc = {:.0f} km\".format(dc_list[n])\n",
    "        ax.plot(ts, dT_tots[n]*Z, ls='-', lw=lw, color=color, label=label)\n",
    "    ax.set_ylabel(\"$d T$\", fontsize=\"medium\")\n",
    "    fname = 'domega_tot_fit'\n",
    "else:\n",
    "    for n in range(ndc):\n",
    "        color = cmap(norm(n))\n",
    "        label = \"dc = {:.0f} km\".format(dc_list[n])\n",
    "        ax.plot(ts, T_tots[n]*Z, ls='-', lw=lw, color=color, label=label)\n",
    "    ax.set_ylabel(\"$T$\", fontsize=\"medium\")\n",
    "    ax.set_yscale('log')\n",
    "    fname = 'omega_tot_fit'\n",
    "\n",
    "ax.set_xlim(times[0],None)\n",
    "plt.xticks(rotation=45)\n",
    "ax.spines['right'].set_visible(False)\n",
    "ax.spines['top'].set_visible(False)\n",
    "ax.tick_params(left=True, labelleft=True, bottom=True, labelbottom=True)\n",
    "ax.tick_params(axis='both', length=4)\n",
    "fig.tight_layout()\n",
    "\n",
    "for ext in exts:\n",
    "    filepath = figdir / (fname + ext)\n",
    "    fig.savefig(filepath, bbox_inches='tight', pad_inches=0, dpi=dpi)\n",
    "    print(\"Written file: {:s}\".format(str(filepath)))\n",
    "fig.clf()\n",
    "plt.close('all')"
   ]
  },
  {
   "cell_type": "code",
   "execution_count": null,
   "id": "6db751c9-195b-4022-a678-a747206ffde0",
   "metadata": {},
   "outputs": [],
   "source": [
    "filepath = figdir / (fname + '.png')\n",
    "Image(filename=filepath, width=4./3*360)"
   ]
  },
  {
   "cell_type": "markdown",
   "id": "4b39eb79-aa21-42ab-8156-5ee0e91bbc4c",
   "metadata": {},
   "source": [
    "## Show time-dependent profile"
   ]
  },
  {
   "cell_type": "code",
   "execution_count": null,
   "id": "743fd6b7-56f0-4fad-b9cd-3ab06b49a94a",
   "metadata": {},
   "outputs": [],
   "source": [
    "from functions import plot_omega_profile"
   ]
  },
  {
   "cell_type": "code",
   "execution_count": null,
   "id": "af531141-bfe6-4442-9e54-36188961eaef",
   "metadata": {},
   "outputs": [],
   "source": [
    "for k in range(len(dc_list)):\n",
    "    dc = dc_list[k]\n",
    "    print(\"dc = {:.0f}km\".format(dc))\n",
    "    dcpath = pathtosimu / dcfmt.format(dc)\n",
    "    pathtoloc = dcpath / 'infectivity_matrices'\n",
    "    print(pathtoloc)\n",
    "\n",
    "    path = dcpath / 'result'\n",
    "    with pd.HDFStore(resfile, complevel=complevel, complib=complib) as store:\n",
    "        key = path / 'susceptible'\n",
    "        df_S = store[str(key)]\n",
    "    break\n",
    "ts = df_S.index"
   ]
  },
  {
   "cell_type": "code",
   "execution_count": null,
   "id": "a416167b-2315-4c3b-ac1f-00192aef8146",
   "metadata": {},
   "outputs": [],
   "source": [
    "Ts = []\n",
    "dTs = []\n",
    "for k in range(len(dc_list)):\n",
    "    dc = dc_list[k]\n",
    "    print(\"dc = {:.0f}km\".format(dc))\n",
    "    dcpath = pathtosimu / dcfmt.format(dc)\n",
    "    pathtoloc = dcpath / 'infectivity_matrices'\n",
    "    print(pathtoloc)\n",
    "\n",
    "    path = dcpath / 'result'\n",
    "    with pd.HDFStore(resfile, complevel=complevel, complib=complib) as store:\n",
    "        key = path / 'susceptible'\n",
    "        df_S = store[str(key)]\n",
    "        df_T = 1. - df_S\n",
    "        T = df_T.to_numpy().astype('float64')\n",
    "        dT = np.diff(T, axis=0)\n",
    "        dT = np.concatenate([T[0].reshape(1,-1), dT], axis=0)\n",
    "        Ts.append(T)\n",
    "        dTs.append(dT)\n",
    "        \n",
    "Ts = np.array(Ts)\n",
    "dTs = np.array(dTs)"
   ]
  },
  {
   "cell_type": "code",
   "execution_count": null,
   "id": "e7a65b1c-7bbd-44a7-bd2e-90c3d0a03162",
   "metadata": {},
   "outputs": [],
   "source": [
    "# parameters\n",
    "dpi=150\n",
    "fps=10\n",
    "figsize=(6, 4.5)\n",
    "lw=0.5\n",
    "ms=4\n",
    "\n",
    "mydir = figdir / 'profiles'\n",
    "if not mydir.is_dir():\n",
    "    mydir.mkdir(parents=True, exist_ok=True)\n",
    "\n",
    "ndc = dTs.shape[0]\n",
    "nt = dTs.shape[1]\n",
    "\n",
    "norm = mco.Normalize(vmin=0, vmax=ndc-1)\n",
    "cmap = cm.rainbow\n",
    "colors = [cmap(norm(n)) for n in range(ndc)]\n",
    "labels = [\"dc = {:.0f} km\".format(dc) for dc in dc_list]\n",
    "styles = ['-']*ndc\n",
    "\n",
    "fpath = mydir / 'profile_T.mp4'\n",
    "ylabel=\"$T_a$\"\n",
    "plot_omega_profile(np.einsum('nta,a->nta', Ts, population), ts, labels=labels, colors=colors, \\\n",
    "                   fileout=fpath, tpdir=mydir / 'snapshots_T', dpi=dpi, fps=fps, figsize=figsize, ylabel=ylabel, \\\n",
    "                   lw=lw, ms=ms, styles=styles, deletetp=False, exts=['.png','.svg'], ymin=1.)\n",
    "\n",
    "fpath = mydir / 'profile_dT.mp4'\n",
    "ylabel=\"$dT_a$\"\n",
    "plot_omega_profile(np.einsum('nta,a->nta', dTs, population), ts, labels=labels, colors=colors, \\\n",
    "                   fileout=fpath, tpdir=mydir / 'snapshots_dT', dpi=dpi, fps=fps, figsize=figsize, ylabel=ylabel, \\\n",
    "                   lw=lw, ms=ms, styles=styles, deletetp=False, exts=['.png','.svg'], ymin=1.)\n"
   ]
  },
  {
   "cell_type": "code",
   "execution_count": null,
   "id": "d6ea2420-083d-4356-80d4-0e2b20e5dcc5",
   "metadata": {},
   "outputs": [],
   "source": [
    "fpath = figdir / 'profiles' / 'profile_T.mp4'\n",
    "HTML(\"\"\"\n",
    "<video height=\"360\" controls>\n",
    "  <source src=\"{:s}\" type=\"video/mp4\">\n",
    "</video>\n",
    "\"\"\".format(str(fpath)))"
   ]
  },
  {
   "cell_type": "code",
   "execution_count": null,
   "id": "2b550513-93a2-43ce-b6ea-d1fd9ab060ba",
   "metadata": {},
   "outputs": [],
   "source": [
    "fpath = figdir / 'profiles' / 'profile_dT.mp4'\n",
    "HTML(\"\"\"\n",
    "<video height=\"360\" controls>\n",
    "  <source src=\"{:s}\" type=\"video/mp4\">\n",
    "</video>\n",
    "\"\"\".format(str(fpath)))"
   ]
  },
  {
   "cell_type": "markdown",
   "id": "395aba55-e44e-470d-8a52-44425d3caa74",
   "metadata": {},
   "source": [
    "## Show time-dependent map"
   ]
  },
  {
   "cell_type": "code",
   "execution_count": null,
   "id": "27864096-ec18-416d-81c2-14beb623fd3c",
   "metadata": {},
   "outputs": [],
   "source": [
    "from functions import plot_omega_map"
   ]
  },
  {
   "cell_type": "code",
   "execution_count": null,
   "id": "ac172082-b638-415b-acca-25ac844c9a0c",
   "metadata": {},
   "outputs": [],
   "source": [
    "# parameters\n",
    "dpi=150\n",
    "fps=10\n",
    "figsize=(6, 4.5)\n",
    "lw=0.5\n",
    "ms=4\n",
    "idump=1\n",
    "vmin=1.\n",
    "\n",
    "mydir = figdir / 'maps'\n",
    "if not mydir.is_dir():\n",
    "    mydir.mkdir(parents=True, exist_ok=True)\n",
    "\n",
    "ndc = Ts.shape[0]\n",
    "nt = Ts.shape[1]\n",
    "\n",
    "norm = mco.Normalize(vmin=0, vmax=ndc-1)\n",
    "cmap = cm.rainbow\n",
    "colors = [cmap(norm(n)) for n in range(ndc)]\n",
    "labels = [\"dc = {:.0f} km\".format(dc) for dc in dc_list]\n",
    "\n",
    "for k in range(ndc):\n",
    "    dc = dc_list[k]\n",
    "    \n",
    "    fpath = mydir / 'map_T_dc{:.0f}km.mp4'.format(dc)\n",
    "    plot_omega_map(np.einsum('ta,a->ta', Ts[k], population), ts, XY=clusters.loc[:, ['X', 'Y']].to_numpy().T, \\\n",
    "    fileout=fpath, tpdir=mydir / 'snapshots_T_dc{:.0f}km'.format(dc), dpi=dpi, fps=fps, figsize=figsize, \\\n",
    "                   idump=idump, clabel=\"$T$\", deletetp=False, exts=['.png', '.svg'], \\\n",
    "                  vmin=1., vmax=1.0e7)\n",
    "\n",
    "    fpath = mydir / 'map_dT_dc{:.0f}km.mp4'.format(dc)\n",
    "    plot_omega_map(np.einsum('ta,a->ta', dTs[k], population), ts, XY=clusters.loc[:, ['X', 'Y']].to_numpy().T, \\\n",
    "    fileout=fpath, tpdir=mydir / 'snapshots_dT_dc{:.0f}km'.format(dc), dpi=dpi, fps=fps, figsize=figsize, \\\n",
    "                   idump=idump, clabel=\"$dT$\", deletetp=False, exts=['.png', '.svg'], \\\n",
    "                  vmin=1., vmax=1.0e6)\n",
    "    print(\"Written {:s}\".format(str(fpath)))"
   ]
  },
  {
   "cell_type": "code",
   "execution_count": null,
   "id": "d9b9b105-fa14-4496-a63c-7f5df1237cbf",
   "metadata": {},
   "outputs": [],
   "source": [
    "fpath = figdir / 'maps' / 'map_T_dc200km.mp4'\n",
    "HTML(\"\"\"\n",
    "<video height=\"360\" controls>\n",
    "  <source src=\"{:s}\" type=\"video/mp4\">\n",
    "</video>\n",
    "\"\"\".format(str(fpath)))"
   ]
  },
  {
   "cell_type": "code",
   "execution_count": null,
   "id": "68644cfd-d863-4cb6-b5e4-e7433c358952",
   "metadata": {},
   "outputs": [],
   "source": []
  }
 ],
 "metadata": {
  "kernelspec": {
   "display_name": "Python 3",
   "language": "python",
   "name": "python3"
  },
  "language_info": {
   "codemirror_mode": {
    "name": "ipython",
    "version": 3
   },
   "file_extension": ".py",
   "mimetype": "text/x-python",
   "name": "python",
   "nbconvert_exporter": "python",
   "pygments_lexer": "ipython3",
   "version": "3.8.5"
  }
 },
 "nbformat": 4,
 "nbformat_minor": 5
}
