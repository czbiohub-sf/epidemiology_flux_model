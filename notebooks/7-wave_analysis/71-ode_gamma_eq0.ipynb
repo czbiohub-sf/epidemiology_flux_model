{
 "cells": [
  {
   "cell_type": "markdown",
   "id": "accessible-champion",
   "metadata": {},
   "source": [
    "# Wave analysis with gamma = 0\n",
    "\n",
    "[Index](../0-index.ipynb)\n",
    "\n",
    "Here we investigate the wave properties when the recovery rate is $\\gamma = 0$."
   ]
  },
  {
   "cell_type": "markdown",
   "id": "hazardous-quebec",
   "metadata": {},
   "source": [
    "## Imports and global variables"
   ]
  },
  {
   "cell_type": "code",
   "execution_count": null,
   "id": "industrial-iceland",
   "metadata": {},
   "outputs": [],
   "source": [
    "%load_ext autoreload\n",
    "%autoreload 2\n",
    "%matplotlib inline"
   ]
  },
  {
   "cell_type": "code",
   "execution_count": null,
   "id": "substantial-vaccine",
   "metadata": {},
   "outputs": [],
   "source": [
    "from pathlib import Path\n",
    "import numpy as np\n",
    "\n",
    "import matplotlib.pyplot as plt\n",
    "import matplotlib.colors as mco\n",
    "import matplotlib.gridspec as mgs\n",
    "import matplotlib.ticker as ticker\n",
    "import matplotlib.cm as cm\n",
    "from matplotlib import animation\n",
    "plt.rcParams['svg.fonttype'] = 'none'\n",
    "\n",
    "from IPython.display import HTML\n",
    "from IPython.display import Image"
   ]
  },
  {
   "cell_type": "code",
   "execution_count": null,
   "id": "8f1e15cc-7c3e-4ee4-a251-75cb89bf5053",
   "metadata": {},
   "outputs": [],
   "source": [
    "import sys\n",
    "sys.path.append('../../code')\n",
    "from functions import wave_front_get_ode_sol"
   ]
  },
  {
   "cell_type": "markdown",
   "id": "wired-dressing",
   "metadata": {},
   "source": [
    "## Model\n",
    "We consider the parametrization:\n",
    "\\begin{aligned}\n",
    "S(x,t) &= F(x - x_0 - vt), \\\\\n",
    "F(x) &= \\frac{1}{2}\\left(1 + \\phi\\left( \\frac{2v}{\\beta} x \\right) \\right),\n",
    "\\end{aligned}\n",
    "of the number of susceptible individuals on a 1D lattice.\n",
    "\n",
    "The function $\\phi$ satisfies the ODE:\n",
    "\\begin{align}\n",
    "\\left\\lbrace \\begin{aligned}\n",
    "\\theta' &= - \\frac{\\theta}{1+\\phi} + C (1-\\phi) \\\\\n",
    "\\phi' &= \\theta\n",
    "\\end{aligned}\n",
    "\\right.\n",
    "\\end{align}\n",
    "with the initial condition $\\theta(0) = C (1 - \\phi(0)^2)$. We shall initialize $\\phi(0) > -1$.\n",
    "\n",
    "We also have the condition $0 < C < 1/16$.\n",
    "\n",
    "Note that:\n",
    "\\begin{align}\n",
    "C = \\frac{\\beta (\\alpha + 4 \\beta) \\delta x^2}{4 v^2},\n",
    "\\end{align}\n",
    "where $\\delta x$ is the lattice spacing."
   ]
  },
  {
   "cell_type": "markdown",
   "id": "7e5aac5c-cdb6-4127-8ceb-14094aea0d83",
   "metadata": {},
   "source": [
    "## Parameters"
   ]
  },
  {
   "cell_type": "code",
   "execution_count": null,
   "id": "bbd42e40-444e-4dab-8676-65513ac1579f",
   "metadata": {},
   "outputs": [],
   "source": [
    "figdir = Path('..') / '..' / 'figures' / '7-wave_analysis' / '71-ode_gamma_eq0'\n",
    "if not figdir.is_dir():\n",
    "    figdir.mkdir(parents=True, exist_ok=True)"
   ]
  },
  {
   "cell_type": "code",
   "execution_count": null,
   "id": "2442d8cd-53c0-491a-bdf2-a24f8aa50662",
   "metadata": {},
   "outputs": [],
   "source": [
    "exts = ['.png', '.svg']\n",
    "dpi=300"
   ]
  },
  {
   "cell_type": "code",
   "execution_count": null,
   "id": "d3ca28eb-e2cd-478c-94e5-db26899d1d8f",
   "metadata": {},
   "outputs": [],
   "source": [
    "# parameters\n",
    "p0 = -0.99\n",
    "Cs = np.linspace(0,1./16,10+2)[1:-1]"
   ]
  },
  {
   "cell_type": "markdown",
   "id": "b3168b69-8c01-4959-9bab-558ec4d0ed3d",
   "metadata": {},
   "source": [
    "## Resolution"
   ]
  },
  {
   "cell_type": "code",
   "execution_count": null,
   "id": "47928cdf-029a-4b10-a36f-5f87c731e18c",
   "metadata": {},
   "outputs": [],
   "source": [
    "X_list = []\n",
    "Y_list = []\n",
    "T_list = []\n",
    "\n",
    "for C in Cs:\n",
    "    T, X, Y = wave_front_get_ode_sol(C, D=0., p0=p0, tmax=1000, npts=1000)    \n",
    "    T_list.append(T)\n",
    "    X_list.append(X)\n",
    "    Y_list.append(Y)"
   ]
  },
  {
   "cell_type": "code",
   "execution_count": null,
   "id": "bfaf6a7f-d59a-4057-b4be-546580b9bac1",
   "metadata": {},
   "outputs": [],
   "source": [
    "fig = plt.figure(figsize=(6,4.5))\n",
    "ax = fig.gca()\n",
    "for C, T, X in zip(Cs, T_list, X_list):\n",
    "    ax.plot(T,X, label=\"C = {:.4f}\".format(C))\n",
    "ax.spines['right'].set_visible(False)\n",
    "ax.spines['top'].set_visible(False)\n",
    "ax.tick_params(length=4)\n",
    "ax.set_ylim(0,None)\n",
    "# ax.set_yscale('log')\n",
    "ax.set_xlim(0,None)\n",
    "ax.set_xlabel('x', fontsize='large')\n",
    "ax.set_ylabel('$\\phi\\'$', fontsize='x-large')\n",
    "ax.legend(loc='best', frameon=False, fontsize='large')\n",
    "fig.tight_layout()\n",
    "\n",
    "fname = 'ode_solutions_phiprime'\n",
    "for ext in exts:\n",
    "    filepath = figdir / (fname + ext)\n",
    "    fig.savefig(filepath, bbox_inches='tight', pad_inches=0, dpi=dpi)\n",
    "    print(\"Written file: {:s}\".format(str(filepath)))\n",
    "fig.clf()\n",
    "plt.close('all')"
   ]
  },
  {
   "cell_type": "code",
   "execution_count": null,
   "id": "d06f4a1e-2327-4317-992a-92278b634e95",
   "metadata": {},
   "outputs": [],
   "source": [
    "fname = 'ode_solutions_phiprime'\n",
    "filepath = figdir / (fname + '.png')\n",
    "Image(filename=filepath, width=4./3*360)"
   ]
  },
  {
   "cell_type": "code",
   "execution_count": null,
   "id": "f97ca9a3-4320-4dd2-96e6-77ccad34a298",
   "metadata": {},
   "outputs": [],
   "source": [
    "fig = plt.figure(figsize=(6,4.5))\n",
    "ax = fig.gca()\n",
    "for C, T, Y in zip(Cs, T_list, Y_list):\n",
    "    ax.plot(T, Y, label=\"C = {:.4f}\".format(C))\n",
    "ax.spines['right'].set_visible(False)\n",
    "ax.spines['top'].set_visible(False)\n",
    "ax.tick_params(length=4)\n",
    "ax.set_ylim(-1,None)\n",
    "ax.set_xlim(0,None)\n",
    "ax.set_xlabel('x', fontsize='large')\n",
    "ax.set_ylabel('$\\phi$', fontsize='x-large')\n",
    "ax.legend(loc='best', frameon=False, fontsize='large')\n",
    "fig.tight_layout()\n",
    "\n",
    "fname = 'ode_solutions_phi'\n",
    "# fname = 'domega_tot'\n",
    "for ext in exts:\n",
    "    filepath = figdir / (fname + ext)\n",
    "    fig.savefig(filepath, bbox_inches='tight', pad_inches=0, dpi=dpi)\n",
    "    print(\"Written file: {:s}\".format(str(filepath)))\n",
    "fig.clf()\n",
    "plt.close('all')"
   ]
  },
  {
   "cell_type": "code",
   "execution_count": null,
   "id": "cd0f0b67-bd18-4df2-b627-fd195ccd0618",
   "metadata": {},
   "outputs": [],
   "source": [
    "fname = 'ode_solutions_phi'\n",
    "filepath = figdir / (fname + '.png')\n",
    "Image(filename=filepath, width=4./3*360)"
   ]
  },
  {
   "cell_type": "markdown",
   "id": "2af56f1b-923d-48c7-8d27-2d55c7cb23a7",
   "metadata": {},
   "source": [
    "## Phase space exploration"
   ]
  },
  {
   "cell_type": "code",
   "execution_count": null,
   "id": "ef48dca0-ae76-40f1-8a7c-2f7813922fcb",
   "metadata": {},
   "outputs": [],
   "source": [
    "C = 0.1\n",
    "p0=-0.999"
   ]
  },
  {
   "cell_type": "markdown",
   "id": "68678b66-04c5-42de-ae07-9d7714e6fdd2",
   "metadata": {},
   "source": [
    "## Direct"
   ]
  },
  {
   "cell_type": "code",
   "execution_count": null,
   "id": "d514109e-9352-43b2-a4ef-342988a7f3ea",
   "metadata": {},
   "outputs": [],
   "source": [
    "T, X, Y = wave_front_get_ode_sol(C, D=0., p0=p0, tmax=100, npts=1000, x0_inf=1.0e-06)"
   ]
  },
  {
   "cell_type": "code",
   "execution_count": null,
   "id": "97a0ae71-1a16-469c-b040-69acb6c10278",
   "metadata": {},
   "outputs": [],
   "source": [
    "fig = plt.figure(figsize=(4,3), dpi=300)\n",
    "ax = fig.gca()\n",
    "ax.plot(T, Y, '-', lw=1, color='darkblue', label='$\\\\phi(X)$')\n",
    "ax.legend(loc='best')\n",
    "ax.set_xlabel(\"X\", fontsize='medium')\n",
    "# ax.set_ylim(-1,1)\n",
    "ax.set_xlim(0,None)\n",
    "ax.spines['right'].set_visible(False)\n",
    "ax.spines['top'].set_visible(False)\n",
    "ax.tick_params(length=4)\n",
    "\n",
    "fname = 'sol_phi'\n",
    "for ext in exts:\n",
    "    filepath = figdir / (fname + ext)\n",
    "    fig.savefig(filepath, bbox_inches='tight', pad_inches=0, dpi=dpi)\n",
    "    print(\"Written file: {:s}\".format(str(filepath)))\n",
    "fig.clf()\n",
    "plt.close('all')"
   ]
  },
  {
   "cell_type": "code",
   "execution_count": null,
   "id": "82ff1887-66b4-4a60-9baf-0fafbe459186",
   "metadata": {},
   "outputs": [],
   "source": [
    "fname = 'sol_phi'\n",
    "filepath = figdir / (fname + '.png')\n",
    "Image(filename=filepath, width=4./3*360)"
   ]
  },
  {
   "cell_type": "code",
   "execution_count": null,
   "id": "7ab176fa-7daa-42dd-8999-562a68753c9f",
   "metadata": {},
   "outputs": [],
   "source": [
    "fig = plt.figure(figsize=(4,3), dpi=300)\n",
    "ax = fig.gca()\n",
    "ax.plot(T, X, '-', lw=1, color='darkblue', label='$\\\\theta(X)$')\n",
    "ax.legend(loc='best')\n",
    "ax.set_xlabel(\"X\", fontsize='medium')\n",
    "# ax.set_ylim(-1,1)\n",
    "ax.set_xlim(0,None)\n",
    "ax.spines['right'].set_visible(False)\n",
    "ax.spines['top'].set_visible(False)\n",
    "ax.tick_params(length=4)\n",
    "\n",
    "fname = 'sol_theta'\n",
    "for ext in exts:\n",
    "    filepath = figdir / (fname + ext)\n",
    "    fig.savefig(filepath, bbox_inches='tight', pad_inches=0, dpi=dpi)\n",
    "    print(\"Written file: {:s}\".format(str(filepath)))\n",
    "fig.clf()\n",
    "plt.close('all')"
   ]
  },
  {
   "cell_type": "code",
   "execution_count": null,
   "id": "6bc6078a-d6b1-479d-9a5d-4bc0500b0c8a",
   "metadata": {},
   "outputs": [],
   "source": [
    "fname = 'sol_theta'\n",
    "filepath = figdir / (fname + '.png')\n",
    "Image(filename=filepath, width=4./3*360)"
   ]
  },
  {
   "cell_type": "code",
   "execution_count": null,
   "id": "759d7012-5d98-4625-8706-5c4432526c32",
   "metadata": {},
   "outputs": [],
   "source": [
    "from functions import wave_ode_gamma_eq0 as func_ode"
   ]
  },
  {
   "cell_type": "code",
   "execution_count": null,
   "id": "9d681d56-12e6-43b2-83e7-86ba09657623",
   "metadata": {},
   "outputs": [],
   "source": [
    "fig = plt.figure(figsize=(4,3), dpi=300)\n",
    "ax = fig.gca()\n",
    "xspace = np.linspace(0,2*C,20)\n",
    "yspace = np.linspace(-1,1,21)[1:]\n",
    "XX, YY = np.meshgrid(xspace, yspace)\n",
    "\n",
    "args = [C]\n",
    "F = func_ode(0, [XX,YY], *args)\n",
    "\n",
    "Yr = np.linspace(yspace[0],yspace[-1],101)\n",
    "Xr = C*(1-Yr**2)\n",
    "\n",
    "ax.quiver(YY,XX,F[1],F[0])\n",
    "ax.plot(Yr, Xr, 'r--', lw=1, label='$X = C (1-Y^2)$')\n",
    "ax.plot(Y, X, '-', lw=1, color='darkblue', label='straight')\n",
    "ax.set_xlabel(\"y\", fontsize='large')\n",
    "ax.set_ylabel(\"x\", fontsize='large')\n",
    "ax.set_xlim(-1,1)\n",
    "ax.set_ylim(0,2*C)\n",
    "ax.spines['right'].set_visible(False)\n",
    "ax.spines['top'].set_visible(False)\n",
    "ax.tick_params(length=4)\n",
    "\n",
    "ax.legend(loc='upper right', fontsize='small')\n",
    "\n",
    "fname = 'ode_field'\n",
    "for ext in exts:\n",
    "    filepath = figdir / (fname + ext)\n",
    "    fig.savefig(filepath, bbox_inches='tight', pad_inches=0, dpi=dpi)\n",
    "    print(\"Written file: {:s}\".format(str(filepath)))\n",
    "fig.clf()\n",
    "plt.close('all')"
   ]
  },
  {
   "cell_type": "code",
   "execution_count": null,
   "id": "24cdaac1-bfda-48c1-86a6-7c1ef61b6c65",
   "metadata": {},
   "outputs": [],
   "source": [
    "fname = 'ode_field'\n",
    "filepath = figdir / (fname + '.png')\n",
    "Image(filename=filepath, width=4./3*360)"
   ]
  },
  {
   "cell_type": "code",
   "execution_count": null,
   "id": "d28ca5f9-56aa-4ade-8036-194a9f1b62bf",
   "metadata": {},
   "outputs": [],
   "source": [
    "from scipy.integrate import solve_ivp"
   ]
  },
  {
   "cell_type": "code",
   "execution_count": null,
   "id": "3b36cc78-6fba-4c62-a635-9d7045d7a821",
   "metadata": {},
   "outputs": [],
   "source": [
    "method = 'BDF'\n",
    "tmax = 100\n",
    "fig = plt.figure(figsize=(4,3), dpi=300)\n",
    "ax = fig.gca()\n",
    "seed = 123\n",
    "np.random.seed(123)\n",
    "for i in range(300):\n",
    "    q0 = np.random.rand()*2*C\n",
    "    p0 = np.random.rand()*2 - 1.\n",
    "    X0 = np.array([q0,p0])\n",
    "    t, x, y = wave_front_get_ode_sol(C, D=0., p0=p0, X0=X0, tmax=100, npts=1000, x0_inf=1.0e-06)\n",
    "    \n",
    "    ax.plot(y, x, '-', lw=0.5, color='darkblue')\n",
    "ax.set_xlabel(\"y\", fontsize='large')\n",
    "ax.set_ylabel(\"x\", fontsize='large')\n",
    "ax.set_xlim(-1,1)\n",
    "ax.set_ylim(0,2*C)\n",
    "ax.spines['right'].set_visible(False)\n",
    "ax.spines['top'].set_visible(False)\n",
    "ax.tick_params(length=4)\n",
    "# ax.legend(loc='upper right', fontsize='large')\n",
    "\n",
    "fname = 'ode_trajectories'\n",
    "for ext in exts:\n",
    "    filepath = figdir / (fname + ext)\n",
    "    fig.savefig(filepath, bbox_inches='tight', pad_inches=0, dpi=dpi)\n",
    "    print(\"Written file: {:s}\".format(str(filepath)))\n",
    "fig.clf()\n",
    "plt.close('all')"
   ]
  },
  {
   "cell_type": "code",
   "execution_count": null,
   "id": "e64b105f-6b15-4fb5-90da-b8e63ac7633b",
   "metadata": {},
   "outputs": [],
   "source": [
    "fname = 'ode_trajectories'\n",
    "filepath = figdir / (fname + '.png')\n",
    "Image(filename=filepath, width=4./3*360)"
   ]
  }
 ],
 "metadata": {
  "kernelspec": {
   "display_name": "Python 3",
   "language": "python",
   "name": "python3"
  },
  "language_info": {
   "codemirror_mode": {
    "name": "ipython",
    "version": 3
   },
   "file_extension": ".py",
   "mimetype": "text/x-python",
   "name": "python",
   "nbconvert_exporter": "python",
   "pygments_lexer": "ipython3",
   "version": "3.8.5"
  }
 },
 "nbformat": 4,
 "nbformat_minor": 5
}
