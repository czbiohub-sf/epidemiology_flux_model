{
 "cells": [
  {
   "cell_type": "markdown",
   "id": "accessible-champion",
   "metadata": {},
   "source": [
    "# Wave analysis with gamma > 0\n",
    "\n",
    "[Index](../0-index.ipynb)\n",
    "\n",
    "Here we investigate the wave properties when the recovery rate is $\\gamma > 0$."
   ]
  },
  {
   "cell_type": "markdown",
   "id": "hazardous-quebec",
   "metadata": {},
   "source": [
    "## Imports and global variables"
   ]
  },
  {
   "cell_type": "code",
   "execution_count": null,
   "id": "industrial-iceland",
   "metadata": {},
   "outputs": [],
   "source": [
    "%load_ext autoreload\n",
    "%autoreload 2\n",
    "%matplotlib inline"
   ]
  },
  {
   "cell_type": "code",
   "execution_count": null,
   "id": "substantial-vaccine",
   "metadata": {},
   "outputs": [],
   "source": [
    "from pathlib import Path\n",
    "import numpy as np\n",
    "\n",
    "import matplotlib.pyplot as plt\n",
    "import matplotlib.colors as mco\n",
    "import matplotlib.gridspec as mgs\n",
    "import matplotlib.ticker as ticker\n",
    "import matplotlib.cm as cm\n",
    "from matplotlib import animation\n",
    "plt.rcParams['svg.fonttype'] = 'none'\n",
    "\n",
    "from IPython.display import HTML\n",
    "from IPython.display import Image"
   ]
  },
  {
   "cell_type": "code",
   "execution_count": null,
   "id": "0eb1bb59-fe9f-4deb-9794-49c440c443b1",
   "metadata": {},
   "outputs": [],
   "source": [
    "import sys\n",
    "sys.path.append('../../code')\n",
    "from functions import wave_front_get_ode_sol"
   ]
  },
  {
   "cell_type": "markdown",
   "id": "wired-dressing",
   "metadata": {},
   "source": [
    "## Model\n",
    "We consider the parametrization:\n",
    "\\begin{align}\n",
    "  \\begin{aligned}\n",
    "    S(x,t) &= F(x - x_0 - vt), \\\\\n",
    "    F(x) &= \\frac{1}{2}\\left(1 + \\phi\\left( \\frac{2v}{\\beta} x \\right) \\right),\n",
    "  \\end{aligned}\n",
    "  \\qquad\n",
    "  \\begin{aligned}\n",
    "    R(x,t) &= G(x - x_0 - vt), \\\\\n",
    "    G(x) &= \\frac{1}{2}\\left(1 - \\psi\\left( \\frac{2v}{\\beta} x \\right) \\right),\n",
    "  \\end{aligned}\n",
    "\\end{align}\n",
    "of the number of susceptible and recovered individuals on a 1D lattice.\n",
    "The function $\\phi$ and $\\psi$ satisfy the ODE:\n",
    "\\begin{align}\n",
    "    \\theta' &= -\\left( \\frac{1}{1+\\phi} + CD \\right) \\theta + C(1 + C D^2) (\\psi-\\phi) , \\\\\n",
    "    \\phi' &= \\theta, \\\\\n",
    "    \\psi' &= C D (\\psi - \\phi),\n",
    "\\end{align}\n",
    "with the initial condition\n",
    "\\begin{align}\n",
    "  \\psi(0) &= \\phi(0) + 2 \\epsilon, \\\\\n",
    "  2 C \\epsilon ( 1 + \\phi(0)),\n",
    "\\end{align}\n",
    "where $\\epsilon$ is the fraction of infected individuals at $t=0$. $\\phi(0)$ remains to be adjusted so that the final state of the trajectory is such that $\\lim_{x \\to +\\infty} \\phi(x) = 1$.\n",
    "\n",
    "We also have the condition $0 < C \\le 1/\\left(16(1 - D/2)\\right)$.\n",
    "\n",
    "Note that:\n",
    "\\begin{align}\n",
    "C = \\frac{\\beta (\\alpha + 4 \\beta) \\delta x^2}{4 v^2}\n",
    "\\end{align}"
   ]
  },
  {
   "cell_type": "markdown",
   "id": "7e5aac5c-cdb6-4127-8ceb-14094aea0d83",
   "metadata": {},
   "source": [
    "## Parameters"
   ]
  },
  {
   "cell_type": "code",
   "execution_count": null,
   "id": "2767619b-eb86-465c-9e43-2dc858c744f9",
   "metadata": {},
   "outputs": [],
   "source": [
    "figdir = Path('..') / '..' / 'figures' / '7-wave_analysis' / '72-ode_gamma_neq0'\n",
    "if not figdir.is_dir():\n",
    "    figdir.mkdir(parents=True, exist_ok=True)\n",
    "print(figdir)"
   ]
  },
  {
   "cell_type": "code",
   "execution_count": null,
   "id": "568ae3c6-ecf6-4300-a56f-9b70afca9d85",
   "metadata": {},
   "outputs": [],
   "source": [
    "exts = ['.png', '.svg']\n",
    "dpi=300"
   ]
  },
  {
   "cell_type": "code",
   "execution_count": null,
   "id": "029d4c63-32b4-4bb6-a72e-ed238a26556e",
   "metadata": {},
   "outputs": [],
   "source": [
    "alpha = 1.0e-1  # intra-community infectivity coefficient\n",
    "beta = alpha   # extra-community infectivity coefficient\n",
    "gamma = 0.1 # inverse recovery time\n",
    "a = alpha/beta + 4\n",
    "D = 2*gamma/(alpha*a)\n",
    "CMAX = 1./(16*(1-0.5*D))\n",
    "eps = 1.0e-3   # final fraction of infected individuals\n",
    "print(\"D = {:.4f}    CMAX = {:.4f}\".format(D,CMAX))"
   ]
  },
  {
   "cell_type": "code",
   "execution_count": null,
   "id": "af503837-5c20-42b9-945e-579bf01bf94d",
   "metadata": {},
   "outputs": [],
   "source": [
    "Cs = np.linspace(0,1,11)[1:-1]"
   ]
  },
  {
   "cell_type": "markdown",
   "id": "cc1b23ac-1ed3-443d-80e8-0cb65e164a81",
   "metadata": {},
   "source": [
    "## Resolution"
   ]
  },
  {
   "cell_type": "code",
   "execution_count": null,
   "id": "50b4b1a2-ce41-4c32-a6dd-989f84259bb4",
   "metadata": {},
   "outputs": [],
   "source": [
    "X_list = []\n",
    "Y_list = []\n",
    "Z_list = []\n",
    "T_list = []\n",
    "\n",
    "for C in Cs:\n",
    "    T, X, Y, Z = wave_front_get_ode_sol(C*CMAX, D, tmax=10000, npts=10000)    \n",
    "    T_list.append(T)\n",
    "    X_list.append(X)\n",
    "    Y_list.append(Y)\n",
    "    Z_list.append(Z)"
   ]
  },
  {
   "cell_type": "code",
   "execution_count": null,
   "id": "a19fdf0c-14e5-4cc5-a22e-19fd59d5acb0",
   "metadata": {},
   "outputs": [],
   "source": [
    "fig = plt.figure(figsize=(6,4.5))\n",
    "ax = fig.gca()\n",
    "for C, T, X in zip(Cs, T_list, X_list):\n",
    "    ax.plot(T,X, label=\"C = {:.2f}\".format(C))\n",
    "ax.spines['right'].set_visible(False)\n",
    "ax.spines['top'].set_visible(False)\n",
    "ax.tick_params(length=4)\n",
    "ax.set_ylim(0,None)\n",
    "# ax.set_yscale('log')\n",
    "ax.set_xlim(0,1500)\n",
    "ax.set_xlabel('x', fontsize='large')\n",
    "ax.set_ylabel('$\\phi\\'$', fontsize='x-large')\n",
    "ax.legend(loc='best', frameon=False, fontsize='large')\n",
    "fig.tight_layout()\n",
    "\n",
    "fname = 'ode_solutions_phiprime'\n",
    "# fname = 'domega_tot'\n",
    "for ext in exts:\n",
    "    filepath = figdir / (fname + ext)\n",
    "    fig.savefig(filepath, bbox_inches='tight', pad_inches=0, dpi=dpi)\n",
    "    print(\"Written file: {:s}\".format(str(filepath)))\n",
    "fig.clf()\n",
    "plt.close('all')"
   ]
  },
  {
   "cell_type": "code",
   "execution_count": null,
   "id": "142caf12-22b6-4d41-97bc-ef25277096ea",
   "metadata": {},
   "outputs": [],
   "source": [
    "fname = 'ode_solutions_phiprime'\n",
    "filepath = figdir / (fname + '.png')\n",
    "Image(filename=filepath, width=4./3*360)"
   ]
  },
  {
   "cell_type": "code",
   "execution_count": null,
   "id": "1fb2d16c-dcbc-4e8d-a4b1-ab8997f4df6b",
   "metadata": {},
   "outputs": [],
   "source": [
    "fig = plt.figure(figsize=(6,4.5))\n",
    "ax = fig.gca()\n",
    "for C, T, Y in zip(Cs, T_list, Y_list):\n",
    "    ax.plot(T, Y, label=\"C = {:.2f}\".format(C))\n",
    "ax.spines['right'].set_visible(False)\n",
    "ax.spines['top'].set_visible(False)\n",
    "ax.tick_params(length=4)\n",
    "ax.set_ylim(-1,None)\n",
    "ax.set_xlim(0,1500)\n",
    "ax.set_xlabel('x', fontsize='large')\n",
    "ax.set_ylabel('$\\phi$', fontsize='x-large')\n",
    "ax.legend(loc='best', frameon=False, fontsize='large')\n",
    "fig.tight_layout()\n",
    "\n",
    "fname = 'ode_solutions_phi'\n",
    "# fname = 'domega_tot'\n",
    "for ext in exts:\n",
    "    filepath = figdir / (fname + ext)\n",
    "    fig.savefig(filepath, bbox_inches='tight', pad_inches=0, dpi=dpi)\n",
    "    print(\"Written file: {:s}\".format(str(filepath)))\n",
    "fig.clf()\n",
    "plt.close('all')"
   ]
  },
  {
   "cell_type": "code",
   "execution_count": null,
   "id": "995f3aa9-a295-4ecd-aede-e816b8ef75c4",
   "metadata": {},
   "outputs": [],
   "source": [
    "fname = 'ode_solutions_phi'\n",
    "filepath = figdir / (fname + '.png')\n",
    "Image(filename=filepath, width=4./3*360)"
   ]
  },
  {
   "cell_type": "markdown",
   "id": "b803b772-6d45-438a-b105-794c1c8b8a81",
   "metadata": {},
   "source": [
    "## Phase space exploration"
   ]
  },
  {
   "cell_type": "code",
   "execution_count": null,
   "id": "7418aefb-cd13-49b9-b275-025ca7b42aef",
   "metadata": {},
   "outputs": [],
   "source": [
    "alpha = 1.0e-1    # intra-community infectivity coefficient\n",
    "beta = alpha      # extra-community infectivity coefficient\n",
    "gamma = 0.1       # inverse recovery time\n",
    "C = 0.05\n",
    "a = alpha/beta + 4\n",
    "D = 2*gamma/(alpha*a)\n",
    "print(\"C = {:.4f}    D = {:.4f}    CMAX = {:.4f}\".format(C,D,1./(16*(1-0.5*D))))"
   ]
  },
  {
   "cell_type": "code",
   "execution_count": null,
   "id": "6ecf3aae-2c70-47a8-8b69-906189ee5de3",
   "metadata": {},
   "outputs": [],
   "source": [
    "tmax = 1000\n",
    "T, X, Y, Z = wave_front_get_ode_sol(C, D, tmax=tmax, npts=1000)    "
   ]
  },
  {
   "cell_type": "code",
   "execution_count": null,
   "id": "16e7153b-204e-4952-a1c1-2af92ffb5d28",
   "metadata": {},
   "outputs": [],
   "source": [
    "fig = plt.figure(figsize=(4,3), dpi=300)\n",
    "ax = fig.gca()\n",
    "# ax.plot(sol.t, sol.y[1], '-', lw=1, color='darkblue', label='$\\\\phi(X)$')\n",
    "# ax.plot(sol.t, sol.y[2], '-', lw=1, color='darkorange', label='$\\\\psi(X)$')\n",
    "ax.plot(T, Y, '-', lw=1, color='darkblue', label='$\\\\phi(X)$')\n",
    "ax.plot(T, Z, '-', lw=1, color='darkorange', label='$\\\\psi(X)$')\n",
    "ax.legend(loc='best')\n",
    "ax.set_xlabel(\"X\", fontsize='medium')\n",
    "# ax.set_ylim(-1,1)\n",
    "ax.set_xlim(0,None)\n",
    "ax.spines['right'].set_visible(False)\n",
    "ax.spines['top'].set_visible(False)\n",
    "ax.tick_params(length=4)\n",
    "\n",
    "fname = 'sol_phipsi'\n",
    "for ext in exts:\n",
    "    filepath = figdir / (fname + ext)\n",
    "    fig.savefig(filepath, bbox_inches='tight', pad_inches=0, dpi=dpi)\n",
    "    print(\"Written file: {:s}\".format(str(filepath)))\n",
    "fig.clf()\n",
    "plt.close('all')"
   ]
  },
  {
   "cell_type": "code",
   "execution_count": null,
   "id": "a9f9cf76-8829-41fb-865d-9f4c31a8483e",
   "metadata": {},
   "outputs": [],
   "source": [
    "fname = 'sol_phipsi'\n",
    "filepath = figdir / (fname + '.png')\n",
    "Image(filename=filepath, width=4./3*360)"
   ]
  },
  {
   "cell_type": "code",
   "execution_count": null,
   "id": "cb16611f-ba73-40b2-991b-efe2207d6c55",
   "metadata": {},
   "outputs": [],
   "source": [
    "fig = plt.figure(figsize=(4,3), dpi=300)\n",
    "ax = fig.gca()\n",
    "ax.plot(T, X, '-', lw=1, color='darkblue', label='$\\\\theta(X)$')\n",
    "ax.legend(loc='best')\n",
    "ax.set_xlabel(\"X\", fontsize='medium')\n",
    "# ax.set_ylabel(\"x\", fontsize='medium')\n",
    "# ax.set_ylim(-1,1)\n",
    "ax.set_xlim(0,None)\n",
    "ax.spines['right'].set_visible(False)\n",
    "ax.spines['top'].set_visible(False)\n",
    "ax.tick_params(length=4)\n",
    "\n",
    "fname = 'sol_theta'\n",
    "for ext in exts:\n",
    "    filepath = figdir / (fname + ext)\n",
    "    fig.savefig(filepath, bbox_inches='tight', pad_inches=0, dpi=dpi)\n",
    "    print(\"Written file: {:s}\".format(str(filepath)))\n",
    "fig.clf()\n",
    "plt.close('all')"
   ]
  },
  {
   "cell_type": "code",
   "execution_count": null,
   "id": "5e974b06-216f-4bfa-bb5b-afc0bb444e29",
   "metadata": {},
   "outputs": [],
   "source": [
    "fname = 'sol_theta'\n",
    "filepath = figdir / (fname + '.png')\n",
    "Image(filename=filepath, width=4./3*360)"
   ]
  },
  {
   "cell_type": "code",
   "execution_count": null,
   "id": "08b530d9-d2b3-4e7f-8bec-8e92a080422e",
   "metadata": {},
   "outputs": [],
   "source": [
    "from functions import wave_ode_gamma_neq0 as func_ode"
   ]
  },
  {
   "cell_type": "code",
   "execution_count": null,
   "id": "525e9d3d-df3d-4ce1-b08b-d91cac49d7cc",
   "metadata": {},
   "outputs": [],
   "source": [
    "nx = 11\n",
    "xspace = np.linspace(0,0.02,nx)\n",
    "yspace = np.linspace(-1,1,15)[1:]\n",
    "zspace = np.linspace(-1,1,14)\n",
    "args = [C,D]\n",
    "\n",
    "XX, YY, ZZ = np.meshgrid(xspace, yspace, zspace, indexing='ij')\n",
    "XX = np.ravel(XX)\n",
    "YY = np.ravel(YY)\n",
    "ZZ = np.ravel(ZZ)\n",
    "F = func_ode(0, [XX, YY, ZZ], *args)\n",
    "# fmax = np.max(np.abs(F[0]))\n",
    "fmax=1\n",
    "norm = mco.Normalize(vmin=-fmax, vmax=fmax)\n",
    "cmap = cm.seismic_r\n",
    "\n",
    "nrow = int(np.sqrt(nx))\n",
    "ncol = nrow\n",
    "while (nrow*ncol < nx):\n",
    "    ncol += 1\n",
    "fig = plt.figure(figsize=(3*ncol,3*nrow), dpi=300)\n",
    "gs = mgs.GridSpec(nrow,ncol)\n",
    "for n in range(nx):\n",
    "    YY, ZZ = np.meshgrid(yspace, zspace, indexing='ij')\n",
    "    YY = np.ravel(YY)\n",
    "    ZZ = np.ravel(ZZ)\n",
    "    XX = xspace[n]*np.ones(YY.shape)\n",
    "\n",
    "    F = func_ode(0, [XX, YY, ZZ], *args)\n",
    "    \n",
    "    ax = fig.add_subplot(gs[n])\n",
    "\n",
    "    color=cmap(norm(np.sign(np.ravel(F[0]))))\n",
    "    U = np.ravel(F[1])\n",
    "    V = np.ravel(F[2])\n",
    "    W = np.ravel(F[0])\n",
    "    unorm = np.sqrt(U**2+V**2+W**2)\n",
    "    U /= unorm\n",
    "    V /= unorm\n",
    "    ax.quiver(YY, ZZ, U, V, color=color)\n",
    "# ax.plot(Y,Z,X,'r-', lw=1)\n",
    "    ax.set_xlabel('y')\n",
    "    ax.set_ylabel('z')\n",
    "    ax.set_title('x = {:.3f}'.format(xspace[n]))\n",
    "    ax.set_xlim(-1,1)\n",
    "    ax.set_ylim(-1,1)\n",
    "    ax.set_aspect('equal')\n",
    "    ax.tick_params(length=4)\n",
    "# ax.set_zlabel('x')\n",
    "gs.tight_layout(fig)\n",
    "\n",
    "\n",
    "fname = 'slice_yz'\n",
    "for ext in exts:\n",
    "    filepath = figdir / (fname + ext)\n",
    "    fig.savefig(filepath, bbox_inches='tight', pad_inches=0, dpi=dpi)\n",
    "    print(\"Written file: {:s}\".format(str(filepath)))\n",
    "fig.clf()\n",
    "plt.close('all')"
   ]
  },
  {
   "cell_type": "code",
   "execution_count": null,
   "id": "69b7f5d0-215b-4a51-b043-7aa819e4ffd9",
   "metadata": {},
   "outputs": [],
   "source": [
    "fname = 'slice_yz'\n",
    "filepath = figdir / (fname + '.png')\n",
    "Image(filename=filepath, width=4./3*360)"
   ]
  },
  {
   "cell_type": "code",
   "execution_count": null,
   "id": "ecb303e3-29ad-4de7-9aa9-a60f264a299d",
   "metadata": {},
   "outputs": [],
   "source": [
    "nz = 11\n",
    "xspace = np.linspace(0,0.02,15)\n",
    "yspace = np.linspace(-1,1,15)[1:]\n",
    "zspace = np.linspace(-1,1,nz)\n",
    "args = [C,D]\n",
    "\n",
    "XX, YY, ZZ = np.meshgrid(xspace, yspace, zspace, indexing='ij')\n",
    "XX = np.ravel(XX)\n",
    "YY = np.ravel(YY)\n",
    "ZZ = np.ravel(ZZ)\n",
    "F = func_ode(0, [XX, YY, ZZ], *args)\n",
    "# fmax = np.max(np.abs(F[0]))\n",
    "fmax=1\n",
    "norm = mco.Normalize(vmin=-fmax, vmax=fmax)\n",
    "cmap = cm.seismic_r\n",
    "\n",
    "nrow = int(np.sqrt(nz))\n",
    "ncol = nrow\n",
    "while (nrow*ncol < nz):\n",
    "    ncol += 1\n",
    "fig = plt.figure(figsize=(3*ncol,3*nrow), dpi=300)\n",
    "gs = mgs.GridSpec(nrow,ncol)\n",
    "for n in range(nz):\n",
    "    XX, YY = np.meshgrid(xspace, yspace, indexing='ij')\n",
    "    XX = np.ravel(XX)\n",
    "    YY = np.ravel(YY)\n",
    "    ZZ = zspace[n]*np.ones(YY.shape)\n",
    "\n",
    "    F = func_ode(0, [XX, YY, ZZ], *args)\n",
    "    \n",
    "    ax = fig.add_subplot(gs[n])\n",
    "\n",
    "    color=cmap(norm(np.sign(np.ravel(F[0]))))\n",
    "    U = np.ravel(F[1])\n",
    "    V = np.ravel(F[2])\n",
    "    W = np.ravel(F[0])\n",
    "    unorm = np.sqrt(U**2+V**2+W**2)\n",
    "    U /= unorm\n",
    "    V /= unorm\n",
    "    W /= unorm\n",
    "    ax.quiver(YY, XX, U, W, color=color)\n",
    "# ax.plot(Y,Z,X,'r-', lw=1)\n",
    "    ax.set_xlabel('y')\n",
    "    ax.set_ylabel('x')\n",
    "    ax.set_title('z = {:.3f}'.format(zspace[n]))\n",
    "    ax.set_xlim(-1,1)\n",
    "#     ax.set_ylim(0,0.2)\n",
    "#     ax.set_aspect('equal')\n",
    "    ax.tick_params(length=4)\n",
    "# ax.set_zlabel('x')\n",
    "gs.tight_layout(fig)\n",
    "\n",
    "fname = 'slice_yx'\n",
    "for ext in exts:\n",
    "    filepath = figdir / (fname + ext)\n",
    "    fig.savefig(filepath, bbox_inches='tight', pad_inches=0, dpi=dpi)\n",
    "    print(\"Written file: {:s}\".format(str(filepath)))\n",
    "fig.clf()\n",
    "plt.close('all')"
   ]
  },
  {
   "cell_type": "code",
   "execution_count": null,
   "id": "5c0f8868-3b71-4684-8bc9-5b27ffc05ca0",
   "metadata": {},
   "outputs": [],
   "source": [
    "fname = 'slice_yx'\n",
    "filepath = figdir / (fname + '.png')\n",
    "Image(filename=filepath, width=4./3*360)"
   ]
  },
  {
   "cell_type": "code",
   "execution_count": null,
   "id": "196ff155-68fb-4a9c-9982-545420578507",
   "metadata": {},
   "outputs": [],
   "source": [
    "ysup = 0.5*D*(1. + np.sqrt(1. + 1./(C*D**2))) - 1.\n",
    "print(\"ysup = {:.4f}\".format(ysup))"
   ]
  },
  {
   "cell_type": "code",
   "execution_count": null,
   "id": "253962fa-0cc4-42ab-a2f8-f15b603f9216",
   "metadata": {},
   "outputs": [],
   "source": [
    "fig = plt.figure(figsize=(4,3), dpi=300)\n",
    "ax = fig.gca(projection='3d')\n",
    "seed = 123\n",
    "np.random.seed(123)\n",
    "tmax=1000\n",
    "\n",
    "eps = 1.0e-3   # final number of infected individuals\n",
    "\n",
    "y0_list = np.linspace(-0.9997,-0.98,11)\n",
    "for y0 in y0_list:\n",
    "    \n",
    "    z0 = y0 + 2*eps # so that S+I+R=1\n",
    "    x0 = 2*C*eps*(1+y0)\n",
    "    X0=np.array([x0,y0,z0])\n",
    "\n",
    "    t, x, y, z = wave_front_get_ode_sol(C, D, tmax=tmax, npts=1000, X0=X0)    \n",
    "    \n",
    "    ax.plot(y, z, x, '-', lw=0.5, color='darkblue')\n",
    "ax.plot([-1,D-1],[-1,D-1],[0,0], 'r-', lw=1)\n",
    "ax.plot([D-1,1],[D-1,1],[0,0], '-', lw=1, color='darkgreen')\n",
    "ax.plot([D-1,1, ysup],[D-1,1, ysup],[0,0,0], '-', lw=1, color='darkgreen')\n",
    "ax.plot([-1, 1],[-1, 1],[0,0], 'ks', ms=4)\n",
    "ax.plot([D-1, ysup],[D-1, ysup],[0,0], 'ko', ms=4)\n",
    "# ax.plot([1],[1],[0], 'ro', ms=4)\n",
    "ax.set_xlabel(\"y\", fontsize='large')\n",
    "ax.set_ylabel(\"z\", fontsize='large')\n",
    "ax.set_zlabel(\"x\", fontsize='large')\n",
    "ax.tick_params(length=4)\n",
    "# ax.set_xlim(-1,1)\n",
    "# ax.set_ylim(-1,1)\n",
    "# ax.set_zlim(0,2*C)\n",
    "# ax.legend(loc='upper right', fontsize='large')\n",
    "\n",
    "fname = 'trajectories'\n",
    "for ext in exts:\n",
    "    filepath = figdir / (fname + ext)\n",
    "    fig.savefig(filepath, bbox_inches='tight', pad_inches=0, dpi=dpi)\n",
    "    print(\"Written file: {:s}\".format(str(filepath)))\n",
    "fig.clf()\n",
    "plt.close('all')"
   ]
  },
  {
   "cell_type": "code",
   "execution_count": null,
   "id": "bd389be8-2961-44d7-b4f3-01aa35fbdd5c",
   "metadata": {},
   "outputs": [],
   "source": [
    "fname = 'trajectories'\n",
    "filepath = figdir / (fname + '.png')\n",
    "Image(filename=filepath, width=4./3*360)"
   ]
  },
  {
   "cell_type": "code",
   "execution_count": null,
   "id": "bda4586a-2383-45fd-a692-52da9233aa40",
   "metadata": {},
   "outputs": [],
   "source": [
    "fig = plt.figure(figsize=(4,3), dpi=300)\n",
    "ax = fig.gca(projection='3d')\n",
    "seed = 123\n",
    "np.random.seed(123)\n",
    "tmax=10000\n",
    "npts=10000\n",
    "small=1.0e-3\n",
    "\n",
    "eps = 1.0e-3   # final number of infected individuals\n",
    "\n",
    "for i in range(50):\n",
    "    y0 = small+(1-small)*np.random.rand()-1.\n",
    "    z0 = y0 + (1-y0)*np.random.rand()\n",
    "    x0 = np.random.rand()*C\n",
    "    \n",
    "    X0=np.array([x0,y0,z0])\n",
    "\n",
    "    t, x, y, z = wave_front_get_ode_sol(C, D, tmax=tmax, npts=npts, X0=X0)    \n",
    "    \n",
    "    ax.plot(y, z, x, '-', lw=0.5, color='darkblue')\n",
    "ax.plot([-1,D-1],[-1,D-1],[0,0], 'r-', lw=1)\n",
    "ax.plot([D-1,1],[D-1,1],[0,0], '-', lw=1, color='darkgreen')\n",
    "ax.plot([D-1,1, ysup],[D-1,1, ysup],[0,0,0], '-', lw=1, color='darkgreen')\n",
    "ax.plot([-1, 1],[-1, 1],[0,0], 'ks', ms=4)\n",
    "ax.plot([D-1, ysup],[D-1, ysup],[0,0], 'ko', ms=4)\n",
    "# ax.plot([1],[1],[0], 'ro', ms=4)\n",
    "ax.set_xlabel(\"y\", fontsize='large')\n",
    "ax.set_ylabel(\"z\", fontsize='large')\n",
    "ax.set_zlabel(\"x\", fontsize='large')\n",
    "ax.tick_params(length=4)\n",
    "ax.set_xlim(-1,2)\n",
    "ax.set_ylim(-1,2)\n",
    "ax.set_zlim(0,2*C)\n",
    "# ax.legend(loc='upper right', fontsize='large')\n",
    "\n",
    "fname = 'trajectories_random'\n",
    "for ext in exts:\n",
    "    filepath = figdir / (fname + ext)\n",
    "    fig.savefig(filepath, bbox_inches='tight', pad_inches=0, dpi=dpi)\n",
    "    print(\"Written file: {:s}\".format(str(filepath)))\n",
    "fig.clf()\n",
    "plt.close('all')"
   ]
  },
  {
   "cell_type": "code",
   "execution_count": null,
   "id": "325512b1-027b-4ef8-ad9e-9ed245209163",
   "metadata": {},
   "outputs": [],
   "source": [
    "fname = 'trajectories_random'\n",
    "filepath = figdir / (fname + '.png')\n",
    "Image(filename=filepath, width=4./3*360)"
   ]
  }
 ],
 "metadata": {
  "kernelspec": {
   "display_name": "Python 3",
   "language": "python",
   "name": "python3"
  },
  "language_info": {
   "codemirror_mode": {
    "name": "ipython",
    "version": 3
   },
   "file_extension": ".py",
   "mimetype": "text/x-python",
   "name": "python",
   "nbconvert_exporter": "python",
   "pygments_lexer": "ipython3",
   "version": "3.8.5"
  }
 },
 "nbformat": 4,
 "nbformat_minor": 5
}
