{
 "cells": [
  {
   "cell_type": "markdown",
   "id": "labeled-enhancement",
   "metadata": {},
   "source": [
    "# Fit of the SIR patch model to CSSE Sand Data\n",
    "\n",
    "[Index](0-index.ipynb)"
   ]
  },
  {
   "cell_type": "markdown",
   "id": "elementary-windsor",
   "metadata": {},
   "source": [
    "## Imports and global variables"
   ]
  },
  {
   "cell_type": "code",
   "execution_count": null,
   "id": "naked-intersection",
   "metadata": {},
   "outputs": [],
   "source": [
    "%load_ext autoreload\n",
    "%autoreload 2\n",
    "%matplotlib inline"
   ]
  },
  {
   "cell_type": "code",
   "execution_count": null,
   "id": "generous-visit",
   "metadata": {},
   "outputs": [],
   "source": [
    "from pathlib import Path\n",
    "import os,sys\n",
    "import numpy as np\n",
    "import pandas as pd\n",
    "import datetime\n",
    "import scipy\n",
    "from scipy.optimize import curve_fit\n",
    "\n",
    "import warnings\n",
    "warnings.filterwarnings('ignore')\n",
    "\n",
    "import matplotlib.pyplot as plt\n",
    "import matplotlib.colors as mco\n",
    "import matplotlib.gridspec as mgs\n",
    "import matplotlib.cm as cm\n",
    "from matplotlib.gridspec import GridSpec\n",
    "from matplotlib import animation\n",
    "plt.rcParams['svg.fonttype'] = 'none'\n",
    "\n",
    "from IPython.display import HTML\n",
    "from IPython.display import Image"
   ]
  },
  {
   "cell_type": "code",
   "execution_count": null,
   "id": "regional-aluminum",
   "metadata": {},
   "outputs": [],
   "source": [
    "sys.path.append(str(Path('..') / 'code'))\n",
    "from functions import fsigmoid, fsigmoid_jac, fit_sir"
   ]
  },
  {
   "cell_type": "code",
   "execution_count": null,
   "id": "skilled-heaven",
   "metadata": {},
   "outputs": [],
   "source": [
    "resdir = Path('../results/')\n",
    "if not resdir.is_dir():\n",
    "    raise ValueError('No results directory!')"
   ]
  },
  {
   "cell_type": "code",
   "execution_count": null,
   "id": "fatty-light",
   "metadata": {},
   "outputs": [],
   "source": [
    "resfile = resdir / 'safegraph_analysis.hdf5'\n",
    "complevel=7\n",
    "complib='zlib'\n",
    "with pd.HDFStore(resfile, complevel=complevel, complib=complib) as store:\n",
    "    print(f\"File {resfile.stem} has {len(store.keys())} entries.\")"
   ]
  },
  {
   "cell_type": "markdown",
   "id": "2351c504-f683-42e2-a6ea-b077b8965f1e",
   "metadata": {},
   "source": [
    "## Global variables and other quantities"
   ]
  },
  {
   "cell_type": "markdown",
   "id": "13e3df7d-b695-4b0f-b701-728d222d8bc1",
   "metadata": {},
   "source": [
    "### Global variables"
   ]
  },
  {
   "cell_type": "code",
   "execution_count": null,
   "id": "b3d0143e-9d25-48a8-aa15-496ca1401867",
   "metadata": {},
   "outputs": [],
   "source": [
    "gamma = 1/10.\n",
    "ti = '2020-03-01'\n",
    "tf = '2021-02-16'\n",
    "\n",
    "tfmt = '%Y-%m-%d'\n",
    "ti = datetime.datetime.strptime(ti, tfmt)\n",
    "tf = datetime.datetime.strptime(tf, tfmt)\n",
    "\n",
    "exts = ['.png', '.svg']"
   ]
  },
  {
   "cell_type": "markdown",
   "id": "ee213ca6-a155-40ed-ad50-d44dd652a59d",
   "metadata": {},
   "source": [
    "### Load clusters to get population"
   ]
  },
  {
   "cell_type": "code",
   "execution_count": null,
   "id": "65fdc01f-7fca-4930-af98-b65f46b9fca2",
   "metadata": {},
   "outputs": [],
   "source": [
    "key = \"/clustering/clusters\"\n",
    "with pd.HDFStore(resfile, complevel=complevel, complib=complib) as store:\n",
    "    clusters = store[key]\n",
    "# clusters = pd.read_hdf(resfile, key)\n",
    "N = len(clusters)\n",
    "print(f\"N = {N}\")\n",
    "clusters"
   ]
  },
  {
   "cell_type": "code",
   "execution_count": null,
   "id": "689905ec-2438-4c81-91a6-7f1d2d3680f8",
   "metadata": {},
   "outputs": [],
   "source": [
    "population = clusters['population'].to_numpy()\n",
    "population_inv = np.zeros(population.shape, dtype=np.float_)\n",
    "idx = population > 0.\n",
    "population_inv[idx] = 1./population[idx]"
   ]
  },
  {
   "cell_type": "markdown",
   "id": "110ac457-a284-426f-ab7c-fa357a870564",
   "metadata": {},
   "source": [
    "### Load CSSEGI data"
   ]
  },
  {
   "cell_type": "code",
   "execution_count": null,
   "id": "3f648389-824f-4935-a247-50716509f7e4",
   "metadata": {},
   "outputs": [],
   "source": [
    "path = '/clustering/cssegi'\n",
    "with pd.HDFStore(resfile, complevel=complevel, complib=complib) as store:\n",
    "    df_cssegi = store[path]\n",
    "\n",
    "times = df_cssegi.index\n",
    "idx = (times >= ti) & (times <= tf)\n",
    "df_cssegi.drop(index=times[~idx], inplace=True)\n",
    "times = df_cssegi.index.to_pydatetime().tolist()\n",
    "df_cssegi"
   ]
  },
  {
   "cell_type": "code",
   "execution_count": null,
   "id": "f4beadd7-2f27-43e7-a51b-2f92f7a966c8",
   "metadata": {},
   "outputs": [],
   "source": [
    "omega_real = df_cssegi.to_numpy().astype('float64')\n",
    "domega_real = np.diff(omega_real, axis=0)\n",
    "domega_real = np.concatenate([omega_real[0].reshape(1,-1), domega_real], axis=0)"
   ]
  },
  {
   "cell_type": "code",
   "execution_count": null,
   "id": "8750f96a-c409-4452-b8f9-f749cec2e156",
   "metadata": {},
   "outputs": [],
   "source": [
    "# compute the real epidemic sizes per community through time\n",
    "T_real = np.einsum('ta,a->ta', omega_real, population_inv)\n",
    "dT_real = np.einsum('ta,a->ta', domega_real, population_inv)\n",
    "T_tot_real = np.einsum('ta,a->t', T_real, population) / np.sum(population)\n",
    "dT_tot_real = np.einsum('ta,a->t', dT_real, population) / np.sum(population)"
   ]
  },
  {
   "cell_type": "markdown",
   "id": "0249a79b-7969-4abb-b420-41a830a753db",
   "metadata": {},
   "source": [
    "Show the total epidemic size from real data"
   ]
  },
  {
   "cell_type": "code",
   "execution_count": null,
   "id": "1ec1cc68-609f-464d-9304-84da6e0edbf8",
   "metadata": {},
   "outputs": [],
   "source": [
    "plt.plot(times, T_tot_real)\n",
    "plt.gca().set_yscale('log')"
   ]
  },
  {
   "cell_type": "markdown",
   "id": "9b7f607a-bc6d-4eb6-89da-72320ff4efae",
   "metadata": {},
   "source": [
    "Show the initial condition"
   ]
  },
  {
   "cell_type": "code",
   "execution_count": null,
   "id": "8dc76d92-55ef-4a50-baee-302c102cac03",
   "metadata": {},
   "outputs": [],
   "source": [
    "X = clusters.index.to_numpy()\n",
    "Y = np.einsum('ta,a->ta', T_real, population)[0]\n",
    "idx = Y > 0\n",
    "plt.plot(X[idx],Y[idx], 'bo')"
   ]
  },
  {
   "cell_type": "markdown",
   "id": "f8c59060-8d2e-43a1-91e2-a433c15be4c9",
   "metadata": {},
   "source": [
    "## Prepare the infectivity matrices for the fit"
   ]
  },
  {
   "cell_type": "code",
   "execution_count": null,
   "id": "a42eaeb0-ebab-4dc7-8bb6-c9631e5cfaf4",
   "metadata": {},
   "outputs": [],
   "source": [
    "# global variable\n",
    "pathtofit = Path('/fit')"
   ]
  },
  {
   "cell_type": "code",
   "execution_count": null,
   "id": "bfd68bb0-ba8b-4d00-9128-34048bd22e09",
   "metadata": {},
   "outputs": [],
   "source": [
    "from functions import get_infectivity_matrix"
   ]
  },
  {
   "cell_type": "code",
   "execution_count": null,
   "id": "8791857e-7d0d-4880-8acf-ec2809441280",
   "metadata": {},
   "outputs": [],
   "source": [
    "# first check that all times have an associated flux matrix\n",
    "pathtoflux = '/fluxes'\n",
    "time_fluxes = []\n",
    "# read the mean flux matrix\n",
    "with pd.HDFStore(resfile, complevel=complevel, complib=complib) as store:\n",
    "    for rt, dirs, files in store.walk(pathtoflux):\n",
    "        for f in files:\n",
    "            t = datetime.datetime.strptime(f, tfmt)\n",
    "            time_fluxes.append(t)\n",
    "\n",
    "time_fluxes.sort()\n",
    "\n",
    "for t in times:\n",
    "    if not t in time_fluxes:\n",
    "        raise ValueError(\"Some dates don't have an associated flux matrix\")"
   ]
  },
  {
   "cell_type": "code",
   "execution_count": null,
   "id": "62d0278c-47a6-4cdd-acfe-b57e62f08bd4",
   "metadata": {},
   "outputs": [],
   "source": [
    "# Method 1 - Averaging the flux matrix\n",
    "pathtoflux = Path('/fluxes')\n",
    "\n",
    "N = len(clusters)\n",
    "L = np.zeros((N,N), dtype=np.float_)\n",
    "with pd.HDFStore(resfile, complevel=complevel, complib=complib) as store:\n",
    "    for t in times:\n",
    "        mykey = pathtoflux / t.strftime(tfmt)\n",
    "        mykey = str(mykey)\n",
    "        df_flux = store[mykey]\n",
    "        L += df_flux.to_numpy().astype('float64')\n",
    "L /= len(times)\n",
    "L = get_infectivity_matrix(L)\n",
    "df_loc = pd.DataFrame(data=L, index=clusters.index, columns=clusters.index)\n",
    "\n",
    "pathtoloc = pathtofit / 'infectivity_matrices'\n",
    "with pd.HDFStore(resfile, complevel=complevel, complib=complib) as store:\n",
    "    mykey = str(pathtoloc / times[0].strftime(tfmt))\n",
    "    store[mykey] = df_loc"
   ]
  },
  {
   "cell_type": "code",
   "execution_count": null,
   "id": "f8ed0776-7a19-428d-9c73-2048cea9710d",
   "metadata": {},
   "outputs": [],
   "source": [
    "# export infectivity matrix (unscaled)\n",
    "expdir = resdir / 'csv'\n",
    "if not expdir.is_dir():\n",
    "    expdir.mkdir()\n",
    "\n",
    "fname = 'infectivity_mean.csv'\n",
    "df_loc.to_csv(expdir / fname)"
   ]
  },
  {
   "cell_type": "code",
   "execution_count": null,
   "id": "7f4b89cf-f7a8-4959-8e10-4aa8c2dee205",
   "metadata": {},
   "outputs": [],
   "source": [
    "# # Method 2 - Averaging the infectivity matrices\n",
    "# pathtoflux = Path('/fluxes')\n",
    "\n",
    "# N = len(clusters)\n",
    "# L = np.zeros((N,N), dtype=np.float_)\n",
    "# with pd.HDFStore(resfile, complevel=complevel, complib=complib) as store:\n",
    "#     for t in times:\n",
    "#         mykey = pathtoflux / t.strftime(tfmt)\n",
    "#         mykey = str(mykey)\n",
    "#         df_flux = store[mykey]\n",
    "#         L += get_infectivity_matrix(df_flux.to_numpy().astype('float64'))\n",
    "# L /= len(times)\n",
    "# df_loc = pd.DataFrame(data=L, index=clusters.index, columns=clusters.index)\n",
    "\n",
    "# pathtoloc = pathtofit / 'infectivity_matrices'\n",
    "# with pd.HDFStore(resfile, complevel=complevel, complib=complib) as store:\n",
    "#     mykey = str(pathtoloc / times[0].strftime(tfmt))\n",
    "#     store[mykey] = df_loc"
   ]
  },
  {
   "cell_type": "markdown",
   "id": "aafb9b13-dca7-4ec7-9662-ab7118140d3d",
   "metadata": {},
   "source": [
    "## Perform the fit"
   ]
  },
  {
   "cell_type": "code",
   "execution_count": null,
   "id": "5ebbce70-53e1-4244-903c-9a6ea3069fab",
   "metadata": {},
   "outputs": [],
   "source": [
    "print(\"Reading infectivity matrices from: {:s}\".format(str(pathtoloc)))\n",
    "with pd.HDFStore(resfile, complevel=complevel, complib=complib) as store:\n",
    "    df_S, df_I, df_fit = fit_sir(times, T_real, gamma, population, store, pathtoloc, tfmt=tfmt, verbose=True)\n",
    "\n",
    "path = pathtofit / 'result'\n",
    "with pd.HDFStore(resfile, complevel=complevel, complib=complib) as store:\n",
    "    mykey = str(path / 'susceptible')\n",
    "    store[mykey] = df_S\n",
    "    \n",
    "    mykey = str(path / 'infected')\n",
    "    store[mykey] = df_I\n",
    "    \n",
    "    mykey = str(path / 'fit')\n",
    "    store[mykey] = df_fit"
   ]
  },
  {
   "cell_type": "markdown",
   "id": "a96dc904-fee0-471f-a8f5-bab3bef3d75d",
   "metadata": {},
   "source": [
    "## Show agreement with CSSEGI data"
   ]
  },
  {
   "cell_type": "code",
   "execution_count": null,
   "id": "0978f0f7-82e3-47ee-96cb-3f2c9b27fe37",
   "metadata": {},
   "outputs": [],
   "source": [
    "figdir = Path('../figures') / '5-SIR_dynamics_fit'\n",
    "if not figdir.is_dir():\n",
    "    figdir.mkdir(parents=True, exist_ok=True)"
   ]
  },
  {
   "cell_type": "code",
   "execution_count": null,
   "id": "f3b7c30b-5e5a-44c3-a9f5-da13cd9b62d6",
   "metadata": {},
   "outputs": [],
   "source": [
    "path = pathtofit / 'result'\n",
    "with pd.HDFStore(resfile, complevel=complevel, complib=complib) as store:\n",
    "    mykey = str(path / 'susceptible')\n",
    "    df_S = store[mykey]\n",
    "    \n",
    "    mykey = str(path / 'infected')\n",
    "    df_I = store[mykey]"
   ]
  },
  {
   "cell_type": "code",
   "execution_count": null,
   "id": "6731ab4d-5210-40b2-90be-ba8cad7d1ea9",
   "metadata": {},
   "outputs": [],
   "source": [
    "idx = df_S.index.to_pydatetime().tolist()\n",
    "idx.sort()\n",
    "if (idx != times):\n",
    "    raise ValueError(\"Incompatible times!\")\n",
    "\n",
    "S = df_S.to_numpy().astype('float64')\n",
    "T = (1. - S)\n",
    "dT = np.diff(T, axis=0)\n",
    "dT = np.concatenate([T[0].reshape(1,-1), dT], axis=0)\n",
    "\n",
    "df_T = pd.DataFrame(data=T, index=times, columns=df_S.columns)\n",
    "df_dT = pd.DataFrame(data=dT, index=times, columns=df_S.columns)\n",
    "\n",
    "T_tot = np.einsum('ta,a', T, population) / np.sum(population)\n",
    "dT_tot = np.einsum('ta,a', dT, population) / np.sum(population)"
   ]
  },
  {
   "cell_type": "code",
   "execution_count": null,
   "id": "5e81c2a9-b0ec-498c-b365-7e26726050c4",
   "metadata": {},
   "outputs": [],
   "source": [
    "# parameters\n",
    "figsize = (6,4.5)\n",
    "dpi = 300\n",
    "ms=2\n",
    "lw=1\n",
    "show_dT=True\n",
    "\n",
    "\n",
    "fig = plt.figure(facecolor='w', figsize=figsize)\n",
    "ax = fig.gca()\n",
    "\n",
    "if show_dT:\n",
    "    ax.plot(times,dT_tot, '-', ms=ms, color='darkblue')\n",
    "    ax.plot(times,dT_tot_real, 'o', lw=lw, color='red')\n",
    "    ax.set_ylabel(\"$d T$\", fontsize=\"medium\")\n",
    "    fname = 'domega_tot_fit'\n",
    "else:\n",
    "    ax.plot(times,omega_tot, 'o', ms=ms, color='darkblue')\n",
    "    ax.plot(times,omega_tot_real, '-', lw=lw, color='red')\n",
    "    ax.set_ylabel(\"$T$\", fontsize=\"medium\")\n",
    "    ax.set_yscale('log')\n",
    "    fname = 'omega_tot_fit'\n",
    "\n",
    "ax.set_xlim(times[0],None)\n",
    "plt.xticks(rotation=45)\n",
    "ax.spines['right'].set_visible(False)\n",
    "ax.spines['top'].set_visible(False)\n",
    "ax.tick_params(left=True, labelleft=True, bottom=True, labelbottom=True)\n",
    "ax.tick_params(axis='both', length=4)\n",
    "fig.tight_layout()\n",
    "\n",
    "for ext in exts:\n",
    "    filepath = figdir / (fname + ext)\n",
    "    fig.savefig(filepath, bbox_inches='tight', pad_inches=0, dpi=dpi)\n",
    "    print(\"Written file: {:s}\".format(str(filepath)))\n",
    "fig.clf()\n",
    "plt.close('all')"
   ]
  },
  {
   "cell_type": "code",
   "execution_count": null,
   "id": "08278642-6e5d-495e-b4f2-45e20322dde3",
   "metadata": {},
   "outputs": [],
   "source": [
    "filepath = figdir / (fname + '.png')\n",
    "Image(filename=filepath, width=4./3*360)"
   ]
  },
  {
   "cell_type": "markdown",
   "id": "863429d7-e416-455f-8179-17b09c917fcd",
   "metadata": {},
   "source": [
    "## Fit the scale"
   ]
  },
  {
   "cell_type": "code",
   "execution_count": null,
   "id": "9c5a4c42-fca5-4c52-b2ad-69a9473ad472",
   "metadata": {},
   "outputs": [],
   "source": [
    "path = pathtofit / 'result'\n",
    "with pd.HDFStore(resfile, complevel=complevel, complib=complib) as store:\n",
    "    mykey = str(path / 'fit')\n",
    "    df_fit = store[mykey]"
   ]
  },
  {
   "cell_type": "code",
   "execution_count": null,
   "id": "fb8191be-7569-4a3e-a5a9-76f93e2677af",
   "metadata": {},
   "outputs": [],
   "source": [
    "# fit to sigmoid\n",
    "df_idx = df_fit.dropna().index\n",
    "X = (df_idx - df_idx[0]).days.to_numpy().astype('float64')\n",
    "Y = df_fit.loc[df_idx, \"scale\"].to_numpy().astype('float64')\n",
    "\n",
    "popt, pcov = curve_fit(fsigmoid, X, Y, p0=[0.,0.,0.,0.], jac=fsigmoid_jac, method='lm')\n",
    "\n",
    "Ysigmoid = fsigmoid(X, *popt).astype('float64')\n",
    "\n",
    "# build step function\n",
    "a, b, c, d = popt\n",
    "A = a+c\n",
    "B = c\n",
    "x0 = int(np.round(b)) # must be an integer to represent a day\n",
    "\n",
    "Ystep = np.ones(len(X), dtype=np.float_)*A\n",
    "idx = X>=x0\n",
    "Ystep[idx] = B"
   ]
  },
  {
   "cell_type": "code",
   "execution_count": null,
   "id": "a40ae2f0-5645-42dc-9964-3da6c80fbfec",
   "metadata": {},
   "outputs": [],
   "source": [
    "df_fit['scale_sigmoid'] = None\n",
    "df_fit.loc[df_idx, 'scale_sigmoid'] = Ysigmoid\n",
    "\n",
    "df_fit['scale_step'] = None\n",
    "df_fit.loc[df_idx, 'scale_step'] = Ystep\n",
    "\n",
    "path = pathtofit / 'result'\n",
    "with pd.HDFStore(resfile, complevel=complevel, complib=complib) as store:    \n",
    "    mykey = str(path / 'fit')\n",
    "    store[mykey] = df_fit\n",
    "\n",
    "expdir = resdir / 'csv'\n",
    "if not expdir.is_dir():\n",
    "    expdir.mkdir()\n",
    "\n",
    "fname = 'fit_scale.csv'\n",
    "df_fit.to_csv(expdir / fname)"
   ]
  },
  {
   "cell_type": "code",
   "execution_count": null,
   "id": "f7e7e6f2-c550-48b2-928b-5c36410b7c30",
   "metadata": {},
   "outputs": [],
   "source": [
    "path = pathtofit / 'result'\n",
    "with pd.HDFStore(resfile, complevel=complevel, complib=complib) as store:\n",
    "    mykey = str(path / 'fit')\n",
    "    df_fit = store[mykey]\n",
    "    \n",
    "df_fit"
   ]
  },
  {
   "cell_type": "code",
   "execution_count": null,
   "id": "68e27285-308f-47b7-882a-5a9abe1c5aa0",
   "metadata": {},
   "outputs": [],
   "source": [
    "# parameters\n",
    "figsize = (8,4.5)\n",
    "dpi = 300\n",
    "ms=2\n",
    "lw=1\n",
    "\n",
    "X = df_fit.dropna().index\n",
    "Y, Ysigmoid, Ystep = df_fit.dropna().loc[:,['scale', 'scale_sigmoid','scale_step']].to_numpy().astype('float64').T\n",
    "\n",
    "fig = plt.figure(facecolor='w', figsize=figsize)\n",
    "ax = fig.gca()\n",
    "\n",
    "ax.plot(X,Y, 'o', ms=ms, color='k')\n",
    "ax.plot(X,Ysigmoid, '-', lw=lw, color='darkblue')\n",
    "ax.plot(X,Ystep, '-', lw=lw, color='darkgreen')\n",
    "\n",
    "ax.set_xlim(X[0],None)\n",
    "# ax.set_ylim(1.0e-7, 1.0e-1)\n",
    "ax.set_xlabel(\"date\", fontsize=\"medium\")\n",
    "ax.set_ylabel(\"$p \\\\beta$\", fontsize=\"medium\")\n",
    "plt.xticks(rotation=45)\n",
    "ax.spines['right'].set_visible(False)\n",
    "ax.spines['top'].set_visible(False)\n",
    "ax.tick_params(left=True, labelleft=True, bottom=True, labelbottom=True)\n",
    "ax.tick_params(axis='both', length=4)\n",
    "fig.tight_layout()\n",
    "\n",
    "fname = 'scales'\n",
    "for ext in exts:\n",
    "    filepath = figdir / (fname + ext)\n",
    "    fig.savefig(filepath, bbox_inches='tight', pad_inches=0, dpi=dpi)\n",
    "    print(\"Written file: {:s}\".format(str(filepath)))\n",
    "fig.clf()\n",
    "plt.close('all')"
   ]
  },
  {
   "cell_type": "code",
   "execution_count": null,
   "id": "1b7f7679-3f91-4cd0-b0a5-c386e21425f8",
   "metadata": {},
   "outputs": [],
   "source": [
    "filepath = figdir / (fname + '.png')\n",
    "Image(filename=filepath, width=4./3*360)"
   ]
  },
  {
   "cell_type": "markdown",
   "id": "cd8169f5-1cfe-4207-804c-a206328259bc",
   "metadata": {},
   "source": [
    "Retrieving the shift-time"
   ]
  },
  {
   "cell_type": "code",
   "execution_count": null,
   "id": "f62cc728-6358-42db-8657-b5dabefcfacd",
   "metadata": {},
   "outputs": [],
   "source": [
    "b_scales = df_fit['scale_step'].fillna(value=np.nan).to_numpy()\n",
    "ic = np.nanargmax(np.abs(np.diff(b_scales))) + 1\n",
    "tc = df_fit.index[ic]\n",
    "print(f\"lockdown at t = {tc}\")"
   ]
  },
  {
   "cell_type": "code",
   "execution_count": null,
   "id": "58a1b070-3923-441d-8eec-337ac59e9b9a",
   "metadata": {},
   "outputs": [],
   "source": [
    "df_fit.iloc[ic-1:ic+2]"
   ]
  },
  {
   "cell_type": "markdown",
   "id": "4dc0b1e4-c818-43c6-8d5b-a9f814ce2f22",
   "metadata": {},
   "source": [
    "## Show local agreement between reported cases and the model"
   ]
  },
  {
   "cell_type": "code",
   "execution_count": null,
   "id": "145e65f1-711f-4440-b68d-ba7ff15a6181",
   "metadata": {},
   "outputs": [],
   "source": [
    "from dateutil.relativedelta import relativedelta"
   ]
  },
  {
   "cell_type": "markdown",
   "id": "686fa9dc-499e-4cf7-b839-984554bf8bc7",
   "metadata": {},
   "source": [
    "Show $T_a$"
   ]
  },
  {
   "cell_type": "code",
   "execution_count": null,
   "id": "6c6767a8-3925-478f-a312-84a34b6b743c",
   "metadata": {},
   "outputs": [],
   "source": [
    "# parameters\n",
    "vmin = 1.0e0\n",
    "vmax = 1.0e6\n",
    "cmap = cm.rainbow\n",
    "figsize=(4,3)\n",
    "dpi=300\n",
    "\n",
    "## color mapping with date value\n",
    "indices = np.arange(len(times))\n",
    "norm = mco.Normalize(vmin=np.min(indices), vmax=np.max(indices))\n",
    "colors = cmap(norm(indices))\n",
    "\n",
    "## make figure\n",
    "fig = plt.figure(facecolor='w', figsize=figsize, dpi=dpi)\n",
    "ax = fig.gca()\n",
    "\n",
    "for i in range(len(times)):\n",
    "    t = times[i]\n",
    "    X = T_real[i]*population\n",
    "    Y = T[i]*population\n",
    "    \n",
    "    ax.plot(X, Y, 'o', color=colors[i], lw=0, mew=0, ms=2, alpha=0.1)    \n",
    "\n",
    "ax.plot([vmin, vmax], [vmin, vmax], 'k-', lw=0.5)\n",
    "# plot formatting\n",
    "ax.set_xlabel(\"$T_a^{real}$\", fontsize='medium')\n",
    "ax.set_ylabel(\"$T_a$\", fontsize='medium')\n",
    "ax.spines['right'].set_visible(False)\n",
    "ax.spines['top'].set_visible(False)\n",
    "ax.tick_params(bottom=True, left=True, labelbottom=True, labelleft=True)\n",
    "ax.tick_params(length=4)\n",
    "ax.set_xlim(vmin, vmax)\n",
    "ax.set_ylim(vmin, vmax)\n",
    "ax.set_xscale('log')\n",
    "ax.set_yscale('log')\n",
    "ax.set_aspect('equal')\n",
    "        \n",
    "    \n",
    "fig.tight_layout(rect=[0.,0.,0.95,1.])\n",
    "cax = fig.add_axes(rect=[0.99,0.2,0.01,0.7])\n",
    "cbar = plt.colorbar(cm.ScalarMappable(norm=norm, cmap=cmap),cax=cax, extendfrac='auto')\n",
    "nmonth = (times[-1].year-times[0].year)*12 + (times[-1].month-times[0].month)\n",
    "tick_values = np.array([times[0] + relativedelta(months=i) for i in range(nmonth+1)])\n",
    "tick_values = tick_values[::2]\n",
    "ticks = [times.index(t) for t in tick_values]\n",
    "# labels = [times[(t-1)*window].strftime('%Y-%m-%d') for t in np.array(ticks, dtype=np.int_)]\n",
    "labels = [t.strftime('%Y-%m-%d') for t in tick_values]\n",
    "cbar.set_ticks(ticks)\n",
    "cbar.set_ticklabels(labels)\n",
    "\n",
    "fname = 'T_model_vs_real'\n",
    "for ext in exts:\n",
    "    filepath = figdir / (fname + ext)\n",
    "    fig.savefig(filepath, bbox_inches='tight', pad_inches=0, dpi=dpi)\n",
    "    print(\"Written file: {:s}\".format(str(filepath)))\n",
    "fig.clf()\n",
    "plt.close('all')\n",
    "# plt.show()"
   ]
  },
  {
   "cell_type": "code",
   "execution_count": null,
   "id": "a6b2842b-26f6-4cc5-816f-5fe4026887ab",
   "metadata": {},
   "outputs": [],
   "source": [
    "filepath = figdir / (fname + '.png')\n",
    "Image(filename=filepath, width=4./3*360)"
   ]
  },
  {
   "cell_type": "markdown",
   "id": "cae10857-9726-4e5e-90d8-9aa176c92e26",
   "metadata": {},
   "source": [
    "Show $dT_a$"
   ]
  },
  {
   "cell_type": "code",
   "execution_count": null,
   "id": "6b49239a-8815-4184-a7a9-cd57d1abb118",
   "metadata": {},
   "outputs": [],
   "source": [
    "# parameters\n",
    "vmin = 1.0e0\n",
    "vmax = 1.0e4\n",
    "cmap = cm.rainbow\n",
    "figsize=(4,3)\n",
    "dpi=300\n",
    "\n",
    "## color mapping with date value\n",
    "indices = np.arange(len(times))\n",
    "norm = mco.Normalize(vmin=np.min(indices), vmax=np.max(indices))\n",
    "colors = cmap(norm(indices))\n",
    "\n",
    "## make figure\n",
    "fig = plt.figure(facecolor='w', figsize=figsize, dpi=dpi)\n",
    "ax = fig.gca()\n",
    "\n",
    "for i in range(len(times)):\n",
    "    t = times[i]\n",
    "    X = dT_real[i]*population\n",
    "    Y = dT[i]*population\n",
    "    \n",
    "    ax.plot(X, Y, 'o', color=colors[i], lw=0, mew=0, ms=2, alpha=0.1)    \n",
    "\n",
    "ax.plot([vmin, vmax], [vmin, vmax], 'k-', lw=0.5)\n",
    "# plot formatting\n",
    "ax.set_xlabel(\"$dT_a^{real}$\", fontsize='medium')\n",
    "ax.set_ylabel(\"$dT_a$\", fontsize='medium')\n",
    "ax.spines['right'].set_visible(False)\n",
    "ax.spines['top'].set_visible(False)\n",
    "ax.tick_params(bottom=True, left=True, labelbottom=True, labelleft=True)\n",
    "ax.tick_params(length=4)\n",
    "ax.set_xlim(vmin, vmax)\n",
    "ax.set_ylim(vmin, vmax)\n",
    "ax.set_xscale('log')\n",
    "ax.set_yscale('log')\n",
    "ax.set_aspect('equal')\n",
    "    \n",
    "fig.tight_layout(rect=[0.,0.,0.95,1.])\n",
    "cax = fig.add_axes(rect=[0.99,0.2,0.01,0.7])\n",
    "cbar = plt.colorbar(cm.ScalarMappable(norm=norm, cmap=cmap),cax=cax, extendfrac='auto')\n",
    "nmonth = (times[-1].year-times[0].year)*12 + (times[-1].month-times[0].month)\n",
    "tick_values = np.array([times[0] + relativedelta(months=i) for i in range(nmonth+1)])\n",
    "tick_values = tick_values[::2]\n",
    "ticks = [times.index(t) for t in tick_values]\n",
    "\n",
    "labels = [t.strftime('%Y-%m-%d') for t in tick_values]\n",
    "cbar.set_ticks(ticks)\n",
    "cbar.set_ticklabels(labels)\n",
    "\n",
    "\n",
    "fname = 'dT_model_vs_real'\n",
    "for ext in exts:\n",
    "    filepath = figdir / (fname + ext)\n",
    "    fig.savefig(filepath, bbox_inches='tight', pad_inches=0, dpi=dpi)\n",
    "    print(\"Written file: {:s}\".format(str(filepath)))\n",
    "fig.clf()\n",
    "plt.close('all')\n",
    "# plt.show()"
   ]
  },
  {
   "cell_type": "code",
   "execution_count": null,
   "id": "c1cc5969-ea77-40a7-b343-4c852a9ce705",
   "metadata": {},
   "outputs": [],
   "source": [
    "filepath = figdir / (fname + '.png')\n",
    "Image(filename=filepath, width=4./3*360)"
   ]
  },
  {
   "cell_type": "markdown",
   "id": "138044f3-9116-4012-a087-4d97c0b81cc1",
   "metadata": {},
   "source": [
    "## Show time-dependent profile"
   ]
  },
  {
   "cell_type": "code",
   "execution_count": null,
   "id": "1ddee519-6574-4f6f-9838-f628ecbd64b6",
   "metadata": {},
   "outputs": [],
   "source": [
    "from functions import plot_omega_profile"
   ]
  },
  {
   "cell_type": "code",
   "execution_count": null,
   "id": "cf0d1296-e5f7-4898-bf5f-264fbed02080",
   "metadata": {},
   "outputs": [],
   "source": [
    "# parameters\n",
    "dpi=150\n",
    "fps=10\n",
    "figsize=(6, 4.5)\n",
    "lw=0.5\n",
    "ms=4\n",
    "\n",
    "mydir = figdir / 'profiles'\n",
    "if not mydir.is_dir():\n",
    "    mydir.mkdir(parents=True, exist_ok=True)\n",
    "\n",
    "fpath = mydir / 'profile_T.mp4'\n",
    "T_list = np.array([np.einsum('ta,a->ta', T_real[:,:],population), np.einsum('ta,a->ta', T[:,:], population)])\n",
    "ylabel=\"$T_a$\"\n",
    "# T_list = np.array([np.einsum('ta,a->ta', domega_real, population), np.einsum('ta,a->ta', dT, population)]) / np.sum(population)\n",
    "plot_omega_profile(T_list, times, labels=['real', 'model'], colors=['red', 'darkblue'], \\\n",
    "                   fileout=fpath, tpdir=mydir / 'snapshots_T', dpi=dpi, fps=fps, figsize=figsize, ylabel=ylabel, \\\n",
    "                   lw=lw, ms=ms, styles=['o', '-'], deletetp=False, exts=['.png','.svg'], ymin=1.)\n",
    "\n",
    "fpath = mydir / 'profile_dT.mp4'\n",
    "T_list = np.array([np.einsum('ta,a->ta', dT_real[:,:],population), np.einsum('ta,a->ta', dT[:,:], population)])\n",
    "ylabel=\"$dT_a$\"\n",
    "plot_omega_profile(T_list, times, labels=['real', 'model'], colors=['red', 'darkblue'], \\\n",
    "                   fileout=fpath, tpdir=mydir / 'snapshots_dT', dpi=dpi, fps=fps, figsize=figsize, ylabel=ylabel, \\\n",
    "                   lw=lw, ms=ms, styles=['o', '-'], deletetp=False, exts=['.png','.svg'], ymin=1.)"
   ]
  },
  {
   "cell_type": "code",
   "execution_count": null,
   "id": "fc0c4038-5adf-4b2c-97c9-2c8db8e04d19",
   "metadata": {},
   "outputs": [],
   "source": [
    "fpath = figdir / 'profiles' / 'profile_T.mp4'\n",
    "HTML(\"\"\"\n",
    "<video height=\"360\" controls>\n",
    "  <source src=\"{:s}\" type=\"video/mp4\">\n",
    "</video>\n",
    "\"\"\".format(str(fpath)))"
   ]
  },
  {
   "cell_type": "code",
   "execution_count": null,
   "id": "d3b57023-56f5-43dc-88f8-cafbc7238a39",
   "metadata": {},
   "outputs": [],
   "source": [
    "fpath = figdir / 'profiles' / 'profile_dT.mp4'\n",
    "HTML(\"\"\"\n",
    "<video height=\"360\" controls>\n",
    "  <source src=\"{:s}\" type=\"video/mp4\">\n",
    "</video>\n",
    "\"\"\".format(str(fpath)))"
   ]
  },
  {
   "cell_type": "markdown",
   "id": "96b98581-4012-4782-84ce-c6f50389960f",
   "metadata": {},
   "source": [
    "## Show time-dependent map"
   ]
  },
  {
   "cell_type": "code",
   "execution_count": null,
   "id": "d61a23a9-5d70-4841-b869-5ca1b7fce230",
   "metadata": {},
   "outputs": [],
   "source": [
    "from functions import plot_omega_map"
   ]
  },
  {
   "cell_type": "code",
   "execution_count": null,
   "id": "a2cb25f3-d39a-48ed-a097-82ddcba32e08",
   "metadata": {},
   "outputs": [],
   "source": [
    "# parameters\n",
    "dpi=150\n",
    "fps=10\n",
    "figsize=(6, 4.5)\n",
    "lw=0.5\n",
    "ms=4\n",
    "idump=1\n",
    "\n",
    "mydir = figdir / 'maps'\n",
    "if not mydir.is_dir():\n",
    "    mydir.mkdir(parents=True, exist_ok=True)\n",
    "\n",
    "\n",
    "fpath = mydir / 'map_T.mp4'\n",
    "plot_omega_map(np.einsum('ta,a->ta', T, population), times, XY=clusters.loc[:, ['X', 'Y']].to_numpy().T, \\\n",
    "fileout=fpath, tpdir=mydir / 'snapshots_T', dpi=dpi, fps=fps, figsize=figsize, idump=idump, \\\n",
    "               clabel=\"$T$\", vmin=1., deletetp=False, exts=['.png','.svg'])\n",
    "    \n",
    "fpath = mydir / 'map_dT.mp4'\n",
    "plot_omega_map(np.einsum('ta,a->ta', dT, population), times, XY=clusters.loc[:, ['X', 'Y']].to_numpy().T, \\\n",
    "fileout=fpath, tpdir=mydir / 'snapshots_dT', dpi=dpi, fps=fps, figsize=figsize, idump=idump, \\\n",
    "               clabel=\"$dT$\", vmin=1., deletetp=False, exts=['.png','.svg'])"
   ]
  },
  {
   "cell_type": "code",
   "execution_count": null,
   "id": "3103dfbc-ace6-46c7-9de3-62a96951af43",
   "metadata": {},
   "outputs": [],
   "source": [
    "fpath = figdir / 'maps' / 'map_T.mp4'\n",
    "HTML(\"\"\"\n",
    "<video height=\"360\" controls>\n",
    "  <source src=\"{:s}\" type=\"video/mp4\">\n",
    "</video>\n",
    "\"\"\".format(str(fpath)))"
   ]
  },
  {
   "cell_type": "code",
   "execution_count": null,
   "id": "66886942-39f4-454a-80f8-0be50234447e",
   "metadata": {},
   "outputs": [],
   "source": [
    "fpath = figdir / 'maps' / 'map_dT.mp4'\n",
    "HTML(\"\"\"\n",
    "<video height=\"360\" controls>\n",
    "  <source src=\"{:s}\" type=\"video/mp4\">\n",
    "</video>\n",
    "\"\"\".format(str(fpath)))"
   ]
  }
 ],
 "metadata": {
  "kernelspec": {
   "display_name": "Python 3",
   "language": "python",
   "name": "python3"
  },
  "language_info": {
   "codemirror_mode": {
    "name": "ipython",
    "version": 3
   },
   "file_extension": ".py",
   "mimetype": "text/x-python",
   "name": "python",
   "nbconvert_exporter": "python",
   "pygments_lexer": "ipython3",
   "version": "3.8.5"
  }
 },
 "nbformat": 4,
 "nbformat_minor": 5
}
